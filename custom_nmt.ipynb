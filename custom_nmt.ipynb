{
  "nbformat": 4,
  "nbformat_minor": 0,
  "metadata": {
    "colab": {
      "provenance": [],
      "gpuType": "T4",
      "authorship_tag": "ABX9TyMe0nXrp4hj9NY637XSZy8X",
      "include_colab_link": true
    },
    "kernelspec": {
      "name": "python3",
      "display_name": "Python 3"
    },
    "language_info": {
      "name": "python"
    },
    "accelerator": "GPU"
  },
  "cells": [
    {
      "cell_type": "markdown",
      "metadata": {
        "id": "view-in-github",
        "colab_type": "text"
      },
      "source": [
        "<a href=\"https://colab.research.google.com/github/Calcifer777/learn-nlp/blob/main/custom_nmt.ipynb\" target=\"_parent\"><img src=\"https://colab.research.google.com/assets/colab-badge.svg\" alt=\"Open In Colab\"/></a>"
      ]
    },
    {
      "cell_type": "code",
      "source": [
        "!pip install -q transformers torchmetrics"
      ],
      "metadata": {
        "id": "-Jz8uCGbfi0x"
      },
      "execution_count": 9,
      "outputs": []
    },
    {
      "cell_type": "code",
      "source": [
        "%matplotlib inline"
      ],
      "metadata": {
        "id": "I2U-M7e_BiE-"
      },
      "execution_count": 1,
      "outputs": []
    },
    {
      "cell_type": "code",
      "source": [
        "import torch\n",
        "\n",
        "device = torch.device(\"cuda\" if torch.cuda.is_available() else \"cpu\")"
      ],
      "metadata": {
        "id": "riJVRmw6cvLH"
      },
      "execution_count": 2,
      "outputs": []
    },
    {
      "cell_type": "markdown",
      "source": [
        "# Data"
      ],
      "metadata": {
        "id": "ChhFmPFjiSug"
      }
    },
    {
      "cell_type": "markdown",
      "source": [
        "## Dataset"
      ],
      "metadata": {
        "id": "CAiPCzrnmQtB"
      }
    },
    {
      "cell_type": "code",
      "source": [
        "%%bash\n",
        "\n",
        "test -d data || mkdir data \n",
        "wget -q https://raw.githubusercontent.com/L1aoXingyu/seq2seq-translation/master/data/eng-fra.txt -O data/eng-fra.txt"
      ],
      "metadata": {
        "id": "5yZifRuPmwVY"
      },
      "execution_count": 3,
      "outputs": []
    },
    {
      "cell_type": "code",
      "source": [
        "import unicodedata\n",
        "import re\n",
        "\n",
        "from torch.utils.data import Dataset, DataLoader"
      ],
      "metadata": {
        "id": "bo2C236WgW7T"
      },
      "execution_count": 4,
      "outputs": []
    },
    {
      "cell_type": "code",
      "source": [
        "def unicodeToAscii(s):\n",
        "    return ''.join(\n",
        "        c for c in unicodedata.normalize('NFD', s)\n",
        "        if unicodedata.category(c) != 'Mn'\n",
        "    )\n",
        "\n",
        "# Lowercase, trim, and remove non-letter characters\n",
        "def normalizeString(s):\n",
        "    s = unicodeToAscii(s.lower().strip())\n",
        "    s = re.sub(r\"([.!?])\", r\" \\1\", s)\n",
        "    s = re.sub(r\"[^a-zA-Z.!?]+\", r\" \", s)\n",
        "    return s"
      ],
      "metadata": {
        "id": "cP9h1Ad-gLRa"
      },
      "execution_count": 5,
      "outputs": []
    },
    {
      "cell_type": "code",
      "source": [
        "class EnFrDataset(Dataset):\n",
        "\n",
        "  def __init__(self, path: str):\n",
        "    with open(path, \"r\", encoding=\"utf-8\") as fp:\n",
        "      self.lines = [\n",
        "          [normalizeString(s.strip()) for s in l.split(\"\\t\")] \n",
        "          for l in fp.readlines()\n",
        "          if len(l.split(\"\\t\")) == 2\n",
        "      ]\n",
        "    self.lines = [l for l in self.lines if len(l[0]) < 50 and len(l[1]) < 50]\n",
        "    self.fields = [\"src\", \"tgt\"]\n",
        "\n",
        "  def __len__(self):\n",
        "    return len(self.lines)\n",
        "\n",
        "  def __getitem__(self, idx):\n",
        "    return self.lines[idx]\n"
      ],
      "metadata": {
        "id": "6Vh2ViIIejG2"
      },
      "execution_count": 6,
      "outputs": []
    },
    {
      "cell_type": "code",
      "source": [
        "ds = EnFrDataset(path=\"data/eng-fra.txt\")"
      ],
      "metadata": {
        "id": "6i25uaI6fdqq"
      },
      "execution_count": 7,
      "outputs": []
    },
    {
      "cell_type": "code",
      "source": [
        "ds[50003]"
      ],
      "metadata": {
        "colab": {
          "base_uri": "https://localhost:8080/"
        },
        "id": "6Di4rxBkhpO6",
        "outputId": "0561c24b-9601-4200-ed51-7eb8a7eff09c"
      },
      "execution_count": 8,
      "outputs": [
        {
          "output_type": "execute_result",
          "data": {
            "text/plain": [
              "['she had a new dress made .', 'elle s est fait faire une nouvelle robe .']"
            ]
          },
          "metadata": {},
          "execution_count": 8
        }
      ]
    },
    {
      "cell_type": "markdown",
      "source": [
        "## Data Loader"
      ],
      "metadata": {
        "id": "HOPvpbrriViV"
      }
    },
    {
      "cell_type": "code",
      "source": [
        "from transformers import DistilBertTokenizer \n",
        "from functools import partial"
      ],
      "metadata": {
        "id": "E96_vO_tkJ1g"
      },
      "execution_count": 10,
      "outputs": []
    },
    {
      "cell_type": "code",
      "source": [
        "BATCH_SIZE = 32"
      ],
      "metadata": {
        "id": "FFwJ4vqJlkx2"
      },
      "execution_count": 11,
      "outputs": []
    },
    {
      "cell_type": "code",
      "source": [
        "tokenizer = DistilBertTokenizer.from_pretrained(\"distilbert-base-uncased\")"
      ],
      "metadata": {
        "id": "_lB8ksjDibd4"
      },
      "execution_count": 12,
      "outputs": []
    },
    {
      "cell_type": "code",
      "source": [
        "def collate_fn(samples):\n",
        "  samples = list(map(list, zip(*samples)))\n",
        "  tokenize = partial(tokenizer.batch_encode_plus, return_tensors=\"pt\", padding=True)\n",
        "  return dict(\n",
        "      src_tokens=tokenize(samples[0])[\"input_ids\"],\n",
        "      tgt_tokens=tokenize(samples[1])[\"input_ids\"]\n",
        "  )"
      ],
      "metadata": {
        "id": "M7Ik7EUkgpH9"
      },
      "execution_count": 13,
      "outputs": []
    },
    {
      "cell_type": "code",
      "source": [
        "dl = DataLoader(\n",
        "    dataset=ds,\n",
        "    batch_size=BATCH_SIZE,\n",
        "    shuffle=True,\n",
        "    collate_fn=collate_fn\n",
        ")"
      ],
      "metadata": {
        "id": "PyjWpakDimbw"
      },
      "execution_count": 14,
      "outputs": []
    },
    {
      "cell_type": "code",
      "source": [
        "sample_batch = next(iter(dl))"
      ],
      "metadata": {
        "id": "ejEG2jU0jSau"
      },
      "execution_count": 15,
      "outputs": []
    },
    {
      "cell_type": "markdown",
      "source": [
        "## Models"
      ],
      "metadata": {
        "id": "OJBUuHZYn2L9"
      }
    },
    {
      "cell_type": "code",
      "source": [
        "import random\n",
        "import numpy as np\n",
        "\n",
        "from torch import nn\n",
        "from torch.nn import functional as F"
      ],
      "metadata": {
        "id": "8YAxQwdHk0R-"
      },
      "execution_count": 47,
      "outputs": []
    },
    {
      "cell_type": "code",
      "source": [
        "HIDDEN_SIZE = 256"
      ],
      "metadata": {
        "id": "svUNdL5QpNnL"
      },
      "execution_count": 49,
      "outputs": []
    },
    {
      "cell_type": "code",
      "source": [
        "class Encoder(nn.Module):\n",
        "  def __init__(self, input_size, hidden_size, device=\"cpu\"):\n",
        "    super(Encoder, self).__init__()\n",
        "    self.hidden_size = hidden_size\n",
        "    self.device = device\n",
        "\n",
        "    self.embedding = nn.Embedding(input_size, hidden_size)\n",
        "    self.gru = nn.GRU(hidden_size, hidden_size, batch_first=True)\n",
        "\n",
        "  def forward(self, input, hidden=None):\n",
        "    hidden = (\n",
        "      self.init_hidden(input.shape[0]).to(device) if hidden is None \n",
        "      else hidden\n",
        "    )\n",
        "    o, h = self.gru(self.embedding(input), hidden)\n",
        "    return {\"output\": o, \"hidden\": h}\n",
        "\n",
        "  def init_hidden(self, batch_size):\n",
        "    return torch.zeros(1, batch_size, self.hidden_size)"
      ],
      "metadata": {
        "id": "zqUAYPSFdHTj"
      },
      "execution_count": 50,
      "outputs": []
    },
    {
      "cell_type": "code",
      "source": [
        "# encoder = Encoder(input_size=tokenizer.vocab_size, hidden_size=HIDDEN_SIZE)\n",
        "# enc_out = encoder(\n",
        "#     input=sample_batch[\"src_tokens\"], \n",
        "#     # hidden=encoder.initHidden(batch_size=BATCH_SIZE)\n",
        "# )\n",
        "# print(f\"{enc_out['output'].shape = }\")\n",
        "# print(f\"{enc_out['hidden'].shape = }\")"
      ],
      "metadata": {
        "id": "1QrtzU9pk-ca"
      },
      "execution_count": 51,
      "outputs": []
    },
    {
      "cell_type": "code",
      "source": [
        "class Decoder(nn.Module):\n",
        "    def __init__(self, input_size, hidden_size, output_size):\n",
        "        super(Decoder, self).__init__()\n",
        "        self.hidden_size = hidden_size\n",
        "\n",
        "        self.mha = nn.MultiheadAttention(embed_dim=hidden_size, num_heads=1, batch_first=True)\n",
        "        self.attn_combine = nn.Linear(hidden_size*2, hidden_size)\n",
        "        self.embedding = nn.Embedding(input_size, hidden_size)\n",
        "        self.gru = nn.GRU(hidden_size, hidden_size, batch_first=True)\n",
        "        self.out = nn.Linear(hidden_size, output_size)\n",
        "\n",
        "    def forward(self, input, hidden, enc_output):\n",
        "        \n",
        "        # embeddings: batch, 1, H\n",
        "        embeddings = self.embedding(input)\n",
        "\n",
        "        # attn_scores: batch, 1, H\n",
        "        # attn_weights: batch, 1, T_src\n",
        "        attn_scores, attn_weights = self.mha(hidden.permute(1, 0, 2), enc_output, enc_output)\n",
        "\n",
        "        # Combine attn outputs with decoder input via a FF layer\n",
        "        # rnn_input: batch, 1, H\n",
        "        rnn_input = self.attn_combine(torch.cat([embeddings, attn_scores], dim=-1))\n",
        "        rnn_input = F.relu(rnn_input)\n",
        "\n",
        "        # Feed the rnn input and the previous hidden state to the RNN layer\n",
        "        # rnn_o: batch, 1, H\n",
        "        # rnn_h: 1, batch, H\n",
        "        rnn_o, rnn_h = self.gru(rnn_input, hidden)\n",
        "\n",
        "        # out: batch, 1, vocab_tgt_size\n",
        "        out = self.out(rnn_o)\n",
        "        \n",
        "        return {\n",
        "            \"output\": out,\n",
        "            \"hidden\": rnn_h,\n",
        "            \"attention_weights\": attn_weights,\n",
        "        }"
      ],
      "metadata": {
        "id": "xh7JWsp8lU0Y"
      },
      "execution_count": 52,
      "outputs": []
    },
    {
      "cell_type": "code",
      "source": [
        "# decoder = Decoder(\n",
        "#     input_size=tokenizer.vocab_size,\n",
        "#     hidden_size=HIDDEN_SIZE,\n",
        "#     output_size=tokenizer.vocab_size,\n",
        "# )\n",
        "# self = decoder\n",
        "\n",
        "# decoder_out = decoder(\n",
        "#     input=sample_batch[\"tgt_tokens\"][:, :1],\n",
        "#     hidden=torch.rand(1, BATCH_SIZE, HIDDEN_SIZE),\n",
        "#     enc_output=enc_out['output'],\n",
        "# )\n",
        "# print(f\"{decoder_out['output'].shape = }\")\n",
        "# print(f\"{decoder_out['hidden'].shape = }\")\n",
        "# print(f\"{decoder_out['attention_weights'].shape = }\")"
      ],
      "metadata": {
        "id": "1Te0MYAeopDl"
      },
      "execution_count": 53,
      "outputs": []
    },
    {
      "cell_type": "code",
      "source": [
        "tokenizer.eos_token_id"
      ],
      "metadata": {
        "id": "pu4WVVlE81o7"
      },
      "execution_count": 131,
      "outputs": []
    },
    {
      "cell_type": "code",
      "source": [
        "class Seq2Seq(nn.Module):\n",
        "  def __init__(\n",
        "      self, \n",
        "      input_size, \n",
        "      hidden_size, \n",
        "      output_size, \n",
        "      device,\n",
        "      teacher_forcing_ratio=0.5, \n",
        "      max_length=50, \n",
        "      cls_token=101,\n",
        "      eos_token=102,\n",
        "      sep_token=102,\n",
        "    ):\n",
        "    super(Seq2Seq, self).__init__()\n",
        "    self.input_size = input_size\n",
        "    self.hidden_size = hidden_size\n",
        "    self.output_size = output_size\n",
        "    self.device = device\n",
        "\n",
        "    self.encoder = Encoder(\n",
        "      input_size=input_size, \n",
        "      hidden_size=hidden_size, \n",
        "      device=device\n",
        "    ).to(device)\n",
        "    self.decoder = Decoder(\n",
        "      input_size=input_size, \n",
        "      hidden_size=hidden_size, \n",
        "      output_size=output_size,\n",
        "    ).to(device)\n",
        "\n",
        "    self.teacher_forcing_ratio = teacher_forcing_ratio\n",
        "    self.max_length = max_length\n",
        "    self.cls_token = cls_token\n",
        "    self.eos_token = eos_token\n",
        "    self.sep_token = sep_token\n",
        "\n",
        "  def forward(self, input_enc, input_dec):\n",
        "    enc_out = self.encoder(input_enc)\n",
        "\n",
        "    use_teacher_forcing = random.random() < self.teacher_forcing_ratio\n",
        "\n",
        "    outputs = []\n",
        "    attention_weights = []\n",
        "    \n",
        "    batch_size = input_enc.shape[0]\n",
        "    dec_in = torch.ones((batch_size, 1)).long().to(self.device) * self.cls_token\n",
        "    dec_h = enc_out[\"hidden\"]\n",
        "    \n",
        "    target_length = input_dec.shape[1]\n",
        "    for idx in range(target_length):\n",
        "\n",
        "      dec_out = self.decoder(\n",
        "        input=dec_in,\n",
        "        hidden=dec_h,\n",
        "        enc_output=enc_out[\"output\"],\n",
        "      )\n",
        "      dec_h = dec_out[\"hidden\"]\n",
        "      outputs.append(dec_out[\"output\"])\n",
        "      attention_weights.append(dec_out[\"attention_weights\"])\n",
        "\n",
        "      if use_teacher_forcing is False:\n",
        "        # Use decoder prediction as next output\n",
        "        _, top_idx = dec_out[\"output\"].topk(1)\n",
        "        dec_in = top_idx.squeeze(1).detach()\n",
        "      elif use_teacher_forcing is True and (idx + 1 < target_length):\n",
        "        # Use target values as next output\n",
        "        # Skip this step if last iteration\n",
        "        dec_in = input_dec[:, idx+1].unsqueeze(1)\n",
        "\n",
        "    return {\n",
        "        # batch, T_tgt, vocab_size_tgt\n",
        "        \"output\": torch.cat(outputs, dim=1),\n",
        "        # batch, T_src, T_tgt\n",
        "        \"attention_weights\": torch.cat(attention_weights, dim=1),\n",
        "    }\n",
        "  \n",
        "  def predict(self, input_enc):\n",
        "    enc_out = self.encoder(input_enc)\n",
        "\n",
        "    outputs = [self.cls_token]\n",
        "    attention_weights = []\n",
        "    \n",
        "    batch_size = input_enc.shape[0]\n",
        "    dec_in = torch.ones((batch_size, 1)).long().to(self.device) * self.cls_token\n",
        "    dec_h = enc_out[\"hidden\"]\n",
        "    \n",
        "    for idx in range(self.max_length):\n",
        "\n",
        "      dec_out = self.decoder(\n",
        "        input=dec_in,\n",
        "        hidden=dec_h,\n",
        "        enc_output=enc_out[\"output\"],\n",
        "      )\n",
        "      dec_h = dec_out[\"hidden\"]\n",
        "      attention_weights.append(dec_out[\"attention_weights\"])\n",
        "\n",
        "      # Use decoder prediction as next output\n",
        "      _, top_idx = dec_out[\"output\"].topk(1)\n",
        "      dec_in = top_idx.squeeze(1).detach()\n",
        "      predicted_token = dec_in[0].item()\n",
        "      outputs.append(predicted_token)\n",
        "      if predicted_token in [self.eos_token, self.sep_token]:\n",
        "        break\n",
        "      \n",
        "    return {\n",
        "        # batch, T_tgt, vocab_size_tgt\n",
        "        \"output\": torch.LongTensor(outputs),\n",
        "        # batch, T_src, T_tgt\n",
        "        \"attention_weights\": torch.cat(attention_weights, dim=1),\n",
        "    }    \n"
      ],
      "metadata": {
        "id": "AM70HtiOp3H0"
      },
      "execution_count": 69,
      "outputs": []
    },
    {
      "cell_type": "code",
      "source": [
        "# seq2seq = Seq2Seq(\n",
        "#      input_size=tokenizer.vocab_size,\n",
        "#      hidden_size=HIDDEN_SIZE,\n",
        "#      output_size=tokenizer.vocab_size,\n",
        "#      device=device,\n",
        "# )\n",
        "# self = seq2seq\n",
        "\n",
        "# input_enc = sample_batch[\"src_tokens\"]\n",
        "# input_dec = sample_batch[\"tgt_tokens\"]\n",
        "\n",
        "# seq2seq_out = seq2seq(\n",
        "#     input_enc=input_enc.to(device),\n",
        "#     input_dec=input_dec.to(device),\n",
        "# )\n",
        "# seq2seq_out[\"output\"].shape"
      ],
      "metadata": {
        "id": "uEm3ux-qwLdy"
      },
      "execution_count": 55,
      "outputs": []
    },
    {
      "cell_type": "code",
      "source": [
        "# seq2seq_pred_out = seq2seq.predict(input_enc=input_enc[:1].to(device))\n",
        "\n",
        "# print(f\"{seq2seq_pred_out['output'].shape=}\")\n",
        "# print(f\"{seq2seq_pred_out['attention_weights'].shape=}\")"
      ],
      "metadata": {
        "id": "QsoIwp_Iu9GZ"
      },
      "execution_count": 56,
      "outputs": []
    },
    {
      "cell_type": "markdown",
      "source": [
        "# Train"
      ],
      "metadata": {
        "id": "K66jjJY7iDgK"
      }
    },
    {
      "cell_type": "code",
      "source": [
        "import numpy as np\n",
        "from tqdm import tqdm\n",
        "\n",
        "from torch.optim import Adam\n",
        "from torch.nn import CrossEntropyLoss\n",
        "import torchmetrics"
      ],
      "metadata": {
        "id": "PAmjQP7YkTyp"
      },
      "execution_count": 119,
      "outputs": []
    },
    {
      "cell_type": "code",
      "source": [
        "torch.manual_seed(42)\n",
        "random.seed(42)\n",
        "np.random.seed(0)"
      ],
      "metadata": {
        "id": "MVO7UKu2oBWy"
      },
      "execution_count": 120,
      "outputs": []
    },
    {
      "cell_type": "code",
      "source": [
        "model = Seq2Seq(\n",
        "     input_size=tokenizer.vocab_size,\n",
        "     hidden_size=HIDDEN_SIZE,\n",
        "     output_size=tokenizer.vocab_size,\n",
        "     device=device,\n",
        "     cls_token=tokenizer.cls_token_id,\n",
        "     eos_token=tokenizer.eos_token_id,\n",
        "     sep_token=tokenizer.sep_token_id,\n",
        ").to(device)\n",
        "optimizer = Adam(params=model.parameters())\n",
        "loss_fn = CrossEntropyLoss(ignore_index=0)"
      ],
      "metadata": {
        "id": "E2843w9EiA1x"
      },
      "execution_count": 121,
      "outputs": []
    },
    {
      "cell_type": "code",
      "source": [
        "accuracy = torchmetrics.Accuracy(task=\"multiclass\", num_classes=model.output_size).to(device)"
      ],
      "metadata": {
        "id": "FBU71dxFyL5M"
      },
      "execution_count": 122,
      "outputs": []
    },
    {
      "cell_type": "code",
      "source": [
        "epochs = 5"
      ],
      "metadata": {
        "id": "PoclLH1Zptbj"
      },
      "execution_count": 123,
      "outputs": []
    },
    {
      "cell_type": "code",
      "source": [
        "losses = []\n",
        "accuracies = []\n",
        "\n",
        "model.train()\n",
        "\n",
        "\n",
        "for epoch_id in range(epochs):\n",
        "  pbar = tqdm(enumerate(dl), total=len(dl))\n",
        "  accuracy.reset()\n",
        "  for idx, batch in pbar:\n",
        "    output = model(\n",
        "      input_enc=batch[\"src_tokens\"].to(device),\n",
        "      input_dec=batch[\"tgt_tokens\"][:, :-1].to(device),\n",
        "    )\n",
        "    labels = batch[\"tgt_tokens\"][:, 1:].to(device)\n",
        "    loss = loss_fn(\n",
        "      output[\"output\"].view(-1, model.output_size), \n",
        "      labels.reshape(-1),\n",
        "    )\n",
        "    optimizer.zero_grad()\n",
        "    loss.backward()\n",
        "    optimizer.step()\n",
        "    \n",
        "    accuracy.update(\n",
        "      preds=output[\"output\"].view(-1, model.output_size),\n",
        "      target=labels.reshape(-1),\n",
        "    )\n",
        "\n",
        "    losses.append(loss.item())\n",
        "    accuracies.append(accuracy.compute().item())\n",
        "\n",
        "    pbar.set_description((\n",
        "      f\"Epoch: {epoch_id:2}\\t\"\n",
        "      f\"Loss: {np.mean(losses):.3f}\\t\"\n",
        "      f\"Accuracy: {accuracies[-1]:3%}\\t\"\n",
        "    ))"
      ],
      "metadata": {
        "colab": {
          "base_uri": "https://localhost:8080/"
        },
        "id": "B-nS4O-5iLYE",
        "outputId": "ddd320cb-6230-4fc3-ba94-43803444725d"
      },
      "execution_count": 124,
      "outputs": [
        {
          "output_type": "stream",
          "name": "stderr",
          "text": [
            "Epoch:  0\tLoss: 3.676\tAccuracy: 23.923053%\t: 100%|██████████| 3481/3481 [04:57<00:00, 11.71it/s]\n",
            "Epoch:  1\tLoss: 3.213\tAccuracy: 31.433731%\t: 100%|██████████| 3481/3481 [04:58<00:00, 11.67it/s]\n",
            "Epoch:  2\tLoss: 2.968\tAccuracy: 33.652750%\t: 100%|██████████| 3481/3481 [04:59<00:00, 11.63it/s]\n",
            "Epoch:  3\tLoss: 2.808\tAccuracy: 34.935296%\t: 100%|██████████| 3481/3481 [05:00<00:00, 11.59it/s]\n",
            "Epoch:  4\tLoss: 2.700\tAccuracy: 35.228109%\t: 100%|██████████| 3481/3481 [05:13<00:00, 11.09it/s]\n"
          ]
        }
      ]
    },
    {
      "cell_type": "code",
      "source": [
        "from matplotlib import pyplot as plt"
      ],
      "metadata": {
        "id": "5pP3mVml8Ghf"
      },
      "execution_count": 125,
      "outputs": []
    },
    {
      "cell_type": "code",
      "source": [
        "plt.figure()\n",
        "plt.plot(range(len(losses)), losses)\n",
        "plt.show()"
      ],
      "metadata": {
        "colab": {
          "base_uri": "https://localhost:8080/",
          "height": 430
        },
        "id": "pfYB4odR8Iex",
        "outputId": "a5b89d4c-b9f9-4c9c-9d63-b1f49575171e"
      },
      "execution_count": 126,
      "outputs": [
        {
          "output_type": "display_data",
          "data": {
            "text/plain": [
              "<Figure size 640x480 with 1 Axes>"
            ],
            "image/png": "[encoded data removed]"
          },
          "metadata": {}
        }
      ]
    },
    {
      "cell_type": "code",
      "source": [
        "plt.figure()\n",
        "plt.plot(range(len(accuracies)), accuracies)\n",
        "plt.show()"
      ],
      "metadata": {
        "colab": {
          "base_uri": "https://localhost:8080/",
          "height": 430
        },
        "id": "EBuQFdiN8PUf",
        "outputId": "6a2eac97-9401-497c-df0d-8cdd05812ec1"
      },
      "execution_count": 127,
      "outputs": [
        {
          "output_type": "display_data",
          "data": {
            "text/plain": [
              "<Figure size 640x480 with 1 Axes>"
            ],
            "image/png": "[encoded data removed]"
          },
          "metadata": {}
        }
      ]
    },
    {
      "cell_type": "markdown",
      "source": [
        "# Evaluate"
      ],
      "metadata": {
        "id": "k23QjO0gv6ps"
      }
    },
    {
      "cell_type": "code",
      "source": [
        "import matplotlib.ticker as ticker"
      ],
      "metadata": {
        "id": "cpNVfVqy-rJx"
      },
      "execution_count": 156,
      "outputs": []
    },
    {
      "cell_type": "code",
      "source": [
        "def show_attention(input_tokens, output_tokens, attentions):\n",
        "  # Set up figure with colorbar\n",
        "  fig = plt.figure()\n",
        "  ax = fig.add_subplot(111)\n",
        "  cax = ax.matshow(attentions, cmap='bone')\n",
        "  fig.colorbar(cax)\n",
        "\n",
        "  # Set up axes\n",
        "  ax.set_xticklabels([\"\"] + input_tokens, rotation=90)\n",
        "  ax.set_yticklabels(output_tokens)\n",
        "\n",
        "  # Show label at every tick\n",
        "  ax.xaxis.set_major_locator(ticker.MultipleLocator(1))\n",
        "  ax.yaxis.set_major_locator(ticker.MultipleLocator(1))\n",
        "\n",
        "  plt.show()"
      ],
      "metadata": {
        "id": "IW2iPREp9Mxi"
      },
      "execution_count": 183,
      "outputs": []
    },
    {
      "cell_type": "code",
      "source": [
        "sample_batch = next(iter(dl))\n",
        "input_ids = sample_batch[\"src_tokens\"][:1]\n",
        "\n",
        "model.eval()\n",
        "with torch.no_grad():\n",
        "  eval_output = model.predict(input_enc=input_ids.to(device))\n",
        "  output = eval_output[\"output\"]\n",
        "\n",
        "input_text = tokenizer.decode(input_ids[0])\n",
        "output_text = tokenizer.decode(output)\n",
        "target_text = tokenizer.decode(sample_batch['tgt_tokens'][0])\n",
        "\n",
        "print(f\"Source: {input_text}\")\n",
        "print(f\"Translation: '{output_text}'\")\n",
        "print(f\"Expected: '{target_text}'\")"
      ],
      "metadata": {
        "colab": {
          "base_uri": "https://localhost:8080/"
        },
        "id": "-CrhgZPQr2-o",
        "outputId": "037f45b2-2d72-41d9-a290-32ec992a2778"
      },
      "execution_count": 214,
      "outputs": [
        {
          "output_type": "stream",
          "name": "stdout",
          "text": [
            "Source: [CLS] do you enjoy talking? [SEP] [PAD] [PAD] [PAD] [PAD] [PAD] [PAD]\n",
            "Translation: '[CLS] aimes tu en parler? [SEP]'\n",
            "Expected: '[CLS] aimes tu discuter? [SEP] [PAD] [PAD] [PAD] [PAD] [PAD] [PAD] [PAD] [PAD] [PAD] [PAD]'\n"
          ]
        }
      ]
    },
    {
      "cell_type": "code",
      "source": [
        "show_attention(\n",
        "  input_tokens=tokenizer.convert_ids_to_tokens(input_ids[0]),\n",
        "  output_tokens=tokenizer.convert_ids_to_tokens(output)[:],\n",
        "  attentions=eval_output[\"attention_weights\"].squeeze(0).cpu().numpy(),\n",
        ")"
      ],
      "metadata": {
        "colab": {
          "base_uri": "https://localhost:8080/",
          "height": 494
        },
        "id": "nfoKS9Tv-Uu2",
        "outputId": "fb0484a7-b5f3-4df5-d920-17828a88c00b"
      },
      "execution_count": 215,
      "outputs": [
        {
          "output_type": "stream",
          "name": "stderr",
          "text": [
            "<ipython-input-183-f0c71dd556bd>:9: UserWarning: FixedFormatter should only be used together with FixedLocator\n",
            "  ax.set_xticklabels([\"\"] + input_tokens, rotation=90)\n",
            "<ipython-input-183-f0c71dd556bd>:10: UserWarning: FixedFormatter should only be used together with FixedLocator\n",
            "  ax.set_yticklabels(output_tokens)\n"
          ]
        },
        {
          "output_type": "display_data",
          "data": {
            "text/plain": [
              "<Figure size 640x480 with 2 Axes>"
            ],
            "image/png": "[encoded data removed]"
          },
          "metadata": {}
        }
      ]
    },
    {
      "cell_type": "code",
      "source": [],
      "metadata": {
        "id": "9FcPJfh3BmWj"
      },
      "execution_count": null,
      "outputs": []
    }
  ]
}