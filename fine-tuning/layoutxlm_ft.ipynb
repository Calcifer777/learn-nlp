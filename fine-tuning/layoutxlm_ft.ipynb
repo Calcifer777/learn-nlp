{
  "nbformat": 4,
  "nbformat_minor": 0,
  "metadata": {
    "colab": {
      "provenance": [],
      "authorship_tag": "ABX9TyPzdyF0ZL8p/fvdmc74vlwP",
      "include_colab_link": true
    },
    "kernelspec": {
      "name": "python3",
      "display_name": "Python 3"
    },
    "language_info": {
      "name": "python"
    },
    "accelerator": "GPU",
    "gpuClass": "standard",
    "widgets": {
      "application/vnd.jupyter.widget-state+json": {
        "55b11c0316ec4cc18be5d42783e1189f": {
          "model_module": "@jupyter-widgets/controls",
          "model_name": "HBoxModel",
          "model_module_version": "1.5.0",
          "state": {
            "_dom_classes": [],
            "_model_module": "@jupyter-widgets/controls",
            "_model_module_version": "1.5.0",
            "_model_name": "HBoxModel",
            "_view_count": null,
            "_view_module": "@jupyter-widgets/controls",
            "_view_module_version": "1.5.0",
            "_view_name": "HBoxView",
            "box_style": "",
            "children": [
              "IPY_MODEL_a5113bf6e8f148f994ffcde37c1b591d",
              "IPY_MODEL_cad35c5654b844159656ecfea66dfcc8",
              "IPY_MODEL_4f6350e0503e420a8dc8fb9ed9f21b82"
            ],
            "layout": "IPY_MODEL_74a53761e2824fee8671d79f3333080f"
          }
        },
        "a5113bf6e8f148f994ffcde37c1b591d": {
          "model_module": "@jupyter-widgets/controls",
          "model_name": "HTMLModel",
          "model_module_version": "1.5.0",
          "state": {
            "_dom_classes": [],
            "_model_module": "@jupyter-widgets/controls",
            "_model_module_version": "1.5.0",
            "_model_name": "HTMLModel",
            "_view_count": null,
            "_view_module": "@jupyter-widgets/controls",
            "_view_module_version": "1.5.0",
            "_view_name": "HTMLView",
            "description": "",
            "description_tooltip": null,
            "layout": "IPY_MODEL_11333799f4164c818d54f1740ff4faf8",
            "placeholder": "​",
            "style": "IPY_MODEL_d7ce6961e3b546e8ac4f0af70a188e7f",
            "value": "100%"
          }
        },
        "cad35c5654b844159656ecfea66dfcc8": {
          "model_module": "@jupyter-widgets/controls",
          "model_name": "FloatProgressModel",
          "model_module_version": "1.5.0",
          "state": {
            "_dom_classes": [],
            "_model_module": "@jupyter-widgets/controls",
            "_model_module_version": "1.5.0",
            "_model_name": "FloatProgressModel",
            "_view_count": null,
            "_view_module": "@jupyter-widgets/controls",
            "_view_module_version": "1.5.0",
            "_view_name": "ProgressView",
            "bar_style": "success",
            "description": "",
            "description_tooltip": null,
            "layout": "IPY_MODEL_fe7aa83358aa4bcc8518c0e0c03f2d48",
            "max": 2,
            "min": 0,
            "orientation": "horizontal",
            "style": "IPY_MODEL_0e2fea68945946aaa522bdf26059fe17",
            "value": 2
          }
        },
        "4f6350e0503e420a8dc8fb9ed9f21b82": {
          "model_module": "@jupyter-widgets/controls",
          "model_name": "HTMLModel",
          "model_module_version": "1.5.0",
          "state": {
            "_dom_classes": [],
            "_model_module": "@jupyter-widgets/controls",
            "_model_module_version": "1.5.0",
            "_model_name": "HTMLModel",
            "_view_count": null,
            "_view_module": "@jupyter-widgets/controls",
            "_view_module_version": "1.5.0",
            "_view_name": "HTMLView",
            "description": "",
            "description_tooltip": null,
            "layout": "IPY_MODEL_a2785fd14b1842ba97ace1c0d91fe046",
            "placeholder": "​",
            "style": "IPY_MODEL_d80ae4a1203c4777853f85d430f25666",
            "value": " 2/2 [00:00&lt;00:00, 86.35it/s]"
          }
        },
        "74a53761e2824fee8671d79f3333080f": {
          "model_module": "@jupyter-widgets/base",
          "model_name": "LayoutModel",
          "model_module_version": "1.2.0",
          "state": {
            "_model_module": "@jupyter-widgets/base",
            "_model_module_version": "1.2.0",
            "_model_name": "LayoutModel",
            "_view_count": null,
            "_view_module": "@jupyter-widgets/base",
            "_view_module_version": "1.2.0",
            "_view_name": "LayoutView",
            "align_content": null,
            "align_items": null,
            "align_self": null,
            "border": null,
            "bottom": null,
            "display": null,
            "flex": null,
            "flex_flow": null,
            "grid_area": null,
            "grid_auto_columns": null,
            "grid_auto_flow": null,
            "grid_auto_rows": null,
            "grid_column": null,
            "grid_gap": null,
            "grid_row": null,
            "grid_template_areas": null,
            "grid_template_columns": null,
            "grid_template_rows": null,
            "height": null,
            "justify_content": null,
            "justify_items": null,
            "left": null,
            "margin": null,
            "max_height": null,
            "max_width": null,
            "min_height": null,
            "min_width": null,
            "object_fit": null,
            "object_position": null,
            "order": null,
            "overflow": null,
            "overflow_x": null,
            "overflow_y": null,
            "padding": null,
            "right": null,
            "top": null,
            "visibility": null,
            "width": null
          }
        },
        "11333799f4164c818d54f1740ff4faf8": {
          "model_module": "@jupyter-widgets/base",
          "model_name": "LayoutModel",
          "model_module_version": "1.2.0",
          "state": {
            "_model_module": "@jupyter-widgets/base",
            "_model_module_version": "1.2.0",
            "_model_name": "LayoutModel",
            "_view_count": null,
            "_view_module": "@jupyter-widgets/base",
            "_view_module_version": "1.2.0",
            "_view_name": "LayoutView",
            "align_content": null,
            "align_items": null,
            "align_self": null,
            "border": null,
            "bottom": null,
            "display": null,
            "flex": null,
            "flex_flow": null,
            "grid_area": null,
            "grid_auto_columns": null,
            "grid_auto_flow": null,
            "grid_auto_rows": null,
            "grid_column": null,
            "grid_gap": null,
            "grid_row": null,
            "grid_template_areas": null,
            "grid_template_columns": null,
            "grid_template_rows": null,
            "height": null,
            "justify_content": null,
            "justify_items": null,
            "left": null,
            "margin": null,
            "max_height": null,
            "max_width": null,
            "min_height": null,
            "min_width": null,
            "object_fit": null,
            "object_position": null,
            "order": null,
            "overflow": null,
            "overflow_x": null,
            "overflow_y": null,
            "padding": null,
            "right": null,
            "top": null,
            "visibility": null,
            "width": null
          }
        },
        "d7ce6961e3b546e8ac4f0af70a188e7f": {
          "model_module": "@jupyter-widgets/controls",
          "model_name": "DescriptionStyleModel",
          "model_module_version": "1.5.0",
          "state": {
            "_model_module": "@jupyter-widgets/controls",
            "_model_module_version": "1.5.0",
            "_model_name": "DescriptionStyleModel",
            "_view_count": null,
            "_view_module": "@jupyter-widgets/base",
            "_view_module_version": "1.2.0",
            "_view_name": "StyleView",
            "description_width": ""
          }
        },
        "fe7aa83358aa4bcc8518c0e0c03f2d48": {
          "model_module": "@jupyter-widgets/base",
          "model_name": "LayoutModel",
          "model_module_version": "1.2.0",
          "state": {
            "_model_module": "@jupyter-widgets/base",
            "_model_module_version": "1.2.0",
            "_model_name": "LayoutModel",
            "_view_count": null,
            "_view_module": "@jupyter-widgets/base",
            "_view_module_version": "1.2.0",
            "_view_name": "LayoutView",
            "align_content": null,
            "align_items": null,
            "align_self": null,
            "border": null,
            "bottom": null,
            "display": null,
            "flex": null,
            "flex_flow": null,
            "grid_area": null,
            "grid_auto_columns": null,
            "grid_auto_flow": null,
            "grid_auto_rows": null,
            "grid_column": null,
            "grid_gap": null,
            "grid_row": null,
            "grid_template_areas": null,
            "grid_template_columns": null,
            "grid_template_rows": null,
            "height": null,
            "justify_content": null,
            "justify_items": null,
            "left": null,
            "margin": null,
            "max_height": null,
            "max_width": null,
            "min_height": null,
            "min_width": null,
            "object_fit": null,
            "object_position": null,
            "order": null,
            "overflow": null,
            "overflow_x": null,
            "overflow_y": null,
            "padding": null,
            "right": null,
            "top": null,
            "visibility": null,
            "width": null
          }
        },
        "0e2fea68945946aaa522bdf26059fe17": {
          "model_module": "@jupyter-widgets/controls",
          "model_name": "ProgressStyleModel",
          "model_module_version": "1.5.0",
          "state": {
            "_model_module": "@jupyter-widgets/controls",
            "_model_module_version": "1.5.0",
            "_model_name": "ProgressStyleModel",
            "_view_count": null,
            "_view_module": "@jupyter-widgets/base",
            "_view_module_version": "1.2.0",
            "_view_name": "StyleView",
            "bar_color": null,
            "description_width": ""
          }
        },
        "a2785fd14b1842ba97ace1c0d91fe046": {
          "model_module": "@jupyter-widgets/base",
          "model_name": "LayoutModel",
          "model_module_version": "1.2.0",
          "state": {
            "_model_module": "@jupyter-widgets/base",
            "_model_module_version": "1.2.0",
            "_model_name": "LayoutModel",
            "_view_count": null,
            "_view_module": "@jupyter-widgets/base",
            "_view_module_version": "1.2.0",
            "_view_name": "LayoutView",
            "align_content": null,
            "align_items": null,
            "align_self": null,
            "border": null,
            "bottom": null,
            "display": null,
            "flex": null,
            "flex_flow": null,
            "grid_area": null,
            "grid_auto_columns": null,
            "grid_auto_flow": null,
            "grid_auto_rows": null,
            "grid_column": null,
            "grid_gap": null,
            "grid_row": null,
            "grid_template_areas": null,
            "grid_template_columns": null,
            "grid_template_rows": null,
            "height": null,
            "justify_content": null,
            "justify_items": null,
            "left": null,
            "margin": null,
            "max_height": null,
            "max_width": null,
            "min_height": null,
            "min_width": null,
            "object_fit": null,
            "object_position": null,
            "order": null,
            "overflow": null,
            "overflow_x": null,
            "overflow_y": null,
            "padding": null,
            "right": null,
            "top": null,
            "visibility": null,
            "width": null
          }
        },
        "d80ae4a1203c4777853f85d430f25666": {
          "model_module": "@jupyter-widgets/controls",
          "model_name": "DescriptionStyleModel",
          "model_module_version": "1.5.0",
          "state": {
            "_model_module": "@jupyter-widgets/controls",
            "_model_module_version": "1.5.0",
            "_model_name": "DescriptionStyleModel",
            "_view_count": null,
            "_view_module": "@jupyter-widgets/base",
            "_view_module_version": "1.2.0",
            "_view_name": "StyleView",
            "description_width": ""
          }
        }
      }
    }
  },
  "cells": [
    {
      "cell_type": "markdown",
      "metadata": {
        "id": "view-in-github",
        "colab_type": "text"
      },
      "source": [
        "<a href=\"https://colab.research.google.com/github/Calcifer777/learn-nlp/blob/main/fine-tuning/layoutxlm_ft.ipynb\" target=\"_parent\"><img src=\"https://colab.research.google.com/assets/colab-badge.svg\" alt=\"Open In Colab\"/></a>"
      ]
    },
    {
      "cell_type": "code",
      "execution_count": null,
      "metadata": {
        "id": "JqDO7r3qlJXk"
      },
      "outputs": [],
      "source": [
        "!pip install -q transformers datasets seqeval peft"
      ]
    },
    {
      "cell_type": "code",
      "source": [
        "# !pip install -q detectron2 -f https://dl.fbaipublicfiles.com/detectron2/wheels/cu101/torch1.8/index.html\n",
        "!git clone https://github.com/facebookresearch/detectron2\n",
        "%cd /content/detectron2\n",
        "!pip install -r requirements.txt\n",
        "!python setup.py install\n",
        "# !pip install git+https://github.com/facebookresearch/fvcore.git"
      ],
      "metadata": {
        "id": "gFl-5vHPnlis"
      },
      "execution_count": null,
      "outputs": []
    },
    {
      "cell_type": "code",
      "source": [
        "from transformers import (\n",
        "    LayoutXLMProcessor,\n",
        "    LayoutLMv2ForTokenClassification,\n",
        ")\n",
        "from datasets import load_dataset, load_metric\n",
        "from transformers import AdamW\n",
        "from PIL import Image\n",
        "from functools import partial\n",
        "from torch.utils.data import DataLoader, RandomSampler\n",
        "from torch.optim import NAdam, AdamW\n",
        "from torch.optim.lr_scheduler import (\n",
        "    CosineAnnealingLR,\n",
        "    LambdaLR,\n",
        "    SequentialLR,\n",
        ")\n",
        "import torch\n",
        "from tqdm import tqdm\n",
        "from pprint import pprint\n",
        "import numpy as np\n",
        "from torch.utils.tensorboard import SummaryWriter\n",
        "from matplotlib import pyplot as plt\n",
        "import logging"
      ],
      "metadata": {
        "id": "yucyRezFlM0v"
      },
      "execution_count": 1,
      "outputs": []
    },
    {
      "cell_type": "code",
      "source": [
        "%load_ext tensorboard"
      ],
      "metadata": {
        "id": "5eE9N8NMQrI9"
      },
      "execution_count": 2,
      "outputs": []
    },
    {
      "cell_type": "code",
      "source": [
        "device = \"cuda\" if torch.cuda.is_available() else \"cpu\"\n",
        "print(device)"
      ],
      "metadata": {
        "colab": {
          "base_uri": "https://localhost:8080/"
        },
        "id": "KI3ZuaH3Lpfq",
        "outputId": "ee05c02f-e6c3-4f64-ad2c-77d900c2ee2f"
      },
      "execution_count": 3,
      "outputs": [
        {
          "output_type": "stream",
          "name": "stdout",
          "text": [
            "cuda\n"
          ]
        }
      ]
    },
    {
      "cell_type": "code",
      "source": [
        "BATCH_SIZE = 4\n",
        "\n",
        "WARMUP_STEPS = 10\n",
        "EPOCHS = 5\n",
        "LR = 5e-4"
      ],
      "metadata": {
        "id": "X4l1Km5t4yZY"
      },
      "execution_count": 4,
      "outputs": []
    },
    {
      "cell_type": "code",
      "source": [
        "model_id = \"microsoft/layoutxlm-base\"\n",
        "\n",
        "preprocessor = LayoutXLMProcessor.from_pretrained(model_id, apply_ocr=False)"
      ],
      "metadata": {
        "colab": {
          "base_uri": "https://localhost:8080/"
        },
        "id": "LgGSZtiQlj05",
        "outputId": "4c9e05f8-a9d6-4224-d742-9eec6f450fb1"
      },
      "execution_count": 5,
      "outputs": [
        {
          "output_type": "stream",
          "name": "stderr",
          "text": [
            "/usr/local/lib/python3.9/dist-packages/transformers/models/layoutlmv2/feature_extraction_layoutlmv2.py:30: FutureWarning: The class LayoutLMv2FeatureExtractor is deprecated and will be removed in version 5 of Transformers. Please use LayoutLMv2ImageProcessor instead.\n",
            "  warnings.warn(\n"
          ]
        }
      ]
    },
    {
      "cell_type": "code",
      "source": [
        "ds = load_dataset(\"nielsr/funsd\")"
      ],
      "metadata": {
        "colab": {
          "base_uri": "https://localhost:8080/",
          "height": 87,
          "referenced_widgets": [
            "55b11c0316ec4cc18be5d42783e1189f",
            "a5113bf6e8f148f994ffcde37c1b591d",
            "cad35c5654b844159656ecfea66dfcc8",
            "4f6350e0503e420a8dc8fb9ed9f21b82",
            "74a53761e2824fee8671d79f3333080f",
            "11333799f4164c818d54f1740ff4faf8",
            "d7ce6961e3b546e8ac4f0af70a188e7f",
            "fe7aa83358aa4bcc8518c0e0c03f2d48",
            "0e2fea68945946aaa522bdf26059fe17",
            "a2785fd14b1842ba97ace1c0d91fe046",
            "d80ae4a1203c4777853f85d430f25666"
          ]
        },
        "id": "NFxPyW9UmDP1",
        "outputId": "b17ceab1-22e8-4eef-91e4-33d7a3a12ea4"
      },
      "execution_count": 6,
      "outputs": [
        {
          "output_type": "stream",
          "name": "stderr",
          "text": [
            "WARNING:datasets.builder:Found cached dataset funsd (/root/.cache/huggingface/datasets/nielsr___funsd/funsd/1.0.0/8b0472b536a2dcb975d59a4fb9d6fea4e6a1abe260b7fed6f75301e168cbe595)\n"
          ]
        },
        {
          "output_type": "display_data",
          "data": {
            "text/plain": [
              "  0%|          | 0/2 [00:00<?, ?it/s]"
            ],
            "application/vnd.jupyter.widget-view+json": {
              "version_major": 2,
              "version_minor": 0,
              "model_id": "55b11c0316ec4cc18be5d42783e1189f"
            }
          },
          "metadata": {}
        }
      ]
    },
    {
      "cell_type": "code",
      "source": [
        "labels = ds['train'].features['ner_tags'].feature.names\n",
        "id2label = {v: k for v, k in enumerate(labels)}\n",
        "label2id = {k: v for v, k in enumerate(labels)}\n",
        "labels"
      ],
      "metadata": {
        "colab": {
          "base_uri": "https://localhost:8080/"
        },
        "id": "R7c3wTxKnxy8",
        "outputId": "1674b761-58ba-4e89-dcbf-6f32af43a9d6"
      },
      "execution_count": 7,
      "outputs": [
        {
          "output_type": "execute_result",
          "data": {
            "text/plain": [
              "['O',\n",
              " 'B-HEADER',\n",
              " 'I-HEADER',\n",
              " 'B-QUESTION',\n",
              " 'I-QUESTION',\n",
              " 'B-ANSWER',\n",
              " 'I-ANSWER']"
            ]
          },
          "metadata": {},
          "execution_count": 7
        }
      ]
    },
    {
      "cell_type": "code",
      "source": [
        "ds[\"train\"][0].keys()"
      ],
      "metadata": {
        "colab": {
          "base_uri": "https://localhost:8080/"
        },
        "id": "U6D0vx8ooP3-",
        "outputId": "c5a929f8-e472-4147-e78e-c63e2a12ed84"
      },
      "execution_count": 8,
      "outputs": [
        {
          "output_type": "execute_result",
          "data": {
            "text/plain": [
              "dict_keys(['id', 'words', 'bboxes', 'ner_tags', 'image_path'])"
            ]
          },
          "metadata": {},
          "execution_count": 8
        }
      ]
    },
    {
      "cell_type": "code",
      "source": [
        "def collate_fn(batch, model) -> dict:\n",
        "  images, text, boxes, word_labels = [], [], [], []\n",
        "  for record in batch:\n",
        "    boxes.append(record[\"bboxes\"])\n",
        "    images.append(Image.open(record[\"image_path\"]).convert(\"RGB\"))\n",
        "    text.append(record[\"words\"])\n",
        "    word_labels.append(record[\"ner_tags\"])\n",
        "  return model(\n",
        "    images=images,\n",
        "    text=text,\n",
        "    boxes=boxes,\n",
        "    word_labels=word_labels,\n",
        "    truncation=True,\n",
        "    padding=True,\n",
        "    return_tensors=\"pt\",\n",
        "    max_length=512,\n",
        "  )"
      ],
      "metadata": {
        "id": "PSWKAazloF-z"
      },
      "execution_count": 9,
      "outputs": []
    },
    {
      "cell_type": "code",
      "source": [
        "fn = partial(collate_fn, model=preprocessor)\n",
        "\n",
        "# train_sampler = RandomSampler(ds[\"train\"], replacement=True, num_samples=STEPS*BATCH_SIZE)\n",
        "\n",
        "dl_train = DataLoader(ds[\"train\"], batch_size=BATCH_SIZE, collate_fn=fn) # , sampler=train_sampler)\n",
        "dl_test = DataLoader(ds[\"test\"], batch_size=BATCH_SIZE, collate_fn=fn)"
      ],
      "metadata": {
        "id": "GLkX17Ojrq3u"
      },
      "execution_count": 11,
      "outputs": []
    },
    {
      "cell_type": "code",
      "source": [
        "batch = next(iter(dl_train))\n",
        "print(f\"{batch.keys()=}\")\n",
        "print(f\"{batch['bbox'].shape=}\")"
      ],
      "metadata": {
        "colab": {
          "base_uri": "https://localhost:8080/"
        },
        "id": "aAwMGR5I8XRF",
        "outputId": "e896b54a-ec98-4966-c308-c3fb51678d8b"
      },
      "execution_count": 12,
      "outputs": [
        {
          "output_type": "stream",
          "name": "stdout",
          "text": [
            "batch.keys()=dict_keys(['input_ids', 'attention_mask', 'bbox', 'labels', 'image'])\n",
            "batch['bbox'].shape=torch.Size([4, 512, 4])\n"
          ]
        }
      ]
    },
    {
      "cell_type": "code",
      "source": [
        "model = (\n",
        "    LayoutLMv2ForTokenClassification\n",
        "    .from_pretrained(model_id, num_labels=len(labels))\n",
        "    .to(device)\n",
        ")"
      ],
      "metadata": {
        "colab": {
          "base_uri": "https://localhost:8080/"
        },
        "id": "J3E1e7osqmC7",
        "outputId": "23e5ee3b-618f-4d1c-d98d-73e82c067a51"
      },
      "execution_count": 13,
      "outputs": [
        {
          "output_type": "stream",
          "name": "stderr",
          "text": [
            "Some weights of the model checkpoint at microsoft/layoutxlm-base were not used when initializing LayoutLMv2ForTokenClassification: ['layoutlmv2.visual.backbone.bottom_up.res2.2.conv1.norm.num_batches_tracked', 'layoutlmv2.visual.backbone.bottom_up.res4.10.conv1.norm.num_batches_tracked', 'layoutlmv2.visual.backbone.bottom_up.res4.7.conv3.norm.num_batches_tracked', 'layoutlmv2.visual.backbone.bottom_up.res3.2.conv1.norm.num_batches_tracked', 'layoutlmv2.visual.backbone.bottom_up.stem.conv1.norm.num_batches_tracked', 'layoutlmv2.visual.backbone.bottom_up.res4.10.conv2.norm.num_batches_tracked', 'layoutlmv2.visual.backbone.bottom_up.res5.2.conv1.norm.num_batches_tracked', 'layoutlmv2.visual.backbone.bottom_up.res3.3.conv3.norm.num_batches_tracked', 'layoutlmv2.visual.backbone.bottom_up.res4.18.conv3.norm.num_batches_tracked', 'layoutlmv2.visual.backbone.bottom_up.res2.0.shortcut.norm.num_batches_tracked', 'layoutlmv2.visual.backbone.bottom_up.res5.1.conv3.norm.num_batches_tracked', 'layoutlmv2.visual.backbone.bottom_up.res2.1.conv3.norm.num_batches_tracked', 'layoutlmv2.visual.backbone.bottom_up.res2.0.conv2.norm.num_batches_tracked', 'layoutlmv2.visual.backbone.bottom_up.res4.22.conv2.norm.num_batches_tracked', 'layoutlmv2.visual.backbone.bottom_up.res4.18.conv2.norm.num_batches_tracked', 'layoutlmv2.visual.backbone.bottom_up.res4.9.conv1.norm.num_batches_tracked', 'layoutlmv2.visual.backbone.bottom_up.res4.15.conv1.norm.num_batches_tracked', 'layoutlmv2.visual.backbone.bottom_up.res4.7.conv2.norm.num_batches_tracked', 'layoutlmv2.visual.backbone.bottom_up.res4.9.conv2.norm.num_batches_tracked', 'layoutlmv2.visual.backbone.bottom_up.res4.13.conv1.norm.num_batches_tracked', 'layoutlmv2.visual.backbone.bottom_up.res4.1.conv1.norm.num_batches_tracked', 'layoutlmv2.visual.backbone.bottom_up.res4.15.conv3.norm.num_batches_tracked', 'layoutlmv2.visual.backbone.bottom_up.res4.0.conv1.norm.num_batches_tracked', 'layoutlmv2.visual.backbone.bottom_up.res4.7.conv1.norm.num_batches_tracked', 'layoutlmv2.visual.backbone.bottom_up.res4.17.conv2.norm.num_batches_tracked', 'layoutlmv2.visual.backbone.bottom_up.res4.22.conv1.norm.num_batches_tracked', 'layoutlmv2.visual.backbone.bottom_up.res4.20.conv3.norm.num_batches_tracked', 'layoutlmv2.visual.backbone.bottom_up.res4.6.conv2.norm.num_batches_tracked', 'layoutlmv2.visual.backbone.bottom_up.res5.0.conv1.norm.num_batches_tracked', 'layoutlmv2.visual.backbone.bottom_up.res5.0.shortcut.norm.num_batches_tracked', 'layoutlmv2.visual.backbone.bottom_up.res4.19.conv2.norm.num_batches_tracked', 'layoutlmv2.visual.backbone.bottom_up.res4.20.conv1.norm.num_batches_tracked', 'layoutlmv2.visual.backbone.bottom_up.res4.12.conv1.norm.num_batches_tracked', 'layoutlmv2.visual.backbone.bottom_up.res4.4.conv1.norm.num_batches_tracked', 'layoutlmv2.visual.backbone.bottom_up.res4.4.conv3.norm.num_batches_tracked', 'layoutlmv2.visual.backbone.bottom_up.res4.8.conv2.norm.num_batches_tracked', 'layoutlmv2.visual.backbone.bottom_up.res4.16.conv2.norm.num_batches_tracked', 'layoutlmv2.visual.backbone.bottom_up.res3.3.conv1.norm.num_batches_tracked', 'layoutlmv2.visual.backbone.bottom_up.res4.0.conv3.norm.num_batches_tracked', 'layoutlmv2.visual.backbone.bottom_up.res3.0.shortcut.norm.num_batches_tracked', 'layoutlmv2.visual.backbone.bottom_up.res4.4.conv2.norm.num_batches_tracked', 'layoutlmv2.visual.backbone.bottom_up.res4.5.conv2.norm.num_batches_tracked', 'layoutlmv2.visual.backbone.bottom_up.res4.6.conv1.norm.num_batches_tracked', 'layoutlmv2.visual.backbone.bottom_up.res4.21.conv1.norm.num_batches_tracked', 'layoutlmv2.visual.backbone.bottom_up.res4.3.conv1.norm.num_batches_tracked', 'layoutlmv2.visual.backbone.bottom_up.res4.13.conv2.norm.num_batches_tracked', 'layoutlmv2.visual.backbone.bottom_up.res4.1.conv2.norm.num_batches_tracked', 'layoutlmv2.visual.backbone.bottom_up.res2.2.conv2.norm.num_batches_tracked', 'layoutlmv2.visual.backbone.bottom_up.res4.13.conv3.norm.num_batches_tracked', 'layoutlmv2.visual.backbone.bottom_up.res3.2.conv3.norm.num_batches_tracked', 'layoutlmv2.visual.backbone.bottom_up.res5.0.conv2.norm.num_batches_tracked', 'layoutlmv2.visual.backbone.bottom_up.res4.14.conv3.norm.num_batches_tracked', 'layoutlmv2.visual.backbone.bottom_up.res4.2.conv3.norm.num_batches_tracked', 'layoutlmv2.visual.backbone.bottom_up.res4.11.conv2.norm.num_batches_tracked', 'layoutlmv2.visual.backbone.bottom_up.res2.0.conv1.norm.num_batches_tracked', 'layoutlmv2.visual.backbone.bottom_up.res4.11.conv3.norm.num_batches_tracked', 'layoutlmv2.visual.backbone.bottom_up.res3.0.conv3.norm.num_batches_tracked', 'layoutlmv2.visual.backbone.bottom_up.res4.12.conv3.norm.num_batches_tracked', 'layoutlmv2.visual.backbone.bottom_up.res3.1.conv1.norm.num_batches_tracked', 'layoutlmv2.visual.backbone.bottom_up.res4.20.conv2.norm.num_batches_tracked', 'layoutlmv2.visual.backbone.bottom_up.res4.22.conv3.norm.num_batches_tracked', 'layoutlmv2.visual.backbone.bottom_up.res4.5.conv1.norm.num_batches_tracked', 'layoutlmv2.visual.backbone.bottom_up.res4.0.conv2.norm.num_batches_tracked', 'layoutlmv2.visual.backbone.bottom_up.res4.19.conv3.norm.num_batches_tracked', 'layoutlmv2.visual.backbone.bottom_up.res3.1.conv2.norm.num_batches_tracked', 'layoutlmv2.visual.backbone.bottom_up.res4.14.conv2.norm.num_batches_tracked', 'layoutlmv2.visual.backbone.bottom_up.res5.2.conv2.norm.num_batches_tracked', 'layoutlmv2.visual.backbone.bottom_up.res5.0.conv3.norm.num_batches_tracked', 'layoutlmv2.visual.backbone.bottom_up.res3.1.conv3.norm.num_batches_tracked', 'layoutlmv2.visual.backbone.bottom_up.res4.16.conv3.norm.num_batches_tracked', 'layoutlmv2.visual.backbone.bottom_up.res4.11.conv1.norm.num_batches_tracked', 'layoutlmv2.visual.backbone.bottom_up.res4.3.conv2.norm.num_batches_tracked', 'layoutlmv2.visual.backbone.bottom_up.res2.1.conv1.norm.num_batches_tracked', 'layoutlmv2.visual.backbone.bottom_up.res4.3.conv3.norm.num_batches_tracked', 'layoutlmv2.visual.backbone.bottom_up.res4.8.conv1.norm.num_batches_tracked', 'layoutlmv2.visual.backbone.bottom_up.res4.14.conv1.norm.num_batches_tracked', 'layoutlmv2.visual.backbone.bottom_up.res4.8.conv3.norm.num_batches_tracked', 'layoutlmv2.visual.backbone.bottom_up.res4.1.conv3.norm.num_batches_tracked', 'layoutlmv2.visual.backbone.bottom_up.res4.16.conv1.norm.num_batches_tracked', 'layoutlmv2.visual.backbone.bottom_up.res3.2.conv2.norm.num_batches_tracked', 'layoutlmv2.visual.backbone.bottom_up.res5.1.conv2.norm.num_batches_tracked', 'layoutlmv2.visual.backbone.bottom_up.res2.2.conv3.norm.num_batches_tracked', 'layoutlmv2.visual.backbone.bottom_up.res4.10.conv3.norm.num_batches_tracked', 'layoutlmv2.visual.backbone.bottom_up.res4.17.conv1.norm.num_batches_tracked', 'layoutlmv2.visual.backbone.bottom_up.res2.0.conv3.norm.num_batches_tracked', 'layoutlmv2.visual.backbone.bottom_up.res4.19.conv1.norm.num_batches_tracked', 'layoutlmv2.visual.backbone.bottom_up.res5.1.conv1.norm.num_batches_tracked', 'layoutlmv2.visual.backbone.bottom_up.res3.3.conv2.norm.num_batches_tracked', 'layoutlmv2.visual.backbone.bottom_up.res4.6.conv3.norm.num_batches_tracked', 'layoutlmv2.visual.backbone.bottom_up.res3.0.conv1.norm.num_batches_tracked', 'layoutlmv2.visual.backbone.bottom_up.res4.12.conv2.norm.num_batches_tracked', 'layoutlmv2.visual.backbone.bottom_up.res4.5.conv3.norm.num_batches_tracked', 'layoutlmv2.visual.backbone.bottom_up.res4.21.conv2.norm.num_batches_tracked', 'layoutlmv2.visual.backbone.bottom_up.res2.1.conv2.norm.num_batches_tracked', 'layoutlmv2.visual.backbone.bottom_up.res4.2.conv2.norm.num_batches_tracked', 'layoutlmv2.visual.backbone.bottom_up.res4.9.conv3.norm.num_batches_tracked', 'layoutlmv2.visual.backbone.bottom_up.res4.18.conv1.norm.num_batches_tracked', 'layoutlmv2.visual.backbone.bottom_up.res3.0.conv2.norm.num_batches_tracked', 'layoutlmv2.visual.backbone.bottom_up.res4.15.conv2.norm.num_batches_tracked', 'layoutlmv2.visual.backbone.bottom_up.res4.2.conv1.norm.num_batches_tracked', 'layoutlmv2.visual.backbone.bottom_up.res4.21.conv3.norm.num_batches_tracked', 'layoutlmv2.visual.backbone.bottom_up.res5.2.conv3.norm.num_batches_tracked', 'layoutlmv2.visual.backbone.bottom_up.res4.0.shortcut.norm.num_batches_tracked', 'layoutlmv2.visual.backbone.bottom_up.res4.17.conv3.norm.num_batches_tracked']\n",
            "- This IS expected if you are initializing LayoutLMv2ForTokenClassification from the checkpoint of a model trained on another task or with another architecture (e.g. initializing a BertForSequenceClassification model from a BertForPreTraining model).\n",
            "- This IS NOT expected if you are initializing LayoutLMv2ForTokenClassification from the checkpoint of a model that you expect to be exactly identical (initializing a BertForSequenceClassification model from a BertForSequenceClassification model).\n",
            "Some weights of LayoutLMv2ForTokenClassification were not initialized from the model checkpoint at microsoft/layoutxlm-base and are newly initialized: ['classifier.weight', 'classifier.bias']\n",
            "You should probably TRAIN this model on a down-stream task to be able to use it for predictions and inference.\n"
          ]
        }
      ]
    },
    {
      "cell_type": "code",
      "source": [
        "# outputs = model(\n",
        "#     input_ids=batch[\"input_ids\"].to(device),\n",
        "#     bbox=batch[\"bbox\"].to(device),\n",
        "#     image=batch[\"image\"].to(device),\n",
        "# )\n",
        "# print(f\"{outputs.loss=}\")\n",
        "# print(f\"{outputs.logits.shape=}\")"
      ],
      "metadata": {
        "id": "Vc5Cy2WrFnkf"
      },
      "execution_count": 14,
      "outputs": []
    },
    {
      "cell_type": "code",
      "source": [
        "def validate_batch(batch, model, metric, device):\n",
        "  with torch.inference_mode():\n",
        "    labels = batch['labels'].to(device)\n",
        "    outputs = model(\n",
        "      input_ids=batch['input_ids'].to(device), \n",
        "      bbox=batch['bbox'].to(device), \n",
        "      image=batch['image'].to(device),\n",
        "      labels=labels,\n",
        "    )\n",
        "    predictions = outputs.logits.argmax(dim=-1)\n",
        "    loss = outputs.loss.item()\n",
        "    y_true, y_pred = list(), list()\n",
        "    for vec_pred, vec_label in zip(predictions, labels):\n",
        "      acc_y_true, acc_y_pred = list(), list()\n",
        "      for tkn_pred, tkn_label in zip(vec_pred, vec_label):\n",
        "        if tkn_label != -100:\n",
        "          acc_y_pred.append(id2label[tkn_pred.item()])\n",
        "          acc_y_true.append(id2label[tkn_label.item()])\n",
        "      y_true.append(acc_y_true)\n",
        "      y_pred.append(acc_y_pred)\n",
        "\n",
        "    metric.add_batch(predictions=y_pred, references=y_true)\n",
        "  return loss"
      ],
      "metadata": {
        "id": "JnP1zsPse1jv"
      },
      "execution_count": 15,
      "outputs": []
    },
    {
      "cell_type": "code",
      "source": [
        "def validate(data_loader, model, device):\n",
        "  metric = load_metric(\"seqeval\")\n",
        "  losses = []\n",
        "  for batch in data_loader: \n",
        "    loss = validate_batch(batch, model, metric, device)\n",
        "    losses.append(loss)\n",
        "  metrics = metric.compute()\n",
        "  logging.warning(\n",
        "    f\"Loss: {metrics['overall_f1']:.3f} - \"\n",
        "    f\"Acc: {metrics['overall_accuracy']:.3%} - \"\n",
        "    f\"Recall {metrics['overall_recall']:.3%} - \"\n",
        "    f\"F1: {metrics['overall_f1']:.3%}\"\n",
        "  )\n",
        "  return np.mean(losses), metrics"
      ],
      "metadata": {
        "id": "4TsEzfDndwC_"
      },
      "execution_count": 16,
      "outputs": []
    },
    {
      "cell_type": "code",
      "source": [
        "_ = validate(dl_test, model, device)"
      ],
      "metadata": {
        "colab": {
          "base_uri": "https://localhost:8080/"
        },
        "id": "DsGnxr2r4vtq",
        "outputId": "b40705a7-ddc7-4299-c182-6a8cb5cbed35"
      },
      "execution_count": 17,
      "outputs": [
        {
          "output_type": "stream",
          "name": "stderr",
          "text": [
            "<ipython-input-16-a7a728e91053>:2: FutureWarning: load_metric is deprecated and will be removed in the next major version of datasets. Use 'evaluate.load' instead, from the new library 🤗 Evaluate: https://huggingface.co/docs/evaluate\n",
            "  metric = load_metric(\"seqeval\")\n",
            "WARNING:root:Loss: 0.024 - Acc: 3.788% - Recall 4.252% - F1: 2.425%\n"
          ]
        }
      ]
    },
    {
      "cell_type": "code",
      "source": [
        "def train_step(batch, model, optimizer, device):\n",
        "  model.train()\n",
        "  optimizer.zero_grad()\n",
        "  outputs = model(\n",
        "      input_ids=batch[\"input_ids\"].to(device),\n",
        "      bbox=batch[\"bbox\"].to(device),\n",
        "      image=batch[\"image\"].to(device),\n",
        "      labels=batch[\"labels\"].to(device),\n",
        "  )\n",
        "  loss, logits = outputs.loss, outputs.logits\n",
        "  loss.backward()\n",
        "  optimizer.step()\n",
        "  return loss, logits"
      ],
      "metadata": {
        "id": "eKU_ATDjeRaf"
      },
      "execution_count": 18,
      "outputs": []
    },
    {
      "cell_type": "code",
      "source": [
        "from datetime import datetime\n",
        "\n",
        "writer = SummaryWriter(log_dir=f\"logs/{datetime.now().isoformat()}\")\n",
        "tb_keys = ['overall_precision', 'overall_recall', 'overall_f1', 'overall_accuracy']"
      ],
      "metadata": {
        "id": "KNlJpJ8MNzG1"
      },
      "execution_count": 19,
      "outputs": []
    },
    {
      "cell_type": "code",
      "source": [
        "def create_scheduler(optimizer, warmup_steps, total_steps):\n",
        "  warmup_scheduler = LambdaLR(optimizer, lr_lambda=lambda step: float(step / warmup_steps))\n",
        "  train_scheduler = CosineAnnealingLR(optimizer, T_max=total_steps-warmup_steps, eta_min=1e-5) \n",
        "  seq = SequentialLR(optimizer, [warmup_scheduler, train_scheduler], milestones=[warmup_steps])\n",
        "  return seq"
      ],
      "metadata": {
        "id": "QA07bsLOXklm"
      },
      "execution_count": 20,
      "outputs": []
    },
    {
      "cell_type": "code",
      "source": [
        "def plot_lr_schedule(scheduler_fn, optimizer_fn, num_steps):\n",
        "  lrs = []\n",
        "  optimizer = optimizer_fn([torch.Tensor(1)])\n",
        "  scheduler = scheduler_fn(optimizer)\n",
        "  for _ in tqdm(range(num_steps)):\n",
        "    optimizer.step()\n",
        "    try:\n",
        "      lrs.append(scheduler.get_lr())\n",
        "    except NotImplementedError:\n",
        "      lrs.append(scheduler.get_last_lr())\n",
        "    scheduler.step()\n",
        "\n",
        "  plt.plot(lrs)\n",
        "  plt.show()"
      ],
      "metadata": {
        "id": "zlnhvIvWmuiM"
      },
      "execution_count": 21,
      "outputs": []
    },
    {
      "cell_type": "code",
      "source": [
        "plot_lr_schedule(\n",
        "  scheduler_fn=partial(create_scheduler, warmup_steps=100, total_steps=500), \n",
        "  optimizer_fn=partial(AdamW, lr=LR), \n",
        "  num_steps=500,\n",
        ")"
      ],
      "metadata": {
        "colab": {
          "base_uri": "https://localhost:8080/",
          "height": 448
        },
        "id": "t_fOMF_-mvic",
        "outputId": "9d3b2835-968f-4400-b17f-1d66d4ea8d83"
      },
      "execution_count": 22,
      "outputs": [
        {
          "output_type": "stream",
          "name": "stderr",
          "text": [
            "100%|██████████| 500/500 [00:00<00:00, 23647.20it/s]\n"
          ]
        },
        {
          "output_type": "display_data",
          "data": {
            "text/plain": [
              "<Figure size 640x480 with 1 Axes>"
            ],
            "image/png": "[encoded data removed]"
          },
          "metadata": {}
        }
      ]
    },
    {
      "cell_type": "code",
      "source": [
        "# scheduler = create_scheduler(optimizer, warmup_steps=WARMUP_STEPS, total_steps=STEPS)"
      ],
      "metadata": {
        "id": "7Wq780sI9PXr"
      },
      "execution_count": 23,
      "outputs": []
    },
    {
      "cell_type": "code",
      "source": [
        "LEN_DL = len(dl_train)\n",
        "STEPS = LEN_DL * EPOCHS\n",
        "NUM_VALIDATIONS = 10\n",
        "VAL_STEPS = STEPS // NUM_VALIDATIONS\n",
        "print(f\"{STEPS}\")\n",
        "print(f\"{VAL_STEPS}\")"
      ],
      "metadata": {
        "colab": {
          "base_uri": "https://localhost:8080/"
        },
        "id": "4h8BQmM4B9D1",
        "outputId": "751e6df5-398f-4ce9-e371-8ced2eb5b273"
      },
      "execution_count": 24,
      "outputs": [
        {
          "output_type": "stream",
          "name": "stdout",
          "text": [
            "190\n",
            "19\n"
          ]
        }
      ]
    },
    {
      "cell_type": "code",
      "source": [
        "optimizer = AdamW(model.parameters(), lr=5e-5)"
      ],
      "metadata": {
        "id": "yquWo5YesKa4"
      },
      "execution_count": 25,
      "outputs": []
    },
    {
      "cell_type": "code",
      "source": [
        "history = {\n",
        "    \"train\": { \"loss\": []},\n",
        "    \"test\": { \"loss\": [], \"metrics\": []},\n",
        "}\n",
        "\n",
        "\n",
        "step_idx = 0\n",
        "for epoch_idx in range(EPOCHS):\n",
        "  pbar = tqdm(enumerate(dl_train))\n",
        "  epoch_losses = []\n",
        "  for batch_idx, batch in pbar:\n",
        "    loss, logits = train_step(batch, model, optimizer, device)\n",
        "    epoch_losses.append(loss.item())\n",
        "    pbar.set_description(\n",
        "      \" - \".join([\n",
        "        f\"Epoch {epoch_idx}/{EPOCHS}\",\n",
        "        f\"Step {batch_idx}/{LEN_DL}\",\n",
        "        f\"Loss: {np.mean(epoch_losses):.3f}\",\n",
        "      ])\n",
        "    )\n",
        "    # scheduler.step()\n",
        "  history['train']['loss'].append(np.mean(epoch_losses))\n",
        "  epoch_test_loss, epoch_metrics = validate(dl_test, model, device)\n",
        "  history[\"test\"][\"loss\"].append(epoch_test_loss)\n",
        "  history[\"test\"][\"metrics\"].append(epoch_metrics)\n",
        "  writer.add_scalars(\"eval\", {k: epoch_metrics[k] for k in tb_keys}, step_idx)\n",
        "  torch.cuda.empty_cache()\n",
        "  step_idx += 1"
      ],
      "metadata": {
        "id": "yIdKnmlFeD1C",
        "colab": {
          "base_uri": "https://localhost:8080/"
        },
        "outputId": "b76b846d-4dce-462b-9012-be8479a85884"
      },
      "execution_count": null,
      "outputs": [
        {
          "output_type": "stream",
          "name": "stderr",
          "text": [
            "Epoch 0/5Step 37/38 - Loss: 1.243: : 38it [00:29,  1.28it/s]\n",
            "WARNING:root:Loss: 0.623 - Acc: 72.530% - Recall 68.131% - F1: 62.254%\n",
            "Epoch 1/5Step 37/38 - Loss: 0.729: : 38it [00:28,  1.33it/s]\n",
            "WARNING:root:Loss: 0.658 - Acc: 73.494% - Recall 73.598% - F1: 65.817%\n",
            "Epoch 2/5Step 28/38 - Loss: 0.554: : 28it [00:22,  1.25it/s]"
          ]
        }
      ]
    },
    {
      "cell_type": "code",
      "source": [],
      "metadata": {
        "id": "15UF_x08RF82"
      },
      "execution_count": null,
      "outputs": []
    },
    {
      "cell_type": "code",
      "source": [],
      "metadata": {
        "id": "WOwEkUOERFqw"
      },
      "execution_count": null,
      "outputs": []
    },
    {
      "cell_type": "code",
      "source": [],
      "metadata": {
        "id": "-VeHs7UkVQeq"
      },
      "execution_count": null,
      "outputs": []
    },
    {
      "cell_type": "code",
      "source": [
        "%tensorboard --logdir logs/"
      ],
      "metadata": {
        "id": "MPr2xtXOjF6j"
      },
      "execution_count": null,
      "outputs": []
    }
  ]
}