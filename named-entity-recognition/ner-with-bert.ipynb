{
 "cells": [
  {
   "cell_type": "markdown",
   "id": "1e6586f9-2ec0-461c-9ffb-071f222cb13f",
   "metadata": {},
   "source": [
    "## References\n",
    "\n",
    "https://stackoverflow.com/questions/69195950/problem-with-inputs-when-building-a-model-with-tfbertmodel-and-autotokenizer-fro"
   ]
  },
  {
   "cell_type": "code",
   "execution_count": 67,
   "id": "4e5dd0f9-e22f-4426-8338-67d68e2e4894",
   "metadata": {},
   "outputs": [],
   "source": [
    "import json\n",
    "from pathlib import Path\n",
    "from typing import List\n",
    "\n",
    "from matplotlib import pyplot as plt\n",
    "import numpy as np\n",
    "import pandas as pd\n",
    "\n",
    "import tensorflow as tf\n",
    "from tensorflow import keras\n",
    "import keras.layers as L\n",
    "import keras.models as M\n",
    "import keras.losses as LL\n",
    "import tensorflow_datasets as tfds\n",
    "import tensorflow_models as tfm\n",
    "import transformers\n",
    "from transformers import AutoTokenizer, TFDistilBertForTokenClassification\n",
    "\n",
    "from conlleval import evaluate"
   ]
  },
  {
   "cell_type": "code",
   "execution_count": 2,
   "id": "20cbe9f7-fd13-4799-be2d-7a40aeb7c9dd",
   "metadata": {},
   "outputs": [
    {
     "name": "stderr",
     "output_type": "stream",
     "text": [
      "2023-01-10 04:32:27.669576: W tensorflow/compiler/xla/stream_executor/platform/default/dso_loader.cc:64] Could not load dynamic library 'libcuda.so.1'; dlerror: libcuda.so.1: cannot open shared object file: No such file or directory; LD_LIBRARY_PATH: /home/calcifer/git/marco/learn-deep-learning/.env/lib/python3.10/site-packages/cv2/../../lib64:\n",
      "2023-01-10 04:32:27.669890: W tensorflow/compiler/xla/stream_executor/cuda/cuda_driver.cc:265] failed call to cuInit: UNKNOWN ERROR (303)\n",
      "2023-01-10 04:32:27.669919: I tensorflow/compiler/xla/stream_executor/cuda/cuda_diagnostics.cc:156] kernel driver does not appear to be running on this host (calcifer-Inspiron-7370): /proc/driver/nvidia/version does not exist\n",
      "2023-01-10 04:32:27.671474: I tensorflow/core/platform/cpu_feature_guard.cc:193] This TensorFlow binary is optimized with oneAPI Deep Neural Network Library (oneDNN) to use the following CPU instructions in performance-critical operations:  AVX2 FMA\n",
      "To enable them in other operations, rebuild TensorFlow with the appropriate compiler flags.\n"
     ]
    }
   ],
   "source": [
    "(ds_train, ds_val, ds_test), info = tfds.load(\"conll2003\", with_info=True, split=[\"train\", \"dev\", \"test\"])"
   ]
  },
  {
   "cell_type": "code",
   "execution_count": 3,
   "id": "95cd4145-c603-4e2d-bfa5-eedff462ab73",
   "metadata": {},
   "outputs": [
    {
     "data": {
      "text/plain": [
       "['[PAD]',\n",
       " 'O',\n",
       " 'B-PER',\n",
       " 'I-PER',\n",
       " 'B-ORG',\n",
       " 'I-ORG',\n",
       " 'B-LOC',\n",
       " 'I-LOC',\n",
       " 'B-MISC',\n",
       " 'I-MISC']"
      ]
     },
     "execution_count": 3,
     "metadata": {},
     "output_type": "execute_result"
    }
   ],
   "source": [
    "tag_names = [\"[PAD]\"] + info.features[\"ner\"].names\n",
    "tag_ids = range(len(tag_names))\n",
    "label_ids_to_tags = dict(enumerate(tag_names))\n",
    "tag_names"
   ]
  },
  {
   "cell_type": "code",
   "execution_count": 4,
   "id": "6e18c2b3-21c9-4762-81c5-afefa60a36a9",
   "metadata": {},
   "outputs": [
    {
     "name": "stderr",
     "output_type": "stream",
     "text": [
      "2023-01-10 04:32:27.975003: W tensorflow/core/kernels/data/cache_dataset_ops.cc:856] The calling iterator did not fully read the dataset being cached. In order to avoid unexpected truncation of the dataset, the partially cached contents of the dataset  will be discarded. This can happen if you have an input pipeline similar to `dataset.cache().take(k).repeat()`. You should use `dataset.take(k).cache().repeat()` instead.\n"
     ]
    },
    {
     "data": {
      "text/plain": [
       "{'chunks': array([ 0, 17, 11, 21, 22, 11, 12, 12, 12,  0,  3, 11, 12, 12, 21, 22, 22,\n",
       "        11, 12, 12, 12,  0,  0, 21, 11, 12, 12, 12, 11, 21, 22, 22, 22,  0]),\n",
       " 'ner': array([0, 0, 0, 0, 0, 0, 0, 0, 0, 0, 0, 0, 0, 0, 0, 0, 0, 0, 0, 0, 0, 0,\n",
       "        0, 0, 0, 5, 0, 0, 0, 0, 0, 0, 0, 0]),\n",
       " 'pos': array([ 0, 15, 28, 41, 39, 15, 18, 11, 21,  6, 30, 29, 16, 24, 41, 30, 39,\n",
       "        11, 10, 11, 21,  6,  0, 38, 11, 22, 24, 21, 44, 38, 35, 37, 40,  7]),\n",
       " 'tokens': array([b'\"', b'If', b'they', b\"'re\", b'saying', b'at', b'least', b'20',\n",
       "        b'percent', b',', b'then', b'their', b'internal', b'forecasts',\n",
       "        b'are', b'probably', b'saying', b'25', b'or', b'30', b'percent',\n",
       "        b',', b'\"', b'said', b'one', b'Sydney', b'media', b'analyst',\n",
       "        b'who', b'declined', b'to', b'be', b'named', b'.'], dtype=object)}"
      ]
     },
     "execution_count": 4,
     "metadata": {},
     "output_type": "execute_result"
    }
   ],
   "source": [
    "sample = ds_train.as_numpy_iterator().next()\n",
    "sample"
   ]
  },
  {
   "cell_type": "markdown",
   "id": "1b6c14df-18ef-417f-9260-ce97e1eedf28",
   "metadata": {
    "tags": []
   },
   "source": [
    "## Prepare the dataset"
   ]
  },
  {
   "cell_type": "code",
   "execution_count": 5,
   "id": "b33b3fc5-29ee-42c8-8a98-a379747dac4d",
   "metadata": {},
   "outputs": [],
   "source": [
    "VOCAB_FILE = Path.cwd() / \"vocab.txt\"\n",
    "\n",
    "TRANSFORMER_MODEL_NAME = \"distilbert-base-cased\""
   ]
  },
  {
   "cell_type": "code",
   "execution_count": 6,
   "id": "33fdc082-552d-4c78-a6b7-4d0d90797980",
   "metadata": {},
   "outputs": [],
   "source": [
    "transformers_tokenizer = AutoTokenizer.from_pretrained(TRANSFORMER_MODEL_NAME)"
   ]
  },
  {
   "cell_type": "code",
   "execution_count": 7,
   "id": "edb5aba1-9cce-4266-a1c7-f9b46a8dfc41",
   "metadata": {},
   "outputs": [
    {
     "data": {
      "text/html": [
       "<div>\n",
       "<style scoped>\n",
       "    .dataframe tbody tr th:only-of-type {\n",
       "        vertical-align: middle;\n",
       "    }\n",
       "\n",
       "    .dataframe tbody tr th {\n",
       "        vertical-align: top;\n",
       "    }\n",
       "\n",
       "    .dataframe thead th {\n",
       "        text-align: right;\n",
       "    }\n",
       "</style>\n",
       "<table border=\"1\" class=\"dataframe\">\n",
       "  <thead>\n",
       "    <tr style=\"text-align: right;\">\n",
       "      <th></th>\n",
       "      <th>token</th>\n",
       "      <th>idx</th>\n",
       "    </tr>\n",
       "  </thead>\n",
       "  <tbody>\n",
       "    <tr>\n",
       "      <th>0</th>\n",
       "      <td>[PAD]</td>\n",
       "      <td>0</td>\n",
       "    </tr>\n",
       "    <tr>\n",
       "      <th>1</th>\n",
       "      <td>[unused1]</td>\n",
       "      <td>1</td>\n",
       "    </tr>\n",
       "    <tr>\n",
       "      <th>2</th>\n",
       "      <td>[unused2]</td>\n",
       "      <td>2</td>\n",
       "    </tr>\n",
       "    <tr>\n",
       "      <th>3</th>\n",
       "      <td>[unused3]</td>\n",
       "      <td>3</td>\n",
       "    </tr>\n",
       "    <tr>\n",
       "      <th>4</th>\n",
       "      <td>[unused4]</td>\n",
       "      <td>4</td>\n",
       "    </tr>\n",
       "  </tbody>\n",
       "</table>\n",
       "</div>"
      ],
      "text/plain": [
       "       token  idx\n",
       "0      [PAD]    0\n",
       "1  [unused1]    1\n",
       "2  [unused2]    2\n",
       "3  [unused3]    3\n",
       "4  [unused4]    4"
      ]
     },
     "execution_count": 7,
     "metadata": {},
     "output_type": "execute_result"
    }
   ],
   "source": [
    "df = (\n",
    "    pd.DataFrame.from_dict(transformers_tokenizer.get_vocab(), orient=\"index\")\n",
    "    .reset_index()\n",
    "    .rename({\"index\": \"token\", 0: \"idx\"}, axis=1)\n",
    "    .sort_values(\"idx\")\n",
    "    .reset_index(drop=True)\n",
    ")\n",
    "df.head()"
   ]
  },
  {
   "cell_type": "code",
   "execution_count": 8,
   "id": "736b8887-dc4c-4c51-a2ce-e12694840829",
   "metadata": {},
   "outputs": [],
   "source": [
    "df[\"token\"].to_csv(path_or_buf=VOCAB_FILE, index=False, header=False)"
   ]
  },
  {
   "cell_type": "markdown",
   "id": "a34cf109-ec92-411d-bae5-7aab4513fa62",
   "metadata": {},
   "source": [
    "## Create the tokenizer"
   ]
  },
  {
   "cell_type": "code",
   "execution_count": 9,
   "id": "1917f56a-9ac3-4418-8f39-aa34103fbcb1",
   "metadata": {},
   "outputs": [],
   "source": [
    "tokenizer = tfm.nlp.layers.BertTokenizer(\n",
    "    vocab_file=VOCAB_FILE.as_posix(),\n",
    "    lower_case=False,\n",
    "    tokenize_with_offsets=True,\n",
    ")"
   ]
  },
  {
   "cell_type": "code",
   "execution_count": 10,
   "id": "24bf9192-c0af-4b2f-bbb2-b40830b0e3b0",
   "metadata": {},
   "outputs": [
    {
     "name": "stdout",
     "output_type": "stream",
     "text": [
      "WARNING:tensorflow:From /home/calcifer/git/marco/learn-deep-learning/.env/lib/python3.10/site-packages/tensorflow/python/autograph/pyct/static_analysis/liveness.py:83: Analyzer.lamba_check (from tensorflow.python.autograph.pyct.static_analysis.liveness) is deprecated and will be removed after 2023-09-23.\n",
      "Instructions for updating:\n",
      "Lambda fuctions will be no more assumed to be used in the statement where they are used, or at least in the same block. https://github.com/tensorflow/tensorflow/issues/56089\n"
     ]
    },
    {
     "name": "stderr",
     "output_type": "stream",
     "text": [
      "WARNING:tensorflow:From /home/calcifer/git/marco/learn-deep-learning/.env/lib/python3.10/site-packages/tensorflow/python/autograph/pyct/static_analysis/liveness.py:83: Analyzer.lamba_check (from tensorflow.python.autograph.pyct.static_analysis.liveness) is deprecated and will be removed after 2023-09-23.\n",
      "Instructions for updating:\n",
      "Lambda fuctions will be no more assumed to be used in the statement where they are used, or at least in the same block. https://github.com/tensorflow/tensorflow/issues/56089\n",
      "2023-01-10 04:32:28.763499: W tensorflow/core/kernels/data/cache_dataset_ops.cc:856] The calling iterator did not fully read the dataset being cached. In order to avoid unexpected truncation of the dataset, the partially cached contents of the dataset  will be discarded. This can happen if you have an input pipeline similar to `dataset.cache().take(k).repeat()`. You should use `dataset.take(k).cache().repeat()` instead.\n"
     ]
    },
    {
     "data": {
      "text/plain": [
       "array([b'\"', b'If', b'they', b\"'re\", b'saying', b'at', b'least', b'20',\n",
       "       b'percent', b',', b'then', b'their', b'internal', b'forecasts',\n",
       "       b'are', b'probably', b'saying', b'25', b'or', b'30', b'percent',\n",
       "       b',', b'\"', b'said', b'one', b'Sydney', b'media', b'analyst',\n",
       "       b'who', b'declined', b'to', b'be', b'named', b'.'], dtype=object)"
      ]
     },
     "execution_count": 10,
     "metadata": {},
     "output_type": "execute_result"
    }
   ],
   "source": [
    "sample = (\n",
    "    ds_train.map(lambda r: r[\"tokens\"])\n",
    "    .take(1)\n",
    "    .as_numpy_iterator().next()\n",
    ")\n",
    "sample"
   ]
  },
  {
   "cell_type": "code",
   "execution_count": 11,
   "id": "4d7dac95-1e37-4d15-8513-392e137195cf",
   "metadata": {},
   "outputs": [
    {
     "name": "stdout",
     "output_type": "stream",
     "text": [
      "np_tokens=array([  100,  1409,  1152,   112,  1231,  2157,  1120,  1655,  1406,\n",
      "        3029,   100,  1173,  1147,  4422, 24647,  1116,  1132,  1930,\n",
      "        2157,  1512,  1137,  1476,  3029,   100,   100,  1163,  1141,\n",
      "        3122,  2394, 14582,  1150,  5799,  1106,  1129,  1417,   119],\n",
      "      dtype=int32)\n",
      "tokens=<tf.RaggedTensor [[[100]], [[1409]], [[1152]], [[112], [1231]], [[2157]], [[1120]],\n",
      " [[1655]], [[1406]], [[3029]], [[100]], [[1173]], [[1147]], [[4422]],\n",
      " [[24647, 1116]], [[1132]], [[1930]], [[2157]], [[1512]], [[1137]],\n",
      " [[1476]], [[3029]], [[100]], [[100]], [[1163]], [[1141]], [[3122]],\n",
      " [[2394]], [[14582]], [[1150]], [[5799]], [[1106]], [[1129]], [[1417]],\n",
      " [[119]]]>\n"
     ]
    }
   ],
   "source": [
    "tokens, offsets_start, offsets_end = tokenizer(sample)\n",
    "np_tokens = tokens.merge_dims(0, 1).merge_dims(0, 1).numpy()\n",
    "print(f\"{np_tokens=}\")\n",
    "print(f\"{tokens=}\")"
   ]
  },
  {
   "cell_type": "markdown",
   "id": "6ce7594c-c851-42f4-8a4d-5020d6fdb0fd",
   "metadata": {},
   "source": [
    "Check that the vocab porting was successful"
   ]
  },
  {
   "cell_type": "code",
   "execution_count": 12,
   "id": "c3a3ace2-3623-493e-b0c9-f6315b845055",
   "metadata": {},
   "outputs": [
    {
     "name": "stdout",
     "output_type": "stream",
     "text": [
      "[UNK] If they ' re saying at least 20 percent [UNK] then their internal forecast ##s are probably saying 25 or 30 percent [UNK] [UNK] said one Sydney media analyst who declined to be named .\n"
     ]
    }
   ],
   "source": [
    "print(*transformers_tokenizer.convert_ids_to_tokens(np_tokens))"
   ]
  },
  {
   "cell_type": "markdown",
   "id": "405791c3-2cd1-40fa-9a3d-208ba99940b3",
   "metadata": {},
   "source": [
    "## Prepare the dataset"
   ]
  },
  {
   "cell_type": "markdown",
   "id": "f4fa139b-fc56-42ff-b8ba-4dc1ca357212",
   "metadata": {},
   "source": [
    "### Tokenize the words and align the label sequences with the (new) tokens"
   ]
  },
  {
   "cell_type": "code",
   "execution_count": 13,
   "id": "ab919aba-9241-4598-b43c-dee783305cc5",
   "metadata": {},
   "outputs": [
    {
     "data": {
      "text/plain": [
       "101"
      ]
     },
     "execution_count": 13,
     "metadata": {},
     "output_type": "execute_result"
    }
   ],
   "source": [
    "tokenizer.get_special_tokens_dict()[\"start_of_sequence_id\"]"
   ]
  },
  {
   "cell_type": "code",
   "execution_count": 14,
   "id": "04d90d6b-53e5-4aaf-8d32-b5d097423097",
   "metadata": {},
   "outputs": [],
   "source": [
    "@tf.function\n",
    "def add_special_tokens(t: tf.Tensor) -> tf.Tensor:\n",
    "    return tf.concat([\n",
    "        tf.constant([tokenizer.get_special_tokens_dict()[\"start_of_sequence_id\"]], dtype=tf.int32),\n",
    "        tf.cast(t, dtype=tf.int32),\n",
    "        tf.constant([tokenizer.get_special_tokens_dict()[\"end_of_segment_id\"]], dtype=tf.int32),\n",
    "    ], axis=0)  "
   ]
  },
  {
   "cell_type": "code",
   "execution_count": 15,
   "id": "1ff7c83f-f18e-4a5d-bd54-d26868bcb2af",
   "metadata": {},
   "outputs": [],
   "source": [
    "def tokenize(r):\n",
    "    tokens, offsets_start, offsets_end = tokenizer(r[\"tokens\"])\n",
    "    tokens_flat_0 = tokens.merge_dims(0, 1)\n",
    "    tokens_flat = tokens_flat_0.merge_dims(0, 1)\n",
    "    labels_aligned_0 = tf.repeat(r[\"ner\"], tokens.row_lengths())\n",
    "    labels_aligned = tf.repeat(labels_aligned_0, tokens_flat_0.row_lengths()) + 1\n",
    "    tokens_out = add_special_tokens(tokens_flat)\n",
    "    labels_out = tf.concat([\n",
    "        tf.constant([1], dtype=tf.int32),\n",
    "        tf.cast(labels_aligned, dtype=tf.int32),\n",
    "        tf.constant([1], dtype=tf.int32)\n",
    "    ], axis=0)  \n",
    "    attention_mask = tf.ones_like(labels_out)  # unused, for now\n",
    "    return tokens_out, labels_out"
   ]
  },
  {
   "cell_type": "code",
   "execution_count": 16,
   "id": "8847291b-e6d4-4741-99fd-1c39657df4b4",
   "metadata": {
    "tags": []
   },
   "outputs": [
    {
     "name": "stdout",
     "output_type": "stream",
     "text": [
      "[CLS]        We           ##rde        ##r          Bremen       3            0            1            2            4           \n",
      "101          1284         14407        1197         17339        124          121          122          123          125         \n",
      "O            B-ORG        B-ORG        B-ORG        I-ORG        O            O            O            O            O           \n",
      "\n",
      "\n",
      "[CLS]        [UNK]        If           they         '            re           saying       at           least        20          \n",
      "101          100          1409         1152         112          1231         2157         1120         1655         1406        \n",
      "O            O            O            O            O            O            O            O            O            O           \n",
      "\n",
      "\n",
      "[CLS]        SE           ##AT         ##TL         ##E          66           63           .            512          8           \n",
      "101          12342        13821        20156        2036         5046         5519         119          27445        129         \n",
      "O            B-ORG        B-ORG        B-ORG        B-ORG        O            O            O            O            O           \n",
      "\n",
      "\n",
      "[CLS]        Lau          ##ck         '            s            lawyer       vowed        he           would        appeal      \n",
      "101          25070        2158         112          188          4545         19562        1119         1156         5767        \n",
      "O            B-PER        B-PER        O            O            O            O            O            O            O           \n",
      "\n",
      "\n",
      "[CLS]        Geelong      21           13           1            7            228          ##8          1940         117         \n",
      "101          20199        1626         1492         122          128          24618        1604         3020         12737       \n",
      "O            B-ORG        O            O            O            O            O            O            O            O           \n",
      "\n",
      "\n"
     ]
    },
    {
     "name": "stderr",
     "output_type": "stream",
     "text": [
      "2023-01-10 04:32:38.692772: W tensorflow/core/kernels/data/cache_dataset_ops.cc:856] The calling iterator did not fully read the dataset being cached. In order to avoid unexpected truncation of the dataset, the partially cached contents of the dataset  will be discarded. This can happen if you have an input pipeline similar to `dataset.cache().take(k).repeat()`. You should use `dataset.take(k).cache().repeat()` instead.\n"
     ]
    }
   ],
   "source": [
    "MAX_LENGTH = 10\n",
    "for tokens, labels in ds_train.map(tokenize).shuffle(10).take(5):\n",
    "    bert_words = transformers_tokenizer.convert_ids_to_tokens(tokens)\n",
    "    print(*[f\"{x:<12}\" for x in bert_words][:MAX_LENGTH])\n",
    "    print(*[f\"{x:<12}\" for x in tokens.numpy()][:MAX_LENGTH])\n",
    "    print(*[f\"{label_ids_to_tags[x]:<12}\" for x in labels.numpy()][:MAX_LENGTH])\n",
    "    print(\"\\n\")"
   ]
  },
  {
   "cell_type": "code",
   "execution_count": 17,
   "id": "49aa43d0-366f-4011-bfce-6066f411969a",
   "metadata": {},
   "outputs": [],
   "source": [
    "assert all(tokens.shape == labels.shape for tokens, labels in ds_train.map(tokenize).as_numpy_iterator())"
   ]
  },
  {
   "cell_type": "markdown",
   "id": "521c6460-5aa8-4ecd-ba24-ede8775e64fb",
   "metadata": {},
   "source": [
    "## Modelling"
   ]
  },
  {
   "cell_type": "code",
   "execution_count": 18,
   "id": "7c3030ea-ca8c-45d6-9515-830a1cf6dd1f",
   "metadata": {},
   "outputs": [],
   "source": [
    "RNN_UNITS = 64"
   ]
  },
  {
   "cell_type": "code",
   "execution_count": 19,
   "id": "04b55a3f-d9e5-4502-bd8c-34503fc8b6e2",
   "metadata": {},
   "outputs": [],
   "source": [
    "keras.backend.clear_session()\n",
    "tf.random.set_seed(42)"
   ]
  },
  {
   "cell_type": "code",
   "execution_count": 20,
   "id": "69b1ed7b-497e-4bf5-b9cf-673fc449c55a",
   "metadata": {},
   "outputs": [
    {
     "name": "stderr",
     "output_type": "stream",
     "text": [
      "Some layers from the model checkpoint at distilbert-base-cased were not used when initializing TFDistilBertForTokenClassification: ['vocab_transform', 'activation_13', 'vocab_projector', 'vocab_layer_norm']\n",
      "- This IS expected if you are initializing TFDistilBertForTokenClassification from the checkpoint of a model trained on another task or with another architecture (e.g. initializing a BertForSequenceClassification model from a BertForPreTraining model).\n",
      "- This IS NOT expected if you are initializing TFDistilBertForTokenClassification from the checkpoint of a model that you expect to be exactly identical (initializing a BertForSequenceClassification model from a BertForSequenceClassification model).\n",
      "Some layers of TFDistilBertForTokenClassification were not initialized from the model checkpoint at distilbert-base-cased and are newly initialized: ['dropout_19', 'classifier']\n",
      "You should probably TRAIN this model on a down-stream task to be able to use it for predictions and inference.\n"
     ]
    }
   ],
   "source": [
    "inputs = L.Input(shape=(None,), dtype=tf.int32)\n",
    "distilbert = TFDistilBertForTokenClassification.from_pretrained(\n",
    "    TRANSFORMER_MODEL_NAME, \n",
    "    output_hidden_states=True, \n",
    "    output_attentions=True,\n",
    "    name=\"distilbert\",\n",
    ")\n",
    "x = distilbert(inputs)\n",
    "x = L.Dropout(0.2)(x[\"hidden_states\"][-1])\n",
    "x = L.Bidirectional(\n",
    "    layer=L.GRU(units=RNN_UNITS, dropout=0.2, recurrent_dropout=0.2, return_sequences=True),\n",
    "    merge_mode=\"sum\",\n",
    ")(x)\n",
    "x = L.TimeDistributed(layer=L.Dense(units=len(tag_names), activation=\"softmax\"))(x)\n",
    "model = M.Model(inputs=inputs, outputs=x)"
   ]
  },
  {
   "cell_type": "code",
   "execution_count": 21,
   "id": "eb3e1824-823d-4973-8221-20a6619443c3",
   "metadata": {},
   "outputs": [
    {
     "name": "stdout",
     "output_type": "stream",
     "text": [
      "WARNING:tensorflow:Model was constructed with shape (None, None) for input KerasTensor(type_spec=TensorSpec(shape=(None, None), dtype=tf.int32, name='input_1'), name='input_1', description=\"created by layer 'input_1'\"), but it was called on an input with incompatible shape (None,).\n"
     ]
    },
    {
     "name": "stderr",
     "output_type": "stream",
     "text": [
      "WARNING:tensorflow:Model was constructed with shape (None, None) for input KerasTensor(type_spec=TensorSpec(shape=(None, None), dtype=tf.int32, name='input_1'), name='input_1', description=\"created by layer 'input_1'\"), but it was called on an input with incompatible shape (None,).\n"
     ]
    },
    {
     "name": "stdout",
     "output_type": "stream",
     "text": [
      "1/1 [==============================] - 1s 1s/step\n"
     ]
    }
   ],
   "source": [
    "out = model.predict(tokens.numpy())"
   ]
  },
  {
   "cell_type": "code",
   "execution_count": 22,
   "id": "7915aaed-0210-4d59-aef5-444ea3c1e859",
   "metadata": {},
   "outputs": [
    {
     "name": "stdout",
     "output_type": "stream",
     "text": [
      "Model: \"model\"\n",
      "_________________________________________________________________\n",
      " Layer (type)                Output Shape              Param #   \n",
      "=================================================================\n",
      " input_1 (InputLayer)        [(None, None)]            0         \n",
      "                                                                 \n",
      " distilbert (TFDistilBertFor  TFTokenClassifierOutput(  65192450 \n",
      " TokenClassification)        loss=None, logits=(None,            \n",
      "                              None, 2),                          \n",
      "                              hidden_states=((None, N            \n",
      "                             one, 768),                          \n",
      "                              (None, None, 768),                 \n",
      "                              (None, None, 768),                 \n",
      "                              (None, None, 768),                 \n",
      "                              (None, None, 768),                 \n",
      "                              (None, None, 768),                 \n",
      "                              (None, None, 768)),                \n",
      "                              attentions=((None, 12,             \n",
      "                             None, None),                        \n",
      "                              (None, 12, None, None),            \n",
      "                              (None, 12, None, None),            \n",
      "                              (None, 12, None, None),            \n",
      "                              (None, 12, None, None),            \n",
      "                              (None, 12, None, None))            \n",
      "                             )                                   \n",
      "                                                                 \n",
      " dropout_20 (Dropout)        (None, None, 768)         0         \n",
      "                                                                 \n",
      " bidirectional (Bidirectiona  (None, None, 64)         320256    \n",
      " l)                                                              \n",
      "                                                                 \n",
      " time_distributed (TimeDistr  (None, None, 10)         650       \n",
      " ibuted)                                                         \n",
      "                                                                 \n",
      "=================================================================\n",
      "Total params: 65,513,356\n",
      "Trainable params: 65,513,356\n",
      "Non-trainable params: 0\n",
      "_________________________________________________________________\n"
     ]
    }
   ],
   "source": [
    "model.summary()"
   ]
  },
  {
   "cell_type": "markdown",
   "id": "8e23fe7a-60c6-4154-b375-73359429ed9b",
   "metadata": {},
   "source": [
    "## Training"
   ]
  },
  {
   "cell_type": "code",
   "execution_count": 23,
   "id": "b40a7aa4-f607-42fc-9018-44f321d63b7a",
   "metadata": {},
   "outputs": [],
   "source": [
    "BATCH_SIZE = 32\n",
    "BUFFER_SIZE = 1000\n",
    "EPOCHS = 3"
   ]
  },
  {
   "cell_type": "code",
   "execution_count": 24,
   "id": "49e8221c-f6b1-4213-b1d9-bf0dd5534d88",
   "metadata": {},
   "outputs": [],
   "source": [
    "ds_train_prep = (\n",
    "    ds_train\n",
    "    .map(tokenize)\n",
    "    .shuffle(buffer_size=BUFFER_SIZE)\n",
    "    .padded_batch(BATCH_SIZE, padded_shapes=([None], [None]))\n",
    ")\n",
    "ds_val_prep = (\n",
    "    ds_train\n",
    "    .map(tokenize)\n",
    "    .shuffle(buffer_size=BUFFER_SIZE)\n",
    "    .padded_batch(BATCH_SIZE, padded_shapes=([None], [None]))\n",
    ")"
   ]
  },
  {
   "cell_type": "code",
   "execution_count": 25,
   "id": "205a5eea-de33-4a7f-885c-bdde42b82d55",
   "metadata": {},
   "outputs": [],
   "source": [
    "def masked_loss(y_true, y_pred):\n",
    "    # Calculate the loss for each item in the batch.\n",
    "    loss_fn = tf.keras.losses.SparseCategoricalCrossentropy(reduction='none')\n",
    "    loss = loss_fn(y_true, y_pred)\n",
    "\n",
    "    # Mask off the losses on padding.\n",
    "    mask = tf.cast(y_true != 0, loss.dtype)\n",
    "    loss *= mask\n",
    "\n",
    "    # Return the total.\n",
    "    return tf.reduce_sum(loss) / tf.reduce_sum(mask)"
   ]
  },
  {
   "cell_type": "code",
   "execution_count": 26,
   "id": "4230a0a3-bc6d-4461-bb49-b5caab5a50ec",
   "metadata": {},
   "outputs": [],
   "source": [
    "def masked_acc(y_true, y_pred):\n",
    "    # Calculate the loss for each item in the batch.\n",
    "    y_pred = tf.argmax(y_pred, axis=-1)\n",
    "    y_pred = tf.cast(y_pred, y_true.dtype)\n",
    "\n",
    "    match = tf.cast(y_true == y_pred, tf.float32)\n",
    "    mask = tf.cast(y_true != 0, tf.float32)\n",
    "\n",
    "    return tf.reduce_sum(match) / tf.reduce_sum(mask)"
   ]
  },
  {
   "cell_type": "code",
   "execution_count": 27,
   "id": "cf227619-d0bf-4156-96b8-0c8adba07a56",
   "metadata": {},
   "outputs": [],
   "source": [
    "model.get_layer(\"distilbert\").trainable = False"
   ]
  },
  {
   "cell_type": "code",
   "execution_count": 28,
   "id": "35ece567-1dbf-4f51-970d-c46e1957cc41",
   "metadata": {},
   "outputs": [],
   "source": [
    "model.compile(\n",
    "    optimizer=keras.optimizers.Adam(),\n",
    "    loss=masked_loss,\n",
    "    metrics=[masked_acc],\n",
    ")"
   ]
  },
  {
   "cell_type": "code",
   "execution_count": 69,
   "id": "f2a3a2cb-b6cc-41ef-88e0-39a3467ed0e3",
   "metadata": {
    "tags": []
   },
   "outputs": [
    {
     "name": "stdout",
     "output_type": "stream",
     "text": [
      "Epoch 1/3\n",
      "439/439 [==============================] - 914s 2s/step - loss: 0.3131 - masked_acc: 0.9039 - val_loss: 0.1503 - val_masked_acc: 0.9536\n",
      "Epoch 2/3\n",
      "439/439 [==============================] - 871s 2s/step - loss: 0.1637 - masked_acc: 0.9497 - val_loss: 0.1124 - val_masked_acc: 0.9653\n",
      "Epoch 3/3\n",
      "439/439 [==============================] - 872s 2s/step - loss: 0.1318 - masked_acc: 0.9590 - val_loss: 0.0879 - val_masked_acc: 0.9725\n"
     ]
    }
   ],
   "source": [
    "history = model.fit(\n",
    "    ds_train_prep,\n",
    "    validation_data=ds_val_prep,\n",
    "    batch_size=BATCH_SIZE,\n",
    "    epochs=EPOCHS,\n",
    "    use_multiprocessing=True,\n",
    ")"
   ]
  },
  {
   "cell_type": "code",
   "execution_count": 70,
   "id": "90963496",
   "metadata": {},
   "outputs": [
    {
     "data": {
      "text/plain": [
       "<matplotlib.legend.Legend at 0x7f475f758f10>"
      ]
     },
     "execution_count": 70,
     "metadata": {},
     "output_type": "execute_result"
    },
    {
     "data": {
      "image/png": "[encoded data removed]",
      "text/plain": [
       "<Figure size 432x288 with 1 Axes>"
      ]
     },
     "metadata": {
      "needs_background": "light"
     },
     "output_type": "display_data"
    }
   ],
   "source": [
    "plt.plot(history.history['loss'], label='loss')\n",
    "plt.plot(history.history['val_loss'], label='val_loss')\n",
    "plt.ylim([0, max(plt.ylim())])\n",
    "plt.xlabel('Epoch #')\n",
    "plt.ylabel('CE/token')\n",
    "plt.legend()"
   ]
  },
  {
   "cell_type": "code",
   "execution_count": 71,
   "id": "4e750649",
   "metadata": {},
   "outputs": [
    {
     "data": {
      "text/plain": [
       "<matplotlib.legend.Legend at 0x7f475f7ec340>"
      ]
     },
     "execution_count": 71,
     "metadata": {},
     "output_type": "execute_result"
    },
    {
     "data": {
      "image/png": "[encoded data removed]",
      "text/plain": [
       "<Figure size 432x288 with 1 Axes>"
      ]
     },
     "metadata": {
      "needs_background": "light"
     },
     "output_type": "display_data"
    }
   ],
   "source": [
    "plt.plot(history.history['masked_acc'], label='accuracy')\n",
    "plt.plot(history.history['val_masked_acc'], label='val_accuracy')\n",
    "plt.ylim([0, max(plt.ylim())+.2])\n",
    "plt.xlabel('Epoch #')\n",
    "plt.ylabel('CE/token')\n",
    "plt.legend()"
   ]
  },
  {
   "cell_type": "markdown",
   "id": "1f69ae62-9e23-4a25-aa28-72d86b072552",
   "metadata": {},
   "source": [
    "## Test results"
   ]
  },
  {
   "cell_type": "code",
   "execution_count": 72,
   "id": "ee0b22ce-d5dc-4480-9dbd-4f9d775bc640",
   "metadata": {},
   "outputs": [],
   "source": [
    "ds_test_prep = (\n",
    "    ds_test\n",
    "    .map(tokenize)\n",
    "    .padded_batch(1, padded_shapes=([None], [None]))\n",
    ")"
   ]
  },
  {
   "cell_type": "markdown",
   "id": "dba2c322-9bf6-427a-a78a-a82e7dd34754",
   "metadata": {},
   "source": [
    "### Check some samples"
   ]
  },
  {
   "cell_type": "code",
   "execution_count": 73,
   "id": "6c8df7a1-dfcb-4c3c-92b5-75dd48182658",
   "metadata": {},
   "outputs": [
    {
     "name": "stdout",
     "output_type": "stream",
     "text": [
      "1/1 [==============================] - 1s 1s/step\n",
      "WORDS:     [CLS]        Stefan       ##el         Milan        (            Italy        )            9            6            3           \n",
      "ACTUAL   : O            B-ORG        B-ORG        I-ORG        O            B-LOC        O            O            O            O           \n",
      "PREDICTED: O            B-PER        B-PER        I-PER        O            B-LOC        O            O            O            O           \n",
      "\n",
      "\n"
     ]
    }
   ],
   "source": [
    "for tokens, labels in ds_test_prep.take(1):\n",
    "    bert_words = transformers_tokenizer.convert_ids_to_tokens(tokens.numpy().flatten())\n",
    "    pred_probs = model.predict(tokens)\n",
    "    pred_tag_ids = np.argmax(pred_probs, axis=-1).flatten()\n",
    "    pred_tags = [label_ids_to_tags[x] for x in pred_tag_ids]\n",
    "    true_tags = [label_ids_to_tags[x] for x in labels.numpy().flatten()]\n",
    "    \n",
    "    print(\"WORDS:    \", *[f\"{x:<12}\" for x in bert_words][:MAX_LENGTH])\n",
    "    print(\"ACTUAL   :\", *[f\"{x:<12}\" for x in true_tags][:MAX_LENGTH])\n",
    "    print(\"PREDICTED:\", *[f\"{x:<12}\" for x in pred_tags][:MAX_LENGTH])\n",
    "    print(\"\\n\")"
   ]
  },
  {
   "cell_type": "markdown",
   "id": "179f90dc-1683-4e11-8b80-61737e0ed9f9",
   "metadata": {},
   "source": [
    "### Evaluate metrics\n",
    "\n",
    "Using `conlleval` function from https://keras.io/examples/nlp/ner_transformers/.\n",
    "\n",
    "It expects two lists of entities - true and predicted, as string. Using the string as input for the metrics allows to slice the metrics for tokens corresponding to entities vs `O` tokens.\n",
    "\n",
    "To use it:\n",
    "- run the model on all records of the test dataset\n",
    "- drop the predictions corresponding to padded data (and possibly to the `[CLS]` and `[SEP]` tokens)\n",
    "- map the label ids to their labels\n",
    "- concatenate the labels and the predicted values each in a single list each (a.k.a. one list of strings for the labels and one for the predictions)"
   ]
  },
  {
   "cell_type": "code",
   "execution_count": 74,
   "id": "c8e19546-c2f7-4be1-a087-d4db947b9164",
   "metadata": {},
   "outputs": [],
   "source": [
    "def compute_metrics(ds, model):\n",
    "    prob_preds_test = model.predict(ds)\n",
    "    preds_test = [np.argmax(x, axis=-1) for x in prob_preds_test.to_list()]\n",
    "\n",
    "    labels_test = [r[1] for r in ds.unbatch().as_numpy_iterator()]\n",
    "\n",
    "    for idx in range(len(preds_test)):\n",
    "        assert preds_test[idx].shape == labels_test[idx].shape\n",
    "    \n",
    "    preds_idx_concat, labels_idx_concat = list(), list()\n",
    "\n",
    "    for (p, l) in zip(preds_dev, labels_dev):\n",
    "        mask = l > 0\n",
    "        preds_idx_concat += p[mask].tolist()\n",
    "        labels_idx_concat += l[mask].tolist()\n",
    "\n",
    "    preds_concat = [label_names[tag-1] for tag in preds_idx_concat]\n",
    "    labels_concat = [label_names[tag-1] for tag in labels_idx_concat]\n",
    "    \n",
    "    evaluate(labels_concat, preds_concat)"
   ]
  },
  {
   "cell_type": "code",
   "execution_count": 78,
   "id": "676257a8-607e-4041-a3ea-979647ee6dd5",
   "metadata": {},
   "outputs": [
    {
     "name": "stdout",
     "output_type": "stream",
     "text": [
      "3454/3454 [==============================] - 116s 33ms/step\n"
     ]
    }
   ],
   "source": [
    "prob_preds_test = model.predict(ds_test_prep)\n",
    "preds_test = [np.argmax(x, axis=-1) for x in prob_preds_test.to_list()]\n",
    "\n",
    "labels_test = [r[1] for r in ds_test_prep.unbatch().as_numpy_iterator()]\n",
    "\n",
    "for idx in range(len(preds_test)):\n",
    "    assert preds_test[idx].shape == labels_test[idx].shape"
   ]
  },
  {
   "cell_type": "code",
   "execution_count": 79,
   "id": "0cf62479-7f53-49f5-9f46-d7c78d515726",
   "metadata": {},
   "outputs": [],
   "source": [
    "preds_idx_concat, labels_idx_concat = list(), list()\n",
    "\n",
    "for p, l in zip(preds_test, labels_test):\n",
    "    mask = l > 0\n",
    "    preds_idx_concat += p[mask].tolist()\n",
    "    labels_idx_concat += l[mask].tolist()\n",
    "    \n",
    "preds_concat = [tag_names[tag] for tag in preds_idx_concat]\n",
    "labels_concat = [tag_names[tag] for tag in labels_idx_concat]"
   ]
  },
  {
   "cell_type": "code",
   "execution_count": 80,
   "id": "3c4dd571-c181-457f-bb1c-167b755db92b",
   "metadata": {},
   "outputs": [
    {
     "name": "stdout",
     "output_type": "stream",
     "text": [
      "processed 70369 tokens with 10779 phrases; found: 10937 phrases; correct: 8490.\n",
      "accuracy:  82.04%; (non-O)\n",
      "accuracy:  94.83%; precision:  77.63%; recall:  78.76%; FB1:  78.19\n",
      "              LOC: precision:  86.08%; recall:  78.10%; FB1:  81.89  2722\n",
      "             MISC: precision:  59.71%; recall:  57.82%; FB1:  58.75  1226\n",
      "              ORG: precision:  69.35%; recall:  81.61%; FB1:  74.98  4147\n",
      "              PER: precision:  89.34%; recall:  84.94%; FB1:  87.09  2842\n"
     ]
    },
    {
     "data": {
      "text/plain": [
       "(77.62640577854988, 78.76426384636794, 78.19119543193958)"
      ]
     },
     "execution_count": 80,
     "metadata": {},
     "output_type": "execute_result"
    }
   ],
   "source": [
    "evaluate(labels_concat, preds_concat)"
   ]
  },
  {
   "cell_type": "code",
   "execution_count": null,
   "id": "28d16ca8-12c6-4f4a-b800-6fbdff6de6cd",
   "metadata": {},
   "outputs": [],
   "source": []
  }
 ],
 "metadata": {
  "kernelspec": {
   "display_name": "ai",
   "language": "python",
   "name": "ai"
  },
  "language_info": {
   "codemirror_mode": {
    "name": "ipython",
    "version": 3
   },
   "file_extension": ".py",
   "mimetype": "text/x-python",
   "name": "python",
   "nbconvert_exporter": "python",
   "pygments_lexer": "ipython3",
   "version": "3.10.3"
  }
 },
 "nbformat": 4,
 "nbformat_minor": 5
}
