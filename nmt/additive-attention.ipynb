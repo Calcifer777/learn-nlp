{
 "cells": [
  {
   "cell_type": "code",
   "execution_count": 1,
   "id": "4725d949-c6b0-4d46-b9ba-7f981de492d7",
   "metadata": {},
   "outputs": [
    {
     "name": "stderr",
     "output_type": "stream",
     "text": [
      "2023-01-06 02:58:07.319648: I tensorflow/core/platform/cpu_feature_guard.cc:193] This TensorFlow binary is optimized with oneAPI Deep Neural Network Library (oneDNN) to use the following CPU instructions in performance-critical operations:  AVX2 FMA\n",
      "To enable them in other operations, rebuild TensorFlow with the appropriate compiler flags.\n",
      "2023-01-06 02:58:07.498932: W tensorflow/compiler/xla/stream_executor/platform/default/dso_loader.cc:64] Could not load dynamic library 'libcudart.so.11.0'; dlerror: libcudart.so.11.0: cannot open shared object file: No such file or directory\n",
      "2023-01-06 02:58:07.498958: I tensorflow/compiler/xla/stream_executor/cuda/cudart_stub.cc:29] Ignore above cudart dlerror if you do not have a GPU set up on your machine.\n",
      "2023-01-06 02:58:08.451078: W tensorflow/compiler/xla/stream_executor/platform/default/dso_loader.cc:64] Could not load dynamic library 'libnvinfer.so.7'; dlerror: libnvinfer.so.7: cannot open shared object file: No such file or directory\n",
      "2023-01-06 02:58:08.451135: W tensorflow/compiler/xla/stream_executor/platform/default/dso_loader.cc:64] Could not load dynamic library 'libnvinfer_plugin.so.7'; dlerror: libnvinfer_plugin.so.7: cannot open shared object file: No such file or directory\n",
      "2023-01-06 02:58:08.451142: W tensorflow/compiler/tf2tensorrt/utils/py_utils.cc:38] TF-TRT Warning: Cannot dlopen some TensorRT libraries. If you would like to use Nvidia GPU with TensorRT, please make sure the missing libraries mentioned above are installed properly.\n"
     ]
    }
   ],
   "source": [
    "import einops\n",
    "import tensorflow as tf\n",
    "from tensorflow import keras\n",
    "from keras import layers as L\n",
    "from keras import models as M\n",
    "from keras import losses as LL\n",
    "from keras import callbacks as C\n",
    "import pandas as pd\n",
    "import pathlib\n",
    "import numpy as np\n",
    "from tensorflow_text import normalize_utf8\n",
    "from matplotlib import pyplot as plt"
   ]
  },
  {
   "cell_type": "markdown",
   "id": "3b52311c-3f7c-4035-a9c9-111cf913219f",
   "metadata": {},
   "source": [
    "## Load dataset"
   ]
  },
  {
   "cell_type": "code",
   "execution_count": 2,
   "id": "344dd867-1e85-46ed-8b56-a34a3f5a337c",
   "metadata": {},
   "outputs": [
    {
     "name": "stdout",
     "output_type": "stream",
     "text": [
      "<class 'pandas.core.frame.DataFrame'>\n",
      "RangeIndex: 358373 entries, 0 to 358372\n",
      "Data columns (total 4 columns):\n",
      " #   Column  Non-Null Count   Dtype \n",
      "---  ------  --------------   ----- \n",
      " 0   eng     358373 non-null  object\n",
      " 1   ita     358373 non-null  object\n",
      " 2   author  358373 non-null  object\n",
      " 3   split   358373 non-null  object\n",
      "dtypes: object(4)\n",
      "memory usage: 10.9+ MB\n"
     ]
    }
   ],
   "source": [
    "path_to_file = pathlib.Path().home() / \"tensorflow_datasets\" / \"anki\" / \"ita-eng\" / \"ita.txt\"\n",
    "df = pd.read_csv(path_to_file, sep=\"\\t\", header=None)\n",
    "df.columns=[\"eng\", \"ita\", \"author\"]\n",
    "df[\"split\"] = np.where(np.random.uniform(size=(len(df),)) < 0.8, \"train\", \"val\")\n",
    "\n",
    "df.info()"
   ]
  },
  {
   "cell_type": "code",
   "execution_count": 3,
   "id": "5bb1d9af-6156-41a2-a696-2e41e47769c6",
   "metadata": {},
   "outputs": [
    {
     "data": {
      "text/html": [
       "<div>\n",
       "<style scoped>\n",
       "    .dataframe tbody tr th:only-of-type {\n",
       "        vertical-align: middle;\n",
       "    }\n",
       "\n",
       "    .dataframe tbody tr th {\n",
       "        vertical-align: top;\n",
       "    }\n",
       "\n",
       "    .dataframe thead th {\n",
       "        text-align: right;\n",
       "    }\n",
       "</style>\n",
       "<table border=\"1\" class=\"dataframe\">\n",
       "  <thead>\n",
       "    <tr style=\"text-align: right;\">\n",
       "      <th></th>\n",
       "      <th>eng</th>\n",
       "      <th>ita</th>\n",
       "      <th>author</th>\n",
       "      <th>split</th>\n",
       "    </tr>\n",
       "  </thead>\n",
       "  <tbody>\n",
       "    <tr>\n",
       "      <th>0</th>\n",
       "      <td>Hi.</td>\n",
       "      <td>Ciao!</td>\n",
       "      <td>CC-BY 2.0 (France) Attribution: tatoeba.org #5...</td>\n",
       "      <td>train</td>\n",
       "    </tr>\n",
       "    <tr>\n",
       "      <th>1</th>\n",
       "      <td>Hi.</td>\n",
       "      <td>Ciao.</td>\n",
       "      <td>CC-BY 2.0 (France) Attribution: tatoeba.org #5...</td>\n",
       "      <td>train</td>\n",
       "    </tr>\n",
       "    <tr>\n",
       "      <th>2</th>\n",
       "      <td>Run!</td>\n",
       "      <td>Corri!</td>\n",
       "      <td>CC-BY 2.0 (France) Attribution: tatoeba.org #9...</td>\n",
       "      <td>train</td>\n",
       "    </tr>\n",
       "    <tr>\n",
       "      <th>3</th>\n",
       "      <td>Run!</td>\n",
       "      <td>Corra!</td>\n",
       "      <td>CC-BY 2.0 (France) Attribution: tatoeba.org #9...</td>\n",
       "      <td>train</td>\n",
       "    </tr>\n",
       "    <tr>\n",
       "      <th>4</th>\n",
       "      <td>Run!</td>\n",
       "      <td>Correte!</td>\n",
       "      <td>CC-BY 2.0 (France) Attribution: tatoeba.org #9...</td>\n",
       "      <td>train</td>\n",
       "    </tr>\n",
       "  </tbody>\n",
       "</table>\n",
       "</div>"
      ],
      "text/plain": [
       "    eng       ita                                             author  split\n",
       "0   Hi.     Ciao!  CC-BY 2.0 (France) Attribution: tatoeba.org #5...  train\n",
       "1   Hi.     Ciao.  CC-BY 2.0 (France) Attribution: tatoeba.org #5...  train\n",
       "2  Run!    Corri!  CC-BY 2.0 (France) Attribution: tatoeba.org #9...  train\n",
       "3  Run!    Corra!  CC-BY 2.0 (France) Attribution: tatoeba.org #9...  train\n",
       "4  Run!  Correte!  CC-BY 2.0 (France) Attribution: tatoeba.org #9...  train"
      ]
     },
     "execution_count": 3,
     "metadata": {},
     "output_type": "execute_result"
    }
   ],
   "source": [
    "df.head()"
   ]
  },
  {
   "cell_type": "markdown",
   "id": "56fdafc7-fc68-4d76-999e-645ff3b00324",
   "metadata": {},
   "source": [
    "## Prep dataset"
   ]
  },
  {
   "cell_type": "code",
   "execution_count": 4,
   "id": "06f88ba2-3adb-4224-b4b5-3f23d8d1cc8b",
   "metadata": {},
   "outputs": [],
   "source": [
    "BUFFER_SIZE = 10000\n",
    "BATCH_SIZE = 64\n",
    "VOCAB_SIZE = 30000"
   ]
  },
  {
   "cell_type": "code",
   "execution_count": 5,
   "id": "18d67532-c458-44bf-aed5-27ea5f04f203",
   "metadata": {},
   "outputs": [
    {
     "name": "stderr",
     "output_type": "stream",
     "text": [
      "2023-01-06 02:58:11.848082: W tensorflow/compiler/xla/stream_executor/platform/default/dso_loader.cc:64] Could not load dynamic library 'libcuda.so.1'; dlerror: libcuda.so.1: cannot open shared object file: No such file or directory\n",
      "2023-01-06 02:58:11.848115: W tensorflow/compiler/xla/stream_executor/cuda/cuda_driver.cc:265] failed call to cuInit: UNKNOWN ERROR (303)\n",
      "2023-01-06 02:58:11.848148: I tensorflow/compiler/xla/stream_executor/cuda/cuda_diagnostics.cc:156] kernel driver does not appear to be running on this host (calcifer-Inspiron-7370): /proc/driver/nvidia/version does not exist\n",
      "2023-01-06 02:58:11.848444: I tensorflow/core/platform/cpu_feature_guard.cc:193] This TensorFlow binary is optimized with oneAPI Deep Neural Network Library (oneDNN) to use the following CPU instructions in performance-critical operations:  AVX2 FMA\n",
      "To enable them in other operations, rebuild TensorFlow with the appropriate compiler flags.\n"
     ]
    }
   ],
   "source": [
    "train_raw = (\n",
    "    tf.data.Dataset\n",
    "    .from_tensor_slices((\n",
    "        df.query(\"split == 'train'\")[\"ita\"].values,\n",
    "        df.query(\"split == 'train'\")[\"eng\"].values,\n",
    "    ))\n",
    "    .shuffle(BUFFER_SIZE)\n",
    "    .batch(BATCH_SIZE)\n",
    ")\n",
    "\n",
    "val_raw = (\n",
    "    tf.data.Dataset\n",
    "    .from_tensor_slices((\n",
    "        df.query(\"split == 'val'\")[\"ita\"].values,\n",
    "        df.query(\"split == 'val'\")[\"eng\"].values,\n",
    "    ))\n",
    "    .shuffle(BUFFER_SIZE)\n",
    "    .batch(BATCH_SIZE)\n",
    ")"
   ]
  },
  {
   "cell_type": "code",
   "execution_count": 6,
   "id": "2fe6486a-c367-429a-9748-3051e301aef6",
   "metadata": {},
   "outputs": [],
   "source": [
    "@tf.function\n",
    "def clean_string(s):\n",
    "    # Split accented characters\n",
    "    text = normalize_utf8(s, \"NFKD\")\n",
    "    text = tf.strings.lower(text)\n",
    "    # Keep space, a to z, and select punctuation.\n",
    "    text = tf.strings.regex_replace(text, '[^ a-z.?!,;]', '')\n",
    "    # Add spaces around punctuation.\n",
    "    text = tf.strings.regex_replace(text, '[.?!,;]', r' \\0 ')\n",
    "    # Strip whitespace.\n",
    "    text = tf.strings.strip(text)\n",
    "    # Add START and END tokens\n",
    "    text = tf.strings.join(['[START]', text, '[END]'], separator=' ')\n",
    "    return text"
   ]
  },
  {
   "cell_type": "code",
   "execution_count": 7,
   "id": "1b639ae9-7719-4292-bf7c-d4ec6cea6816",
   "metadata": {},
   "outputs": [
    {
     "name": "stdout",
     "output_type": "stream",
     "text": [
      "WARNING:tensorflow:From /home/calcifer/git/marco/learn-deep-learning/.env/lib/python3.10/site-packages/tensorflow/python/autograph/pyct/static_analysis/liveness.py:83: Analyzer.lamba_check (from tensorflow.python.autograph.pyct.static_analysis.liveness) is deprecated and will be removed after 2023-09-23.\n",
      "Instructions for updating:\n",
      "Lambda fuctions will be no more assumed to be used in the statement where they are used, or at least in the same block. https://github.com/tensorflow/tensorflow/issues/56089\n"
     ]
    }
   ],
   "source": [
    "vectorizer_src = L.TextVectorization(\n",
    "    max_tokens=VOCAB_SIZE,\n",
    "    standardize=clean_string,\n",
    "    ragged=True,\n",
    "    encoding='utf-8',\n",
    ")\n",
    "vectorizer_src.adapt(train_raw.map(lambda src, dst: src))\n",
    "\n",
    "vectorizer_dst = L.TextVectorization(\n",
    "    max_tokens=VOCAB_SIZE,\n",
    "    standardize=clean_string,\n",
    "    ragged=True,\n",
    "    encoding='utf-8',\n",
    ")\n",
    "\n",
    "vectorizer_dst.adapt(train_raw.map(lambda src, dst: dst))"
   ]
  },
  {
   "cell_type": "code",
   "execution_count": 8,
   "id": "d69425b3-8c1c-4209-a006-2bc2f8e3ab37",
   "metadata": {},
   "outputs": [],
   "source": [
    "def prep_dataset(src, dst):\n",
    "    src_enc = vectorizer_src(src).to_tensor()\n",
    "    dst_enc = vectorizer_dst(dst)\n",
    "    dst_in = dst_enc[:, :-1].to_tensor()\n",
    "    dst_out = dst_enc[:, 1:].to_tensor()\n",
    "    return (src_enc, dst_in), dst_out"
   ]
  },
  {
   "cell_type": "code",
   "execution_count": 9,
   "id": "8a24daee-5103-49d8-8d41-8f99ccf349a9",
   "metadata": {},
   "outputs": [],
   "source": [
    "ds_train = train_raw.map(prep_dataset, tf.data.AUTOTUNE)\n",
    "ds_val = val_raw.map(prep_dataset, tf.data.AUTOTUNE)"
   ]
  },
  {
   "cell_type": "markdown",
   "id": "5ebb4b43-e387-40bc-be90-0111ad02988b",
   "metadata": {},
   "source": [
    "## Model development"
   ]
  },
  {
   "cell_type": "code",
   "execution_count": 17,
   "id": "45dc30f9-0fca-40cf-a995-6e16f4bebef4",
   "metadata": {},
   "outputs": [],
   "source": [
    "EMBEDDING_DIM = 128\n",
    "RNN_UNITS = 128\n",
    "ATTENTION_UNITS = 16"
   ]
  },
  {
   "cell_type": "code",
   "execution_count": 11,
   "id": "4212642e-d2c5-45d0-bc01-7483daff91fb",
   "metadata": {},
   "outputs": [],
   "source": [
    "rnn_kwargs = dict(\n",
    "    dropout=0.2, \n",
    "    recurrent_dropout=0.2, \n",
    "    recurrent_initializer=\"glorot_uniform\",\n",
    ")"
   ]
  },
  {
   "cell_type": "code",
   "execution_count": 12,
   "id": "d0904b66-6659-483e-8da4-39020b1bf0c3",
   "metadata": {},
   "outputs": [],
   "source": [
    "class ShapeChecker():\n",
    "    def __init__(self):\n",
    "    # Keep a cache of every axis-name seen\n",
    "        self.shapes = {}\n",
    "\n",
    "    def __call__(self, tensor, names, broadcast=False):\n",
    "        if not tf.executing_eagerly():\n",
    "            return\n",
    "\n",
    "        parsed = einops.parse_shape(tensor, names)\n",
    "\n",
    "        for name, new_dim in parsed.items():\n",
    "            old_dim = self.shapes.get(name, None)\n",
    "\n",
    "            if (broadcast and new_dim == 1):\n",
    "                continue\n",
    "\n",
    "            if old_dim is None:\n",
    "                # If the axis name is new, add its length to the cache.\n",
    "                self.shapes[name] = new_dim\n",
    "                continue\n",
    "\n",
    "            if new_dim != old_dim:\n",
    "                raise ValueError(f\"Shape mismatch for dimension: '{name}'\\n\"\n",
    "                                 f\"    found: {new_dim}\\n\"\n",
    "                                 f\"    expected: {old_dim}\\n\")"
   ]
  },
  {
   "cell_type": "code",
   "execution_count": 13,
   "id": "ca17a6f9-fab8-4161-9d2a-3a827fc550da",
   "metadata": {},
   "outputs": [],
   "source": [
    "class Encoder(M.Model):\n",
    "    \n",
    "    def __init__(self, rnn_units: int, vocab_size: int, embedding_dim: int):\n",
    "        super(Encoder, self).__init__()\n",
    "        self.embedding = L.Embedding(input_dim=vocab_size, output_dim=embedding_dim, mask_zero=True)\n",
    "        self.rnn = L.Bidirectional(\n",
    "            layer=L.GRU(units=rnn_units, return_sequences=True, **rnn_kwargs),\n",
    "            merge_mode=\"sum\",\n",
    "        )\n",
    "\n",
    "    def call(self, inputs):\n",
    "        x = self.embedding(inputs)\n",
    "        outputs = self.rnn(x)\n",
    "        return outputs"
   ]
  },
  {
   "cell_type": "code",
   "execution_count": 14,
   "id": "9be83aec-f7da-4604-ad82-ebde2771b6a7",
   "metadata": {},
   "outputs": [],
   "source": [
    "class AdditiveAttention(L.Layer):\n",
    "    \n",
    "    def __init__(self, units: int):\n",
    "        super().__init__()\n",
    "        self.w1 = L.Dense(units=units, use_bias=False)\n",
    "        self.w2 = L.Dense(units=units, use_bias=False)\n",
    "        self.v = L.Dense(1, use_bias=False)\n",
    "\n",
    "    def call(self, query, keys):\n",
    "        shape_checker = ShapeChecker()\n",
    "        shape_checker(query, \"batch t_enc rnn_units\")\n",
    "        shape_checker(keys, \"batch t_dec emb_dec\")\n",
    "        # add nexaxis for broadcasting addition along the time dimensions\n",
    "        scores_query = tf.expand_dims(self.w1(query), axis=2)\n",
    "        scores_keys = tf.expand_dims(self.w2(keys), axis=1)\n",
    "        scores = self.v(tf.tanh(tf.add(scores_query, scores_keys)))\n",
    "        scores = tf.squeeze(scores, axis=-1)\n",
    "        shape_checker(scores, \"batch t_enc t_dec\")\n",
    "        attention_scores = tf.math.softmax(scores, axis=-1)  # for each t_enc, unit sum\n",
    "        context = tf.matmul(attention_scores, keys)\n",
    "        return context, attention_scores"
   ]
  },
  {
   "cell_type": "code",
   "execution_count": 15,
   "id": "3c613598-68cd-4cc2-a54d-ebbd8baad76f",
   "metadata": {},
   "outputs": [],
   "source": [
    "class Decoder(M.Model):\n",
    "\n",
    "    def __init__(self, rnn_units: int, vocab_size: int, embedding_dim: int, attention_units: int):\n",
    "        super(Decoder, self).__init__()\n",
    "        self.embedding = L.Embedding(input_dim=vocab_size, output_dim=embedding_dim, mask_zero=True)\n",
    "        self.rnn = L.GRU(units=rnn_units, return_state=True, return_sequences=True, **rnn_kwargs)\n",
    "        self.attention = AdditiveAttention(units=attention_units)\n",
    "        self.out = L.Dense(units=vocab_size)\n",
    "        self.last_attention_scores = None\n",
    "    \n",
    "    def call(self, inputs, enc_hidden_states, state=None, return_state=False):\n",
    "        shape_checker = ShapeChecker()\n",
    "        shape_checker(inputs, \"batch t_dec\")\n",
    "        shape_checker(enc_hidden_states, \"batch t_enc rnn_units\")\n",
    "        #\n",
    "        emb = self.embedding(inputs)\n",
    "        shape_checker(emb, \"batch t_dec emb\")\n",
    "        #\n",
    "        rnn_out, rnn_state = self.rnn(emb, initial_state=state)\n",
    "        shape_checker(rnn_out, \"batch t_dec rnn_units\")\n",
    "        #\n",
    "        context, attention_scores = self.attention(rnn_out, enc_hidden_states)\n",
    "        self.last_attention_scores = attention_scores\n",
    "        shape_checker(context, \"batch t_dec rnn_units\")\n",
    "        logits = self.out(context)\n",
    "        shape_checker(logits, 'batch t_dec vocab_size')\n",
    "        if return_state:\n",
    "            return logits, state\n",
    "        else:\n",
    "            return logits"
   ]
  },
  {
   "cell_type": "code",
   "execution_count": 16,
   "id": "e8b4b4b7-bccd-4289-9843-308204cba3e1",
   "metadata": {},
   "outputs": [
    {
     "data": {
      "text/plain": [
       "TensorShape([64, 6, 30000])"
      ]
     },
     "execution_count": 16,
     "metadata": {},
     "output_type": "execute_result"
    }
   ],
   "source": [
    "shape_checker = ShapeChecker()\n",
    "(enc_inputs, dec_inputs), dec_outputs = ds_train.take(1).as_numpy_iterator().next()\n",
    "shape_checker(enc_inputs, \"batch t_enc\")\n",
    "\n",
    "encoder = Encoder(rnn_units=RNN_UNITS, embedding_dim=EMBEDDING_DIM, vocab_size=VOCAB_SIZE)\n",
    "enc_outputs = encoder(enc_inputs)\n",
    "shape_checker(enc_outputs, \"batch t_enc rnn_units\")\n",
    "\n",
    "decoder = Decoder(rnn_units=RNN_UNITS, embedding_dim=EMBEDDING_DIM, vocab_size=VOCAB_SIZE, attention_units=16)\n",
    "logits = decoder(dec_inputs, enc_outputs)\n",
    "\n",
    "logits.shape"
   ]
  },
  {
   "cell_type": "code",
   "execution_count": 18,
   "id": "fc705add-dfe4-4345-b5d5-aa5c42c12883",
   "metadata": {
    "tags": []
   },
   "outputs": [
    {
     "name": "stdout",
     "output_type": "stream",
     "text": [
      "Model: \"translator\"\n",
      "_________________________________________________________________\n",
      " Layer (type)                Output Shape              Param #   \n",
      "=================================================================\n",
      " encoder_1 (Encoder)         multiple                  3584640   \n",
      "|¯¯¯¯¯¯¯¯¯¯¯¯¯¯¯¯¯¯¯¯¯¯¯¯¯¯¯¯¯¯¯¯¯¯¯¯¯¯¯¯¯¯¯¯¯¯¯¯¯¯¯¯¯¯¯¯¯¯¯¯¯¯¯|\n",
      "| embedding_2 (Embedding)   multiple                  3386496   |\n",
      "|                                                               |\n",
      "| bidirectional_1 (Bidirectio  multiple               198144    |\n",
      "| nal)                                                          |\n",
      "¯¯¯¯¯¯¯¯¯¯¯¯¯¯¯¯¯¯¯¯¯¯¯¯¯¯¯¯¯¯¯¯¯¯¯¯¯¯¯¯¯¯¯¯¯¯¯¯¯¯¯¯¯¯¯¯¯¯¯¯¯¯¯¯¯\n",
      " decoder_1 (Decoder)         multiple                  3504579   \n",
      "|¯¯¯¯¯¯¯¯¯¯¯¯¯¯¯¯¯¯¯¯¯¯¯¯¯¯¯¯¯¯¯¯¯¯¯¯¯¯¯¯¯¯¯¯¯¯¯¯¯¯¯¯¯¯¯¯¯¯¯¯¯¯¯|\n",
      "| embedding_3 (Embedding)   multiple                  1694080   |\n",
      "|                                                               |\n",
      "| gru_3 (GRU)               multiple                  99072     |\n",
      "|                                                               |\n",
      "| additive_attention_1 (Addit  multiple               4112      |\n",
      "| iveAttention)                                                 |\n",
      "|                                                               |\n",
      "| dense_7 (Dense)           multiple                  1707315   |\n",
      "¯¯¯¯¯¯¯¯¯¯¯¯¯¯¯¯¯¯¯¯¯¯¯¯¯¯¯¯¯¯¯¯¯¯¯¯¯¯¯¯¯¯¯¯¯¯¯¯¯¯¯¯¯¯¯¯¯¯¯¯¯¯¯¯¯\n",
      "=================================================================\n",
      "Total params: 7,089,219\n",
      "Trainable params: 7,089,219\n",
      "Non-trainable params: 0\n",
      "_________________________________________________________________\n"
     ]
    }
   ],
   "source": [
    "class Translator(M.Model):\n",
    "    def __init__(\n",
    "        self, \n",
    "        rnn_units: int = RNN_UNITS, \n",
    "        vocab_size: int = VOCAB_SIZE, \n",
    "        embedding_dim: int = EMBEDDING_DIM, \n",
    "        attention_units: int = ATTENTION_UNITS,\n",
    "    ):\n",
    "        super(Translator, self).__init__()\n",
    "        self.encoder = Encoder(rnn_units=rnn_units, embedding_dim=embedding_dim, vocab_size=vectorizer_src.vocabulary_size())\n",
    "        self.decoder = Decoder(rnn_units=rnn_units, embedding_dim=embedding_dim, vocab_size=vectorizer_dst.vocabulary_size(), attention_units=attention_units)\n",
    "    \n",
    "    def call(self, inputs):\n",
    "        inputs_enc, inputs_dec = inputs\n",
    "        enc_hidden_states = self.encoder(inputs_enc)\n",
    "        logits = self.decoder(inputs_dec, enc_hidden_states)\n",
    "        try:\n",
    "            # Delete the keras mask, so keras doesn't scale the loss+accuracy. \n",
    "            del logits._keras_mask\n",
    "        except AttributeError:\n",
    "            pass\n",
    "        return logits\n",
    "\n",
    "\n",
    "translator = Translator()\n",
    "\n",
    "translator((enc_inputs, dec_inputs))\n",
    "translator.summary(expand_nested=True)"
   ]
  },
  {
   "cell_type": "code",
   "execution_count": 24,
   "id": "79920745-becc-479d-a9b8-2a6740cb3a85",
   "metadata": {},
   "outputs": [
    {
     "name": "stdout",
     "output_type": "stream",
     "text": [
      "Model: \"model\"\n",
      "__________________________________________________________________________________________________\n",
      " Layer (type)                   Output Shape         Param #     Connected to                     \n",
      "==================================================================================================\n",
      " input_1 (InputLayer)           [(None, None)]       0           []                               \n",
      "                                                                                                  \n",
      " input_2 (InputLayer)           [(None, None)]       0           []                               \n",
      "                                                                                                  \n",
      " encoder_2 (Encoder)            (None, None, 128)    3584640     ['input_1[0][0]']                \n",
      "|¯¯¯¯¯¯¯¯¯¯¯¯¯¯¯¯¯¯¯¯¯¯¯¯¯¯¯¯¯¯¯¯¯¯¯¯¯¯¯¯¯¯¯¯¯¯¯¯¯¯¯¯¯¯¯¯¯¯¯¯¯¯¯¯¯¯¯¯¯¯¯¯¯¯¯¯¯¯¯¯¯¯¯¯¯¯¯¯¯¯¯¯¯¯¯¯|\n",
      "| embedding_4 (Embedding)      multiple             3386496     []                               |\n",
      "|                                                                                                |\n",
      "| bidirectional_2 (Bidirectional  multiple          198144      []                               |\n",
      "| )                                                                                              |\n",
      "¯¯¯¯¯¯¯¯¯¯¯¯¯¯¯¯¯¯¯¯¯¯¯¯¯¯¯¯¯¯¯¯¯¯¯¯¯¯¯¯¯¯¯¯¯¯¯¯¯¯¯¯¯¯¯¯¯¯¯¯¯¯¯¯¯¯¯¯¯¯¯¯¯¯¯¯¯¯¯¯¯¯¯¯¯¯¯¯¯¯¯¯¯¯¯¯¯¯\n",
      " decoder_2 (Decoder)            (None, None, 13235)  3504579     ['input_2[0][0]',                \n",
      "                                                                  'encoder_2[0][0]']              \n",
      "|¯¯¯¯¯¯¯¯¯¯¯¯¯¯¯¯¯¯¯¯¯¯¯¯¯¯¯¯¯¯¯¯¯¯¯¯¯¯¯¯¯¯¯¯¯¯¯¯¯¯¯¯¯¯¯¯¯¯¯¯¯¯¯¯¯¯¯¯¯¯¯¯¯¯¯¯¯¯¯¯¯¯¯¯¯¯¯¯¯¯¯¯¯¯¯¯|\n",
      "| embedding_5 (Embedding)      multiple             1694080     []                               |\n",
      "|                                                                                                |\n",
      "| gru_5 (GRU)                  multiple             99072       []                               |\n",
      "|                                                                                                |\n",
      "| additive_attention_2 (Additive  multiple          4112        []                               |\n",
      "| Attention)                                                                                     |\n",
      "|                                                                                                |\n",
      "| dense_11 (Dense)             multiple             1707315     []                               |\n",
      "¯¯¯¯¯¯¯¯¯¯¯¯¯¯¯¯¯¯¯¯¯¯¯¯¯¯¯¯¯¯¯¯¯¯¯¯¯¯¯¯¯¯¯¯¯¯¯¯¯¯¯¯¯¯¯¯¯¯¯¯¯¯¯¯¯¯¯¯¯¯¯¯¯¯¯¯¯¯¯¯¯¯¯¯¯¯¯¯¯¯¯¯¯¯¯¯¯¯\n",
      "==================================================================================================\n",
      "Total params: 7,089,219\n",
      "Trainable params: 7,089,219\n",
      "Non-trainable params: 0\n",
      "__________________________________________________________________________________________________\n"
     ]
    }
   ],
   "source": [
    "inputs_enc = L.Input(shape=(None,))\n",
    "inputs_dec = L.Input(shape=(None,))\n",
    "encoder = Encoder(rnn_units=RNN_UNITS, embedding_dim=EMBEDDING_DIM, vocab_size=vectorizer_src.vocabulary_size())\n",
    "decoder = Decoder(rnn_units=RNN_UNITS, embedding_dim=EMBEDDING_DIM, vocab_size=vectorizer_dst.vocabulary_size(), attention_units=ATTENTION_UNITS)\n",
    "enc_hidden_states = encoder(inputs_enc)\n",
    "logits = decoder(inputs_dec, enc_hidden_states)\n",
    "translator = M.Model(inputs=(inputs_enc, inputs_dec), outputs=logits)\n",
    "\n",
    "translator.summary(expand_nested=True)"
   ]
  },
  {
   "cell_type": "markdown",
   "id": "4b425076-4c8c-489f-bab1-611a3b773393",
   "metadata": {},
   "source": [
    "## Model setup"
   ]
  },
  {
   "cell_type": "code",
   "execution_count": 25,
   "id": "7010a676-238e-468e-8a93-dfaeebace7e5",
   "metadata": {},
   "outputs": [],
   "source": [
    "def masked_loss(y_true, y_pred):\n",
    "    loss_fn = LL.SparseCategoricalCrossentropy(from_logits=True, reduction=\"none\")\n",
    "    loss = loss_fn(y_true, y_pred)\n",
    "    mask = tf.cast(y_true != 0, loss.dtype)\n",
    "    loss *= mask\n",
    "    avg_loss = tf.reduce_sum(loss) / tf.reduce_sum(mask)\n",
    "    return avg_loss"
   ]
  },
  {
   "cell_type": "code",
   "execution_count": 26,
   "id": "2c5e581d-34f2-483e-843c-bf2ca2496a35",
   "metadata": {},
   "outputs": [],
   "source": [
    "def masked_accuracy(y_true, y_pred):\n",
    "    y_pred = tf.argmax(y_pred, axis=-1)\n",
    "    y_pred = tf.cast(y_pred, y_true.dtype)\n",
    "    match = tf.cast(y_true == y_pred, tf.float32)\n",
    "    mask = tf.cast(y_true != 0, tf.float32)\n",
    "    accuracy = tf.reduce_sum(match) / tf.reduce_sum(mask)\n",
    "    return accuracy"
   ]
  },
  {
   "cell_type": "code",
   "execution_count": 27,
   "id": "e0130307-7c8e-4c07-bfb8-f1107e33526c",
   "metadata": {},
   "outputs": [
    {
     "name": "stdout",
     "output_type": "stream",
     "text": [
      "expected_loss=9.49062, expected_accuracy=7.555723460521345e-05\n"
     ]
    }
   ],
   "source": [
    "vocab_size = float(vectorizer_dst.vocabulary_size())\n",
    "expected_loss = tf.math.log(vocab_size).numpy()\n",
    "expected_accuracy = 1.0 / vocab_size\n",
    "print(f\"{expected_loss=}, {expected_accuracy=}\")"
   ]
  },
  {
   "cell_type": "code",
   "execution_count": 28,
   "id": "0af7aef6-e1ad-4f43-a7e9-e5eb78274e8f",
   "metadata": {
    "tags": []
   },
   "outputs": [],
   "source": [
    "translator.compile(\n",
    "    optimizer=\"adam\",\n",
    "    loss=masked_loss,\n",
    "    metrics=[masked_accuracy, masked_loss],\n",
    ")"
   ]
  },
  {
   "cell_type": "code",
   "execution_count": 30,
   "id": "a896c39c-bb6e-4c24-aaed-46dfcf26d010",
   "metadata": {},
   "outputs": [
    {
     "name": "stdout",
     "output_type": "stream",
     "text": [
      "100/100 [==============================] - 7s 69ms/step - loss: 9.4906 - masked_accuracy: 3.0769e-05 - masked_loss: 9.4906\n"
     ]
    },
    {
     "data": {
      "text/plain": [
       "{'loss': 9.490619659423828,\n",
       " 'masked_accuracy': 3.076923167100176e-05,\n",
       " 'masked_loss': 9.490619659423828}"
      ]
     },
     "execution_count": 30,
     "metadata": {},
     "output_type": "execute_result"
    }
   ],
   "source": [
    "translator.evaluate(ds_val, steps=100, return_dict=True)"
   ]
  },
  {
   "cell_type": "markdown",
   "id": "dbaa2f35-b834-4c02-ae8c-da6832bfc472",
   "metadata": {},
   "source": [
    "## Training"
   ]
  },
  {
   "cell_type": "code",
   "execution_count": 31,
   "id": "db864941-937b-4010-89f0-5c12b5e50318",
   "metadata": {},
   "outputs": [],
   "source": [
    "EPOCHS = 100"
   ]
  },
  {
   "cell_type": "code",
   "execution_count": 32,
   "id": "6d9b9ce9-9998-4ddb-b069-c57f9e7d9c25",
   "metadata": {
    "tags": []
   },
   "outputs": [
    {
     "name": "stdout",
     "output_type": "stream",
     "text": [
      "Epoch 1/10\n",
      "100/100 [==============================] - 22s 152ms/step - loss: 5.8087 - masked_accuracy: 0.2113 - masked_loss: 5.8087 - val_loss: 4.8915 - val_masked_accuracy: 0.1940 - val_masked_loss: 4.8915\n",
      "Epoch 2/10\n",
      "100/100 [==============================] - 15s 152ms/step - loss: 4.4878 - masked_accuracy: 0.2058 - masked_loss: 4.4878 - val_loss: 4.6562 - val_masked_accuracy: 0.1955 - val_masked_loss: 4.6562\n",
      "Epoch 3/10\n",
      "100/100 [==============================] - 16s 160ms/step - loss: 4.4606 - masked_accuracy: 0.2037 - masked_loss: 4.4606 - val_loss: 4.4094 - val_masked_accuracy: 0.2022 - val_masked_loss: 4.4094\n",
      "Epoch 4/10\n",
      "100/100 [==============================] - 18s 177ms/step - loss: 4.2833 - masked_accuracy: 0.2412 - masked_loss: 4.2833 - val_loss: 4.1898 - val_masked_accuracy: 0.2689 - val_masked_loss: 4.1898\n",
      "Epoch 5/10\n",
      "100/100 [==============================] - 18s 176ms/step - loss: 4.1362 - masked_accuracy: 0.2955 - masked_loss: 4.1362 - val_loss: 3.9774 - val_masked_accuracy: 0.3464 - val_masked_loss: 3.9774\n",
      "Epoch 6/10\n",
      "100/100 [==============================] - 18s 181ms/step - loss: 4.0234 - masked_accuracy: 0.3840 - masked_loss: 4.0234 - val_loss: 3.8155 - val_masked_accuracy: 0.4235 - val_masked_loss: 3.8155\n",
      "Epoch 7/10\n",
      "100/100 [==============================] - 18s 178ms/step - loss: 3.9054 - masked_accuracy: 0.4065 - masked_loss: 3.9054 - val_loss: 3.7213 - val_masked_accuracy: 0.4318 - val_masked_loss: 3.7213\n",
      "Epoch 8/10\n",
      "100/100 [==============================] - 21s 208ms/step - loss: 3.7698 - masked_accuracy: 0.4167 - masked_loss: 3.7698 - val_loss: 3.6176 - val_masked_accuracy: 0.4459 - val_masked_loss: 3.6176\n",
      "Epoch 9/10\n",
      "100/100 [==============================] - 18s 185ms/step - loss: 3.6298 - masked_accuracy: 0.4236 - masked_loss: 3.6298 - val_loss: 3.5312 - val_masked_accuracy: 0.4462 - val_masked_loss: 3.5312\n",
      "Epoch 10/10\n",
      "100/100 [==============================] - 18s 179ms/step - loss: 3.4735 - masked_accuracy: 0.4363 - masked_loss: 3.4735 - val_loss: 3.3525 - val_masked_accuracy: 0.4558 - val_masked_loss: 3.3525\n"
     ]
    }
   ],
   "source": [
    "history = translator.fit(\n",
    "    ds_train.repeat(), \n",
    "    epochs=EPOCHS,\n",
    "    steps_per_epoch=100,\n",
    "    validation_data=ds_val,\n",
    "    validation_steps=20,\n",
    "    callbacks=[C.EarlyStopping(patience=3)],\n",
    ")"
   ]
  },
  {
   "cell_type": "code",
   "execution_count": 33,
   "id": "90963496",
   "metadata": {},
   "outputs": [
    {
     "data": {
      "text/plain": [
       "<matplotlib.legend.Legend at 0x7f89a8465d20>"
      ]
     },
     "execution_count": 33,
     "metadata": {},
     "output_type": "execute_result"
    },
    {
     "data": {
      "image/png": "[encoded data removed]",
      "text/plain": [
       "<Figure size 432x288 with 1 Axes>"
      ]
     },
     "metadata": {
      "needs_background": "light"
     },
     "output_type": "display_data"
    }
   ],
   "source": [
    "plt.plot(history.history['loss'], label='loss')\n",
    "plt.plot(history.history['val_loss'], label='val_loss')\n",
    "plt.ylim([0, max(plt.ylim())])\n",
    "plt.xlabel('Epoch #')\n",
    "plt.ylabel('CE/token')\n",
    "plt.legend()"
   ]
  },
  {
   "cell_type": "code",
   "execution_count": 34,
   "id": "4e750649",
   "metadata": {},
   "outputs": [
    {
     "data": {
      "text/plain": [
       "<matplotlib.legend.Legend at 0x7f89a84ab2b0>"
      ]
     },
     "execution_count": 34,
     "metadata": {},
     "output_type": "execute_result"
    },
    {
     "data": {
      "image/png": "[encoded data removed]",
      "text/plain": [
       "<Figure size 432x288 with 1 Axes>"
      ]
     },
     "metadata": {
      "needs_background": "light"
     },
     "output_type": "display_data"
    }
   ],
   "source": [
    "plt.plot(history.history['masked_accuracy'], label='accuracy')\n",
    "plt.plot(history.history['val_masked_accuracy'], label='val_accuracy')\n",
    "plt.ylim([0, max(plt.ylim())])\n",
    "plt.xlabel('Epoch #')\n",
    "plt.ylabel('CE/token')\n",
    "plt.legend()"
   ]
  },
  {
   "cell_type": "code",
   "execution_count": null,
   "id": "7741ef53-ddf6-493f-8155-7e0ca342bd7e",
   "metadata": {},
   "outputs": [],
   "source": []
  },
  {
   "cell_type": "code",
   "execution_count": null,
   "id": "5c8147c4-d7dc-415d-a882-72466c9b2672",
   "metadata": {},
   "outputs": [],
   "source": []
  },
  {
   "cell_type": "code",
   "execution_count": null,
   "id": "d50f7f4c-6cfa-4bc1-a71d-7f96a4875feb",
   "metadata": {},
   "outputs": [],
   "source": []
  },
  {
   "cell_type": "code",
   "execution_count": null,
   "id": "a6906169-2d8d-41a5-b6a1-cdaa301bbf49",
   "metadata": {},
   "outputs": [],
   "source": []
  },
  {
   "cell_type": "code",
   "execution_count": null,
   "id": "cda2e99c-bde3-4e81-aadb-7ba95d329800",
   "metadata": {},
   "outputs": [],
   "source": []
  },
  {
   "cell_type": "code",
   "execution_count": null,
   "id": "e62b5455-32f2-45d0-a2e5-bec024fd61e7",
   "metadata": {},
   "outputs": [],
   "source": []
  },
  {
   "cell_type": "code",
   "execution_count": null,
   "id": "dcda1ba8-6424-4382-a371-1927f55bd5fb",
   "metadata": {},
   "outputs": [],
   "source": []
  },
  {
   "cell_type": "code",
   "execution_count": null,
   "id": "497f5628-71b8-400c-b327-7deded886c9c",
   "metadata": {},
   "outputs": [],
   "source": []
  },
  {
   "cell_type": "code",
   "execution_count": null,
   "id": "0f5b5f5a-1e21-4119-a57b-de58e11037b0",
   "metadata": {},
   "outputs": [],
   "source": []
  },
  {
   "cell_type": "code",
   "execution_count": null,
   "id": "189adde4-a0cd-4aa2-94bb-83224d4713f7",
   "metadata": {},
   "outputs": [],
   "source": []
  },
  {
   "cell_type": "code",
   "execution_count": null,
   "id": "2f311587-f4e9-473b-bf99-671403d36bde",
   "metadata": {},
   "outputs": [],
   "source": []
  },
  {
   "cell_type": "code",
   "execution_count": null,
   "id": "0d422c05-4c95-4141-a6a2-9c35a73e9608",
   "metadata": {},
   "outputs": [],
   "source": []
  },
  {
   "cell_type": "code",
   "execution_count": null,
   "id": "55c583f2-b2ff-4e2d-80ff-7463dcf8d5cc",
   "metadata": {},
   "outputs": [],
   "source": []
  },
  {
   "cell_type": "code",
   "execution_count": null,
   "id": "f47de614-d98d-440f-94e8-a7fc6d7e49a9",
   "metadata": {},
   "outputs": [],
   "source": []
  },
  {
   "cell_type": "code",
   "execution_count": null,
   "id": "089be299-3f15-4d9a-8bf1-001229c63ccd",
   "metadata": {},
   "outputs": [],
   "source": []
  },
  {
   "cell_type": "code",
   "execution_count": null,
   "id": "8391e85d-42c1-42a3-bc9d-867e64b08506",
   "metadata": {},
   "outputs": [],
   "source": []
  },
  {
   "cell_type": "code",
   "execution_count": null,
   "id": "a81083ec-205b-479f-8514-55bb77844527",
   "metadata": {},
   "outputs": [],
   "source": []
  },
  {
   "cell_type": "code",
   "execution_count": null,
   "id": "54846fac-46af-4998-84e5-9ea2dc4a24a8",
   "metadata": {},
   "outputs": [],
   "source": []
  },
  {
   "cell_type": "code",
   "execution_count": null,
   "id": "1d8c101f-f653-4d83-824c-dcd1cb66b8d1",
   "metadata": {},
   "outputs": [],
   "source": [
    "enc_inputs.shape"
   ]
  },
  {
   "cell_type": "code",
   "execution_count": null,
   "id": "28c04cd2-9796-4863-99d4-94bf6f155bae",
   "metadata": {},
   "outputs": [],
   "source": [
    "enc_outputs.shape"
   ]
  },
  {
   "cell_type": "code",
   "execution_count": null,
   "id": "eb09cf6f-35ce-497a-9dc4-407609503e93",
   "metadata": {},
   "outputs": [],
   "source": [
    "dec_inputs[:, :3].shape"
   ]
  },
  {
   "cell_type": "code",
   "execution_count": null,
   "id": "aff807b5-fb13-41fb-8ffa-a4826b951af0",
   "metadata": {},
   "outputs": [],
   "source": [
    "decoder_emb = decoder.embedding(dec_inputs[:, :3])\n",
    "decoder_emb.shape"
   ]
  },
  {
   "cell_type": "code",
   "execution_count": null,
   "id": "99a81390-e029-4e6e-8874-1f7732ebb4a6",
   "metadata": {},
   "outputs": [],
   "source": [
    "dec_rnn_out, state = decoder.rnn(decoder_emb)\n",
    "print(dec_rnn_out.shape)\n",
    "print(state.shape)"
   ]
  },
  {
   "cell_type": "code",
   "execution_count": null,
   "id": "c125e403-6518-4140-8f4b-25929acd5b4d",
   "metadata": {},
   "outputs": [],
   "source": [
    "attention = AdditiveAttention(units=16)"
   ]
  },
  {
   "cell_type": "code",
   "execution_count": null,
   "id": "2ab750ca-ac98-4020-8551-44b672a2ab27",
   "metadata": {},
   "outputs": [],
   "source": [
    "scores_keys = tf.expand_dims(attention.w1(enc_outputs), axis=1)\n",
    "scores_keys.shape"
   ]
  },
  {
   "cell_type": "code",
   "execution_count": null,
   "id": "2408db45-574c-41f4-b0f9-f1b876d2f27c",
   "metadata": {},
   "outputs": [],
   "source": [
    "scores_values = tf.expand_dims(attention.w2(dec_rnn_out), axis=2)\n",
    "scores_values.shape"
   ]
  },
  {
   "cell_type": "code",
   "execution_count": null,
   "id": "0e38d6d8-46b4-4e2e-9db0-b438f7c7a981",
   "metadata": {},
   "outputs": [],
   "source": [
    "scores = attention.v(tf.tanh(tf.add(scores_keys, scores_values)))\n",
    "scores = tf.squeeze(scores)  # drop last dimension\n",
    "scores.shape"
   ]
  },
  {
   "cell_type": "code",
   "execution_count": null,
   "id": "b41b3ad0-d854-48b2-97e3-cbb77cf0f708",
   "metadata": {},
   "outputs": [],
   "source": [
    "attention_scores = tf.math.softmax(scores, axis=-1)\n",
    "attention_scores.shape"
   ]
  },
  {
   "cell_type": "code",
   "execution_count": null,
   "id": "84cb71e1-d408-4c26-b62c-88987c6f7b38",
   "metadata": {},
   "outputs": [],
   "source": [
    "tf.matmul(attention_scores, enc_outputs).shape"
   ]
  },
  {
   "cell_type": "code",
   "execution_count": null,
   "id": "f3993c02-8e99-435c-9205-3ecefa651325",
   "metadata": {},
   "outputs": [],
   "source": []
  }
 ],
 "metadata": {
  "kernelspec": {
   "display_name": "ai",
   "language": "python",
   "name": "ai"
  },
  "language_info": {
   "codemirror_mode": {
    "name": "ipython",
    "version": 3
   },
   "file_extension": ".py",
   "mimetype": "text/x-python",
   "name": "python",
   "nbconvert_exporter": "python",
   "pygments_lexer": "ipython3",
   "version": "3.10.3"
  }
 },
 "nbformat": 4,
 "nbformat_minor": 5
}
