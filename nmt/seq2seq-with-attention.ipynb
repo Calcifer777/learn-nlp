{
 "cells": [
  {
   "cell_type": "code",
   "execution_count": 5,
   "id": "69691b9b-ded1-4917-89d2-2fb421f4778b",
   "metadata": {},
   "outputs": [
    {
     "name": "stderr",
     "output_type": "stream",
     "text": [
      "2023-01-03 23:36:01.530859: I tensorflow/core/platform/cpu_feature_guard.cc:193] This TensorFlow binary is optimized with oneAPI Deep Neural Network Library (oneDNN) to use the following CPU instructions in performance-critical operations:  AVX2 FMA\n",
      "To enable them in other operations, rebuild TensorFlow with the appropriate compiler flags.\n",
      "2023-01-03 23:36:01.752815: W tensorflow/compiler/xla/stream_executor/platform/default/dso_loader.cc:64] Could not load dynamic library 'libcudart.so.11.0'; dlerror: libcudart.so.11.0: cannot open shared object file: No such file or directory\n",
      "2023-01-03 23:36:01.752848: I tensorflow/compiler/xla/stream_executor/cuda/cudart_stub.cc:29] Ignore above cudart dlerror if you do not have a GPU set up on your machine.\n",
      "2023-01-03 23:36:03.224727: W tensorflow/compiler/xla/stream_executor/platform/default/dso_loader.cc:64] Could not load dynamic library 'libnvinfer.so.7'; dlerror: libnvinfer.so.7: cannot open shared object file: No such file or directory\n",
      "2023-01-03 23:36:03.224915: W tensorflow/compiler/xla/stream_executor/platform/default/dso_loader.cc:64] Could not load dynamic library 'libnvinfer_plugin.so.7'; dlerror: libnvinfer_plugin.so.7: cannot open shared object file: No such file or directory\n",
      "2023-01-03 23:36:03.224934: W tensorflow/compiler/tf2tensorrt/utils/py_utils.cc:38] TF-TRT Warning: Cannot dlopen some TensorRT libraries. If you would like to use Nvidia GPU with TensorRT, please make sure the missing libraries mentioned above are installed properly.\n"
     ]
    }
   ],
   "source": [
    "import numpy \n",
    "\n",
    "from typing import Any, Tuple\n",
    "\n",
    "import einops\n",
    "import matplotlib.pyplot as plt\n",
    "import matplotlib.ticker as ticker\n",
    "\n",
    "import pathlib\n",
    "import pandas as pd\n",
    "import numpy as np\n",
    "\n",
    "import tensorflow as tf\n",
    "from tensorflow_text import normalize_utf8\n",
    "from tensorflow import keras\n",
    "from keras import layers as L\n",
    "from keras import models as M\n",
    "from keras import losses as LL"
   ]
  },
  {
   "cell_type": "code",
   "execution_count": 6,
   "id": "2191af2f-c16b-4cc4-b4a1-17495f3a69d4",
   "metadata": {
    "tags": []
   },
   "outputs": [],
   "source": [
    "# Download the file\n",
    "# http://www.manythings.org/anki/\n",
    "path_to_file = pathlib.Path().home() / \"tensorflow_datasets\" / \"anki\" / \"ita-eng\" / \"ita.txt\"\n",
    "\n",
    "df = pd.read_csv(path_to_file, sep=\"\\t\", header=None)\n",
    "df.columns=[\"eng\", \"ita\", \"author\"]\n",
    "df[\"split\"] = np.where(np.random.uniform(size=(len(df),)) < 0.8, \"train\", \"val\")"
   ]
  },
  {
   "cell_type": "code",
   "execution_count": 7,
   "id": "1129b217-8d26-4dad-9a32-ce869712041c",
   "metadata": {},
   "outputs": [
    {
     "name": "stdout",
     "output_type": "stream",
     "text": [
      "<class 'pandas.core.frame.DataFrame'>\n",
      "RangeIndex: 358373 entries, 0 to 358372\n",
      "Data columns (total 4 columns):\n",
      " #   Column  Non-Null Count   Dtype \n",
      "---  ------  --------------   ----- \n",
      " 0   eng     358373 non-null  object\n",
      " 1   ita     358373 non-null  object\n",
      " 2   author  358373 non-null  object\n",
      " 3   split   358373 non-null  object\n",
      "dtypes: object(4)\n",
      "memory usage: 10.9+ MB\n"
     ]
    }
   ],
   "source": [
    "df.info()"
   ]
  },
  {
   "cell_type": "code",
   "execution_count": 8,
   "id": "5bb1d9af-6156-41a2-a696-2e41e47769c6",
   "metadata": {},
   "outputs": [
    {
     "data": {
      "text/html": [
       "<div>\n",
       "<style scoped>\n",
       "    .dataframe tbody tr th:only-of-type {\n",
       "        vertical-align: middle;\n",
       "    }\n",
       "\n",
       "    .dataframe tbody tr th {\n",
       "        vertical-align: top;\n",
       "    }\n",
       "\n",
       "    .dataframe thead th {\n",
       "        text-align: right;\n",
       "    }\n",
       "</style>\n",
       "<table border=\"1\" class=\"dataframe\">\n",
       "  <thead>\n",
       "    <tr style=\"text-align: right;\">\n",
       "      <th></th>\n",
       "      <th>eng</th>\n",
       "      <th>ita</th>\n",
       "      <th>author</th>\n",
       "      <th>split</th>\n",
       "    </tr>\n",
       "  </thead>\n",
       "  <tbody>\n",
       "    <tr>\n",
       "      <th>0</th>\n",
       "      <td>Hi.</td>\n",
       "      <td>Ciao!</td>\n",
       "      <td>CC-BY 2.0 (France) Attribution: tatoeba.org #5...</td>\n",
       "      <td>train</td>\n",
       "    </tr>\n",
       "    <tr>\n",
       "      <th>1</th>\n",
       "      <td>Hi.</td>\n",
       "      <td>Ciao.</td>\n",
       "      <td>CC-BY 2.0 (France) Attribution: tatoeba.org #5...</td>\n",
       "      <td>train</td>\n",
       "    </tr>\n",
       "    <tr>\n",
       "      <th>2</th>\n",
       "      <td>Run!</td>\n",
       "      <td>Corri!</td>\n",
       "      <td>CC-BY 2.0 (France) Attribution: tatoeba.org #9...</td>\n",
       "      <td>train</td>\n",
       "    </tr>\n",
       "    <tr>\n",
       "      <th>3</th>\n",
       "      <td>Run!</td>\n",
       "      <td>Corra!</td>\n",
       "      <td>CC-BY 2.0 (France) Attribution: tatoeba.org #9...</td>\n",
       "      <td>train</td>\n",
       "    </tr>\n",
       "    <tr>\n",
       "      <th>4</th>\n",
       "      <td>Run!</td>\n",
       "      <td>Correte!</td>\n",
       "      <td>CC-BY 2.0 (France) Attribution: tatoeba.org #9...</td>\n",
       "      <td>val</td>\n",
       "    </tr>\n",
       "    <tr>\n",
       "      <th>5</th>\n",
       "      <td>Who?</td>\n",
       "      <td>Chi?</td>\n",
       "      <td>CC-BY 2.0 (France) Attribution: tatoeba.org #2...</td>\n",
       "      <td>train</td>\n",
       "    </tr>\n",
       "    <tr>\n",
       "      <th>6</th>\n",
       "      <td>Wow!</td>\n",
       "      <td>Wow!</td>\n",
       "      <td>CC-BY 2.0 (France) Attribution: tatoeba.org #5...</td>\n",
       "      <td>train</td>\n",
       "    </tr>\n",
       "    <tr>\n",
       "      <th>7</th>\n",
       "      <td>Duck!</td>\n",
       "      <td>Amore!</td>\n",
       "      <td>CC-BY 2.0 (France) Attribution: tatoeba.org #2...</td>\n",
       "      <td>train</td>\n",
       "    </tr>\n",
       "    <tr>\n",
       "      <th>8</th>\n",
       "      <td>Duck!</td>\n",
       "      <td>Tesoro!</td>\n",
       "      <td>CC-BY 2.0 (France) Attribution: tatoeba.org #2...</td>\n",
       "      <td>train</td>\n",
       "    </tr>\n",
       "    <tr>\n",
       "      <th>9</th>\n",
       "      <td>Duck!</td>\n",
       "      <td>Immergiti!</td>\n",
       "      <td>CC-BY 2.0 (France) Attribution: tatoeba.org #2...</td>\n",
       "      <td>val</td>\n",
       "    </tr>\n",
       "  </tbody>\n",
       "</table>\n",
       "</div>"
      ],
      "text/plain": [
       "     eng         ita                                             author  split\n",
       "0    Hi.       Ciao!  CC-BY 2.0 (France) Attribution: tatoeba.org #5...  train\n",
       "1    Hi.       Ciao.  CC-BY 2.0 (France) Attribution: tatoeba.org #5...  train\n",
       "2   Run!      Corri!  CC-BY 2.0 (France) Attribution: tatoeba.org #9...  train\n",
       "3   Run!      Corra!  CC-BY 2.0 (France) Attribution: tatoeba.org #9...  train\n",
       "4   Run!    Correte!  CC-BY 2.0 (France) Attribution: tatoeba.org #9...    val\n",
       "5   Who?        Chi?  CC-BY 2.0 (France) Attribution: tatoeba.org #2...  train\n",
       "6   Wow!        Wow!  CC-BY 2.0 (France) Attribution: tatoeba.org #5...  train\n",
       "7  Duck!      Amore!  CC-BY 2.0 (France) Attribution: tatoeba.org #2...  train\n",
       "8  Duck!     Tesoro!  CC-BY 2.0 (France) Attribution: tatoeba.org #2...  train\n",
       "9  Duck!  Immergiti!  CC-BY 2.0 (France) Attribution: tatoeba.org #2...    val"
      ]
     },
     "execution_count": 8,
     "metadata": {},
     "output_type": "execute_result"
    }
   ],
   "source": [
    "df.head(10)"
   ]
  },
  {
   "cell_type": "code",
   "execution_count": 9,
   "id": "5bd26ac2-510f-413d-a76a-4a8e2424046d",
   "metadata": {},
   "outputs": [],
   "source": [
    "BUFFER_SIZE = len(df)\n",
    "BATCH_SIZE = 64"
   ]
  },
  {
   "cell_type": "code",
   "execution_count": 10,
   "id": "18d67532-c458-44bf-aed5-27ea5f04f203",
   "metadata": {},
   "outputs": [
    {
     "name": "stderr",
     "output_type": "stream",
     "text": [
      "2023-01-03 23:36:07.553057: W tensorflow/compiler/xla/stream_executor/platform/default/dso_loader.cc:64] Could not load dynamic library 'libcuda.so.1'; dlerror: libcuda.so.1: cannot open shared object file: No such file or directory\n",
      "2023-01-03 23:36:07.553113: W tensorflow/compiler/xla/stream_executor/cuda/cuda_driver.cc:265] failed call to cuInit: UNKNOWN ERROR (303)\n",
      "2023-01-03 23:36:07.553151: I tensorflow/compiler/xla/stream_executor/cuda/cuda_diagnostics.cc:156] kernel driver does not appear to be running on this host (calcifer-Inspiron-7370): /proc/driver/nvidia/version does not exist\n",
      "2023-01-03 23:36:07.553731: I tensorflow/core/platform/cpu_feature_guard.cc:193] This TensorFlow binary is optimized with oneAPI Deep Neural Network Library (oneDNN) to use the following CPU instructions in performance-critical operations:  AVX2 FMA\n",
      "To enable them in other operations, rebuild TensorFlow with the appropriate compiler flags.\n"
     ]
    }
   ],
   "source": [
    "train_raw = (\n",
    "    tf.data.Dataset\n",
    "    .from_tensor_slices((\n",
    "        df.query(\"split == 'train'\")[\"ita\"].values,\n",
    "        df.query(\"split == 'train'\")[\"eng\"].values,\n",
    "    ))\n",
    "    .shuffle(BUFFER_SIZE)\n",
    "    .batch(BATCH_SIZE)\n",
    ")\n",
    "\n",
    "val_raw = (\n",
    "    tf.data.Dataset\n",
    "    .from_tensor_slices((\n",
    "        df.query(\"split == 'val'\")[\"ita\"].values,\n",
    "        df.query(\"split == 'val'\")[\"eng\"].values,\n",
    "    ))\n",
    "    .shuffle(BUFFER_SIZE)\n",
    "    .batch(BATCH_SIZE)\n",
    ")"
   ]
  },
  {
   "cell_type": "code",
   "execution_count": 11,
   "id": "53a2e87b-196a-4ca1-9249-836d0d9de37a",
   "metadata": {
    "tags": []
   },
   "outputs": [
    {
     "name": "stdout",
     "output_type": "stream",
     "text": [
      "ITA: tf.Tensor(\n",
      "[b'\\xc3\\x88 quello che mi ha aiutato.'\n",
      " b'La riunione non durer\\xc3\\xa0 cos\\xc3\\xac tanto.'\n",
      " b'Questo cappello mi \\xc3\\xa8 costato 10 dollari.'\n",
      " b'Tom avrebbe dovuto dire di s\\xc3\\xac.' b'Tom andr\\xc3\\xa0.'\n",
      " b\"Perch\\xc3\\xa9 non andate a dormire un po'?\"\n",
      " b'Tom inizi\\xc3\\xb2 a leggere.' b'Oggi mi sento bene.'\n",
      " b'\\xc3\\x88 nata qua?' b'\\xc3\\x88 una donna ora.'\n",
      " b'Voi siete favorevoli o contrarie alla guerra?'\n",
      " b'Penso che Tom la amer\\xc3\\xa0.' b'Sono state fatte delle telefonate.'\n",
      " b'Tom sta giocando a carte con Mary.' b'Odio vederti cos\\xc3\\xac.'\n",
      " b'Tu hai un cronometro?' b'Non posso essere sicuro.'\n",
      " b'Finch\\xc3\\xa9 viviamo, dobbiamo lavorare.'\n",
      " b'Le nostre bambine vanno ancora a scuola.' b'Tu sei con qualcuno?'\n",
      " b'Quanto cibo rimane?'\n",
      " b'Io penso che sia improbabile che qualsiasi negozio venderebbe questo modello a quel prezzo.'\n",
      " b'Che shampoo utilizzate?' b'Quando arriverai a casa?'\n",
      " b'Ti ho lasciato un messaggio.' b'Hai della posta.'\n",
      " b'Si spos\\xc3\\xb2 due volte ed ebbe pi\\xc3\\xb9 di 20 bambini.'\n",
      " b'I bagni sono al piano di sotto.' b'Nessuno vi far\\xc3\\xa0 del male.'\n",
      " b'Tom sta migliorando gradualmente.' b'Come sta?'\n",
      " b'Perch\\xc3\\xa9 diamine vorrebbe andare l\\xc3\\xac?'\n",
      " b'Persi un mucchio di chiavi.'\n",
      " b'Sei molto fortunato ad avere quegli amici.'\n",
      " b'Non dir\\xc3\\xb2 a nessuno di Tom.' b'\\xc3\\x88 veramente un buon segno.'\n",
      " b'Tornate a trovarmi tutti?' b'Mio padre \\xc3\\xa8 un autista di autobus.'\n",
      " b'Non parlare a voce alta qui.' b'Ho un brutto raffreddore.'\n",
      " b'Lei assomiglia a sua madre sotto ogni aspetto.'\n",
      " b'Tom sta canticchiando.'\n",
      " b'Noi abbiamo gi\\xc3\\xa0 sprecato abbastanza tempo.'\n",
      " b'Sono al sicuro ora?' b\"La democrazia ha origine nell'antica Grecia.\"\n",
      " b'Pensa che i videogiochi diano dipendenza?'\n",
      " b'Tom ha appena pulito la sua stanza.'\n",
      " b\"Noi siamo arrivate sull'isola due giorni dopo.\"\n",
      " b\"Sono diventata un'avvocatessa per aiutare la gente.\"\n",
      " b'Sono alta come lei.'\n",
      " b\"Quando \\xc3\\xa8 stata l'ultima volta che \\xc3\\xa8 successo?\"\n",
      " b'Dica a Tom che sono orgoglioso di lui.' b'Lui la odia.'\n",
      " b'Tom \\xc3\\xa8 tornato nel suo appartamento.'\n",
      " b'Io non ho mai riso cos\\xc3\\xac tanto in vita mia.'\n",
      " b'Perch\\xc3\\xa9 le persone vanno al cinema?'\n",
      " b'Penso di essere innamorato di lei.' b\"Non c'\\xc3\\xa8 ritorno.\"\n",
      " b'Lo abbiamo pagato.' b'Lui ha risposto in maniera scortese.'\n",
      " b'Vorrei non essere andata a Boston.'\n",
      " b'Generalmente, gli uomini sono pi\\xc3\\xb9 forti delle donne.'\n",
      " b'Voglio essere veramente una brava insegnante.'\n",
      " b\"Lei l'ha visto in viso?\"], shape=(64,), dtype=string) ENG: tf.Tensor(\n",
      "[b\"He's the one who helped me.\" b\"The meeting won't last that long.\"\n",
      " b'This hat cost ten dollars.' b\"Tom should've said yes.\" b\"Tom'll go.\"\n",
      " b\"Why don't you go and get some sleep?\" b'Tom began to read.'\n",
      " b'I feel good today.' b'Were you born here?' b\"You're a woman now.\"\n",
      " b'Are you for or against the war?' b'I think Tom is going to love it.'\n",
      " b'Phone calls were made.' b'Tom is playing cards with Mary.'\n",
      " b'I hate to see you like this.' b'Do you have a stopwatch?'\n",
      " b\"I can't be sure.\" b'As long as we live, we have to work.'\n",
      " b'Our children still go to school.' b'Are you with someone?'\n",
      " b'How much food is left?'\n",
      " b\"I think it's unlikely that any store would sell this model for that price.\"\n",
      " b'What shampoo do you use?' b'When will you get home?'\n",
      " b'I left you a message.' b\"You've got mail.\"\n",
      " b'He married twice and had more than 20 children.'\n",
      " b'The restrooms are downstairs.' b\"Nobody's going to hurt you.\"\n",
      " b'Tom is gradually getting better.' b'How do you do?'\n",
      " b'Why on earth would you want to go there?' b'I lost a bunch of keys.'\n",
      " b'You are very fortunate that you have such friends.'\n",
      " b\"I won't tell anyone about Tom.\" b\"That's a real good sign.\"\n",
      " b'Are you all coming back to visit me?' b'My father is a bus driver.'\n",
      " b\"Don't talk in a loud voice here.\" b'I have a bad cold.'\n",
      " b'She resembles her mother in every respect.' b'Tom is humming.'\n",
      " b\"We've already wasted enough time.\" b'Am I safe now?'\n",
      " b'Democracy originated in Ancient Greece.'\n",
      " b'Do you think video games are addictive?' b'Tom just cleaned his room.'\n",
      " b'We arrived on the island two days later.'\n",
      " b'I became a lawyer to help people.' b\"I'm as tall as you.\"\n",
      " b'When was the last time that happened?'\n",
      " b\"Tell Tom that I'm proud of him.\" b'He hates her.'\n",
      " b'Tom is back in his apartment.'\n",
      " b\"I've never laughed so much in my life.\"\n",
      " b'Why do people go to the movies?' b\"I think I'm in love with her.\"\n",
      " b\"There's no turning back.\" b'We paid for it.' b'He made a rude reply.'\n",
      " b\"I wish I hadn't gone to Boston.\"\n",
      " b'Generally speaking, men are stronger than women.'\n",
      " b'I really want to be a good teacher.' b'Did you see his face?'], shape=(64,), dtype=string) \n",
      "\n"
     ]
    }
   ],
   "source": [
    "for ita, eng in train_raw.shuffle(100).take(1):\n",
    "    print(\"ITA:\", ita, \"ENG:\", eng, \"\\n\")"
   ]
  },
  {
   "cell_type": "code",
   "execution_count": 12,
   "id": "2fe6486a-c367-429a-9748-3051e301aef6",
   "metadata": {},
   "outputs": [],
   "source": [
    "@tf.function\n",
    "def clean_string(s):\n",
    "    # Split accented characters\n",
    "    text = normalize_utf8(s, \"NFKD\")\n",
    "    text = tf.strings.lower(text)\n",
    "    # Keep space, a to z, and select punctuation.\n",
    "    text = tf.strings.regex_replace(text, '[^ a-z.?!,;]', '')\n",
    "    # Add spaces around punctuation.\n",
    "    text = tf.strings.regex_replace(text, '[.?!,;]', r' \\0 ')\n",
    "    # Strip whitespace.\n",
    "    text = tf.strings.strip(text)\n",
    "    # Add START and END tokens\n",
    "    text = tf.strings.join(['[START]', text, '[END]'], separator=' ')\n",
    "    return text"
   ]
  },
  {
   "cell_type": "code",
   "execution_count": 13,
   "id": "3eaeb909-9e09-4221-b693-d256d9aaabd3",
   "metadata": {},
   "outputs": [
    {
     "data": {
      "text/plain": [
       "<tf.Tensor: shape=(), dtype=string, numpy=b'[START] ciao sono marco .  come ti chiami ? [END]'>"
      ]
     },
     "execution_count": 13,
     "metadata": {},
     "output_type": "execute_result"
    }
   ],
   "source": [
    "ita_sample = tf.constant(\"ciao sono marco. COme ti chiami?\")\n",
    "clean_string(ita_sample)"
   ]
  },
  {
   "cell_type": "code",
   "execution_count": 14,
   "id": "1b639ae9-7719-4292-bf7c-d4ec6cea6816",
   "metadata": {},
   "outputs": [
    {
     "name": "stdout",
     "output_type": "stream",
     "text": [
      "WARNING:tensorflow:From /home/calcifer/git/marco/learn-deep-learning/.env/lib/python3.10/site-packages/tensorflow/python/autograph/pyct/static_analysis/liveness.py:83: Analyzer.lamba_check (from tensorflow.python.autograph.pyct.static_analysis.liveness) is deprecated and will be removed after 2023-09-23.\n",
      "Instructions for updating:\n",
      "Lambda fuctions will be no more assumed to be used in the statement where they are used, or at least in the same block. https://github.com/tensorflow/tensorflow/issues/56089\n"
     ]
    }
   ],
   "source": [
    "VOCB_SIZE = 30000\n",
    "\n",
    "vectorizer_src = L.TextVectorization(\n",
    "    max_tokens=VOCB_SIZE,\n",
    "    standardize=clean_string,\n",
    "    ragged=True,\n",
    "    encoding='utf-8',\n",
    ")\n",
    "vectorizer_src.adapt(train_raw.map(lambda src, dst: src))\n",
    "\n",
    "vectorizer_dst = L.TextVectorization(\n",
    "    max_tokens=VOCB_SIZE,\n",
    "    standardize=clean_string,\n",
    "    ragged=True,\n",
    "    encoding='utf-8',\n",
    ")\n",
    "\n",
    "vectorizer_dst.adapt(train_raw.map(lambda src, dst: dst))"
   ]
  },
  {
   "cell_type": "code",
   "execution_count": 15,
   "id": "d143f72e-e771-49c2-91fd-5b48d4b9bee0",
   "metadata": {},
   "outputs": [
    {
     "data": {
      "text/plain": [
       "['', '[UNK]', '[START]', '[END]', '.', 'tom', 'you', 'i', 'to', '?']"
      ]
     },
     "execution_count": 15,
     "metadata": {},
     "output_type": "execute_result"
    }
   ],
   "source": [
    "vectorizer_dst.get_vocabulary()[:10]"
   ]
  },
  {
   "cell_type": "code",
   "execution_count": 16,
   "id": "485061e5-3df4-4531-8915-0eca9fb01a53",
   "metadata": {},
   "outputs": [
    {
     "data": {
      "text/plain": [
       "<tf.RaggedTensor [[2, 4090, 17, 1, 4, 47, 72, 1277, 6, 3]]>"
      ]
     },
     "execution_count": 16,
     "metadata": {},
     "output_type": "execute_result"
    }
   ],
   "source": [
    "vectorizer_src([ita_sample])"
   ]
  },
  {
   "cell_type": "code",
   "execution_count": 17,
   "id": "d69425b3-8c1c-4209-a006-2bc2f8e3ab37",
   "metadata": {},
   "outputs": [],
   "source": [
    "def prep_dataset(src, dst):\n",
    "    src_enc = vectorizer_src(src).to_tensor()\n",
    "    dst_enc = vectorizer_dst(dst)\n",
    "    dst_in = dst_enc[:, :-1].to_tensor()\n",
    "    dst_out = dst_enc[:, 1:].to_tensor()\n",
    "    return (src_enc, dst_in), dst_out"
   ]
  },
  {
   "cell_type": "code",
   "execution_count": 18,
   "id": "8a24daee-5103-49d8-8d41-8f99ccf349a9",
   "metadata": {},
   "outputs": [],
   "source": [
    "ds_train = train_raw.map(prep_dataset, tf.data.AUTOTUNE)\n",
    "ds_val = val_raw.map(prep_dataset, tf.data.AUTOTUNE)"
   ]
  },
  {
   "cell_type": "code",
   "execution_count": 19,
   "id": "ac21b9f2-5b56-4dbf-9677-7395d29a9fb3",
   "metadata": {},
   "outputs": [
    {
     "name": "stdout",
     "output_type": "stream",
     "text": [
      "[   2   80  873   91 1793  370    4    3    0    0    0    0    0    0\n",
      "    0    0    0    0    0    0    0    0    0    0    0    0    0    0\n",
      "    0    0]\n",
      "[   2   29 1067  219  757    4    0    0    0    0    0    0    0    0\n",
      "    0    0    0    0    0    0    0    0    0    0    0    0    0    0\n",
      "    0    0]\n",
      "[  29 1067  219  757    4    3    0    0    0    0    0    0    0    0\n",
      "    0    0    0    0    0    0    0    0    0    0    0    0    0    0\n",
      "    0    0]\n"
     ]
    }
   ],
   "source": [
    "for (src_enc_sample, dst_in_enc_sample), dst_out_enc_sample in ds_val.take(1):\n",
    "    print(src_enc_sample[0].numpy())\n",
    "    print(dst_in_enc_sample[0].numpy())\n",
    "    print(dst_out_enc_sample[0].numpy())"
   ]
  },
  {
   "cell_type": "markdown",
   "id": "8116042d",
   "metadata": {},
   "source": [
    "## Display utils"
   ]
  },
  {
   "cell_type": "code",
   "execution_count": 20,
   "id": "6de0eaf6",
   "metadata": {},
   "outputs": [],
   "source": [
    "def show_heatmaps(matrices, xlabel, ylabel, titles=None, figsize=(5, 5), cmap='Reds'):\n",
    "    \"\"\"Show heatmaps of matrices.\"\"\"\n",
    "    num_rows, num_cols, _, _ = matrices.shape\n",
    "    fig, axes = plt.subplots(num_rows, num_cols, figsize=figsize,\n",
    "                                 sharex=True, sharey=True, squeeze=False)\n",
    "    for i, (row_axes, row_matrices) in enumerate(zip(axes, matrices)):\n",
    "        for j, (ax, matrix) in enumerate(zip(row_axes, row_matrices)):\n",
    "            pcm = ax.imshow(matrix.numpy(), cmap=cmap)\n",
    "            if i == num_rows - 1:\n",
    "                ax.set_xlabel(xlabel)\n",
    "            if j == 0:\n",
    "                ax.set_ylabel(ylabel)\n",
    "            if titles:\n",
    "                ax.set_title(titles[j])\n",
    "    fig.colorbar(pcm, ax=axes, shrink=0.6);"
   ]
  },
  {
   "cell_type": "code",
   "execution_count": 21,
   "id": "1ab12b98",
   "metadata": {},
   "outputs": [
    {
     "name": "stdout",
     "output_type": "stream",
     "text": [
      "tf.Tensor(\n",
      "[[[[1. 0. 0. 0. 0. 0. 0. 0. 0. 0.]\n",
      "   [0. 1. 0. 0. 0. 0. 0. 0. 0. 0.]\n",
      "   [0. 0. 1. 0. 0. 0. 0. 0. 0. 0.]\n",
      "   [0. 0. 0. 1. 0. 0. 0. 0. 0. 0.]\n",
      "   [0. 0. 0. 0. 1. 0. 0. 0. 0. 0.]\n",
      "   [0. 0. 0. 0. 0. 1. 0. 0. 0. 0.]\n",
      "   [0. 0. 0. 0. 0. 0. 1. 0. 0. 0.]\n",
      "   [0. 0. 0. 0. 0. 0. 0. 1. 0. 0.]\n",
      "   [0. 0. 0. 0. 0. 0. 0. 0. 1. 0.]\n",
      "   [0. 0. 0. 0. 0. 0. 0. 0. 0. 1.]]]], shape=(1, 1, 10, 10), dtype=float32)\n"
     ]
    },
    {
     "data": {
      "image/png": "[encoded data removed]",
      "text/plain": [
       "<Figure size 360x360 with 2 Axes>"
      ]
     },
     "metadata": {
      "needs_background": "light"
     },
     "output_type": "display_data"
    }
   ],
   "source": [
    "attention_weights = tf.reshape(tf.eye(10), (1, 1, 10, 10))\n",
    "print(attention_weights)\n",
    "\n",
    "show_heatmaps(attention_weights, xlabel=\"Keys\", ylabel=\"Queries\")"
   ]
  },
  {
   "cell_type": "markdown",
   "id": "fff09ee0",
   "metadata": {},
   "source": [
    "## Utils"
   ]
  },
  {
   "cell_type": "code",
   "execution_count": 22,
   "id": "753c48ea",
   "metadata": {},
   "outputs": [],
   "source": [
    "def masked_softmax(X, valid_lens):  #@save\n",
    "    \"\"\"Perform softmax operation by masking elements on the last axis.\"\"\"\n",
    "    # X: 3D tensor, valid_lens: 1D or 2D tensor\n",
    "    def _sequence_mask(X, valid_len, value=0):\n",
    "        maxlen = X.shape[1]\n",
    "        mask = tf.range(start=0, limit=maxlen, dtype=tf.float32)[\n",
    "            None, :] < tf.cast(valid_len[:, None], dtype=tf.float32)\n",
    "\n",
    "        if len(X.shape) == 3:\n",
    "            return tf.where(tf.expand_dims(mask, axis=-1), X, value)\n",
    "        else:\n",
    "            return tf.where(mask, X, value)\n",
    "\n",
    "    if valid_lens is None:\n",
    "        return tf.nn.softmax(X, axis=-1)\n",
    "    else:\n",
    "        shape = X.shape\n",
    "        if len(valid_lens.shape) == 1:\n",
    "            valid_lens = tf.repeat(valid_lens, repeats=shape[1])\n",
    "\n",
    "        else:\n",
    "            valid_lens = tf.reshape(valid_lens, shape=-1)\n",
    "        # On the last axis, replace masked elements with a very large negative\n",
    "        # value, whose exponentiation outputs 0\n",
    "        X = _sequence_mask(tf.reshape(X, shape=(-1, shape[-1])), valid_lens,\n",
    "                           value=-1e6)\n",
    "        return tf.nn.softmax(tf.reshape(X, shape=shape), axis=-1)"
   ]
  },
  {
   "cell_type": "code",
   "execution_count": 23,
   "id": "1e7cb538",
   "metadata": {},
   "outputs": [
    {
     "name": "stdout",
     "output_type": "stream",
     "text": [
      "tf.Tensor(\n",
      "[[[0.80791485 0.61488914 0.34532285 0.05979419]\n",
      "  [0.89229083 0.96587384 0.51980937 0.23290789]]\n",
      "\n",
      " [[0.82018805 0.11638951 0.39705026 0.5180155 ]\n",
      "  [0.6533445  0.8658799  0.86903846 0.39571452]]], shape=(2, 2, 4), dtype=float32)\n"
     ]
    }
   ],
   "source": [
    "inputs = tf.random.uniform(shape=(2, 2, 4))  # batch, d1 x d2\n",
    "print(inputs)"
   ]
  },
  {
   "cell_type": "code",
   "execution_count": 24,
   "id": "5759fe8b",
   "metadata": {},
   "outputs": [
    {
     "data": {
      "text/plain": [
       "<tf.Tensor: shape=(2, 4), dtype=float32, numpy=\n",
       "array([[0.64624524, 0.6095421 , 0.42499542, 0.31921726],\n",
       "       [0.5814235 , 0.46222824, 0.51863205, 0.4377161 ]], dtype=float32)>"
      ]
     },
     "execution_count": 24,
     "metadata": {},
     "output_type": "execute_result"
    }
   ],
   "source": [
    "tf.math.reduce_sum(tf.nn.softmax(inputs, axis=-1), axis=1)"
   ]
  },
  {
   "cell_type": "markdown",
   "id": "26abf6a4-ba88-4f69-a850-1a7c3a956eaa",
   "metadata": {},
   "source": [
    "## Model definition"
   ]
  },
  {
   "cell_type": "code",
   "execution_count": 25,
   "id": "e4e979e4-8f68-4c3d-bdd4-272945a6afd0",
   "metadata": {},
   "outputs": [],
   "source": [
    "RNN_UNITS = 128"
   ]
  },
  {
   "cell_type": "code",
   "execution_count": 26,
   "id": "e3fbeac4-c874-40f6-8160-0d332936326c",
   "metadata": {},
   "outputs": [],
   "source": [
    "class ShapeChecker():\n",
    "    def __init__(self):\n",
    "    # Keep a cache of every axis-name seen\n",
    "        self.shapes = {}\n",
    "\n",
    "    def __call__(self, tensor, names, broadcast=False):\n",
    "        if not tf.executing_eagerly():\n",
    "            return\n",
    "\n",
    "        parsed = einops.parse_shape(tensor, names)\n",
    "\n",
    "        for name, new_dim in parsed.items():\n",
    "            old_dim = self.shapes.get(name, None)\n",
    "\n",
    "            if (broadcast and new_dim == 1):\n",
    "                continue\n",
    "\n",
    "            if old_dim is None:\n",
    "                # If the axis name is new, add its length to the cache.\n",
    "                self.shapes[name] = new_dim\n",
    "                continue\n",
    "\n",
    "            if new_dim != old_dim:\n",
    "                raise ValueError(f\"Shape mismatch for dimension: '{name}'\\n\"\n",
    "                                 f\"    found: {new_dim}\\n\"\n",
    "                                 f\"    expected: {old_dim}\\n\")"
   ]
  },
  {
   "cell_type": "markdown",
   "id": "c95fa97b",
   "metadata": {},
   "source": [
    "### Encoder"
   ]
  },
  {
   "cell_type": "code",
   "execution_count": 109,
   "id": "879beed4-9bb2-4f83-8318-7a0ce2a0d0c7",
   "metadata": {},
   "outputs": [],
   "source": [
    "class Encoder(M.Model):\n",
    "    \n",
    "    def __init__(self, vectorizer: L.TextVectorization, units: int):\n",
    "        super(Encoder, self).__init__()\n",
    "        self.vectorizer = vectorizer\n",
    "        self.vocab_size = self.vectorizer.vocabulary_size()\n",
    "        self.units = units \n",
    "        \n",
    "        # Layers\n",
    "        self.embedding = L.Embedding(\n",
    "            input_dim=self.vocab_size,\n",
    "            output_dim=self.units,\n",
    "            mask_zero=True\n",
    "        )\n",
    "        self.rnn = L.Bidirectional(\n",
    "            layer=L.GRU(\n",
    "                units=self.units,\n",
    "                return_sequences=True,\n",
    "                recurrent_initializer=\"glorot_uniform\",\n",
    "                dropout=0.2,\n",
    "                recurrent_dropout=0.2,\n",
    "            ),\n",
    "            merge_mode=\"sum\",\n",
    "        )\n",
    "    \n",
    "    def call(self, x):\n",
    "        x = self.embedding(x)\n",
    "        x = self.rnn(x)\n",
    "        return x\n",
    "    \n",
    "    def convert_input(self, texts):\n",
    "        t_texts = tf.convert_to_tensor(texts)\n",
    "        if len(t_texts.shape) == 0:\n",
    "            t_texts = tf.convert_to_tensor(t_texts)[tf.newaxis]\n",
    "        src = self.vectorizer(texts).to_tensor()\n",
    "        src_enc = self(src)\n",
    "        return src_enc    "
   ]
  },
  {
   "cell_type": "code",
   "execution_count": 110,
   "id": "0191a37e-764a-4644-b1f8-e53ea328f4f6",
   "metadata": {},
   "outputs": [],
   "source": [
    "encoder = Encoder(vectorizer=vectorizer_src, units=RNN_UNITS)"
   ]
  },
  {
   "cell_type": "code",
   "execution_count": 111,
   "id": "bef98530-368d-422d-b531-57cbfe3bd9c8",
   "metadata": {},
   "outputs": [
    {
     "data": {
      "text/plain": [
       "TensorShape([64, 30, 128])"
      ]
     },
     "execution_count": 111,
     "metadata": {},
     "output_type": "execute_result"
    }
   ],
   "source": [
    "encoder(src_enc_sample).shape  # batch, padded width, rnn units * 2 (b/c bidirectional)"
   ]
  },
  {
   "cell_type": "markdown",
   "id": "8315acfe-9a68-4cb9-abf4-42d8f53c2168",
   "metadata": {},
   "source": [
    "- query: last translated word\n",
    "- key: hidden states of the encoder (used to find the attention scores)\n",
    "- value: hidden states of the encoder; weighted by the attention scores form the context vector"
   ]
  },
  {
   "cell_type": "markdown",
   "id": "5d607020",
   "metadata": {},
   "source": [
    "### Additive attention"
   ]
  },
  {
   "cell_type": "code",
   "execution_count": 112,
   "id": "edb7bf4c",
   "metadata": {},
   "outputs": [],
   "source": [
    "class AdditiveAttention(L.Layer):\n",
    "    \n",
    "    def __init__(self, units: int):\n",
    "        super(AdditiveAttention, self).__init__()\n",
    "        self.w1 = L.Dense(units, use_bias=False)\n",
    "        self.w2 = L.Dense(units, use_bias=False)\n",
    "        self.v  = L.Dense(1, use_bias=False)\n",
    "        \n",
    "    def call(self, query, key, values):\n",
    "        shape_checker = ShapeChecker()\n",
    "        shape_checker(query, \"batch q units_q\")\n",
    "        shape_checker(key, \"batch k units_k\")\n",
    "        shape_checker(values, \"batch k units_v\")\n",
    "        q = self.w1(query)\n",
    "        k = self.w2(key)\n",
    "        # Prep dimensions\n",
    "        qq = tf.expand_dims(q, axis=2)\n",
    "        kk = tf.expand_dims(k, axis=1)\n",
    "        # Get scores\n",
    "        scores = tf.squeeze(self.v(tf.nn.tanh(qq + kk)))\n",
    "        attention_weights = tf.nn.softmax(scores, axis=1)  # (batch_size, max_length)\n",
    "        context = tf.matmul(attention_weights, values)\n",
    "        # shape_checker(context, \"batch q units_v\")\n",
    "        # shape_checker(attention_weights, \"batch q k\")\n",
    "        return context, attention_weights"
   ]
  },
  {
   "cell_type": "markdown",
   "id": "0d275ad2-612e-47c2-be99-0fda70ddfff5",
   "metadata": {},
   "source": [
    "https://towardsdatascience.com/implementing-neural-machine-translation-with-attention-using-tensorflow-fc9c6f26155f"
   ]
  },
  {
   "cell_type": "markdown",
   "id": "a2b70d0f",
   "metadata": {},
   "source": [
    "attention_layer = AdditiveAttention(16)\n",
    "\n",
    "context, attention_weights = attention_layer(\n",
    "    query=query,\n",
    "    key=key,\n",
    "    values=values,\n",
    ")\n",
    "tmp = tf.reshape(attention_weights, shape=(1, 1) + attention_weights.shape)\n",
    "show_heatmaps(tmp, xlabel=\"Keys\", ylabel=\"Queries\")"
   ]
  },
  {
   "cell_type": "code",
   "execution_count": 113,
   "id": "e7b8e5ad",
   "metadata": {},
   "outputs": [],
   "source": [
    "class CrossAttention(L.Layer):\n",
    "    def __init__(self, units, **kwargs):\n",
    "        super().__init__()\n",
    "        self.mha = L.MultiHeadAttention(key_dim=units, num_heads=1, **kwargs)\n",
    "        self.layernorm = L.LayerNormalization()\n",
    "        self.add = L.Add()\n",
    "\n",
    "    def call(self, x, context, values):\n",
    "        shape_checker = ShapeChecker()\n",
    "\n",
    "        shape_checker(x, 'batch t units')\n",
    "        shape_checker(context, 'batch s units')\n",
    "\n",
    "        attn_output, attn_scores = self.mha(\n",
    "            query=x,\n",
    "            value=context,\n",
    "            return_attention_scores=True)\n",
    "\n",
    "        shape_checker(x, 'batch t units')\n",
    "        shape_checker(attn_scores, 'batch heads t s')\n",
    "\n",
    "        # Cache the attention scores for plotting later.\n",
    "        attn_scores = tf.reduce_mean(attn_scores, axis=1)\n",
    "        shape_checker(attn_scores, 'batch t s')\n",
    "        self.last_attention_weights = attn_scores\n",
    "\n",
    "        x = self.add([x, attn_output])\n",
    "        x = self.layernorm(x)\n",
    "\n",
    "        return x, self.last_attention_weights"
   ]
  },
  {
   "cell_type": "code",
   "execution_count": 114,
   "id": "94b511cc",
   "metadata": {},
   "outputs": [
    {
     "name": "stdout",
     "output_type": "stream",
     "text": [
      "dst_in_enc_sample.shape=TensorShape([64, 30])\n",
      "enc_hidden.shape=TensorShape([64, 30, 128]), (batch, s, units)\n",
      "target.shape=TensorShape([64, 30, 128]), (batch, t, units)\n",
      "attention_values.shape=TensorShape([64, 30, 128]), (batch, t, units)\n",
      "weights.shape=TensorShape([64, 30, 30]), (batch, t, s)\n"
     ]
    },
    {
     "data": {
      "text/plain": [
       "Text(0.5, 1.0, 'Attention weights')"
      ]
     },
     "execution_count": 114,
     "metadata": {},
     "output_type": "execute_result"
    },
    {
     "data": {
      "image/png": "[encoded data removed]",
      "text/plain": [
       "<Figure size 432x288 with 2 Axes>"
      ]
     },
     "metadata": {
      "needs_background": "light"
     },
     "output_type": "display_data"
    }
   ],
   "source": [
    "units = RNN_UNITS\n",
    "attention = CrossAttention(units)\n",
    "embedding_src = L.Embedding(vectorizer_src.vocabulary_size(), output_dim=units, mask_zero=True)\n",
    "embedding_dst = L.Embedding(vectorizer_dst.vocabulary_size(), output_dim=units, mask_zero=True)\n",
    "\n",
    "print(f\"{dst_in_enc_sample.shape=}\")\n",
    "\n",
    "enc_hidden = embedding_src(src_enc_sample)\n",
    "target = embedding_dst(dst_in_enc_sample)\n",
    "attention_values, weights = attention(target, enc_hidden, enc_hidden)\n",
    "\n",
    "\n",
    "print(f\"{enc_hidden.shape=}, (batch, s, units)\")\n",
    "\n",
    "print(f\"{target.shape=}, (batch, t, units)\")\n",
    "print(f\"{attention_values.shape=}, (batch, t, units)\")\n",
    "\n",
    "print(f\"{weights.shape=}, (batch, t, s)\")\n",
    "\n",
    "mask = (src_enc_sample != 0).numpy()\n",
    "\n",
    "plt.subplot(1, 2, 1)\n",
    "plt.pcolormesh(mask)\n",
    "plt.title('Mask');\n",
    "\n",
    "plt.subplot(1, 2, 2)\n",
    "plt.pcolormesh(mask * weights[:, 0, :])\n",
    "plt.title('Attention weights')"
   ]
  },
  {
   "cell_type": "markdown",
   "id": "52d9fe4d",
   "metadata": {},
   "source": [
    "### Decoder"
   ]
  },
  {
   "cell_type": "code",
   "execution_count": 115,
   "id": "fdca5a66",
   "metadata": {},
   "outputs": [],
   "source": [
    "class Decoder(M.Model):\n",
    "    \n",
    "    @classmethod\n",
    "    def add_method(cls, fun):\n",
    "        setattr(cls, fun.__name__, fun)\n",
    "        return fun\n",
    "    \n",
    "    def __init__(self, vectorizer: L.TextVectorization, units: int):\n",
    "        super(Decoder, self).__init__()\n",
    "        self.vectorizer = vectorizer\n",
    "        self.vocab_size = self.vectorizer.vocabulary_size()\n",
    "        \n",
    "        self.word_to_id = L.StringLookup(\n",
    "            vocabulary=vectorizer.get_vocabulary(),\n",
    "            mask_token='',\n",
    "            oov_token='[UNK]'\n",
    "        )\n",
    "        self.id_to_word = L.StringLookup(\n",
    "            vocabulary=vectorizer.get_vocabulary(),\n",
    "            mask_token='',\n",
    "            oov_token='[UNK]',\n",
    "            invert=True\n",
    "        )\n",
    "        self.start_token = self.word_to_id('[START]')\n",
    "        self.end_token = self.word_to_id('[END]')\n",
    "        self.units = units \n",
    "        \n",
    "        # Layers\n",
    "        self.embedding = L.Embedding(\n",
    "            input_dim=self.vocab_size,\n",
    "            output_dim=self.units,\n",
    "            mask_zero=True\n",
    "        )\n",
    "        self.rnn = L.GRU(\n",
    "            units=self.units,\n",
    "            return_sequences=True,\n",
    "            return_state=True,\n",
    "            recurrent_initializer=\"glorot_uniform\",\n",
    "            dropout=0.2,\n",
    "            recurrent_dropout=0.2,\n",
    "        )\n",
    "        \n",
    "        self.attention = CrossAttention(self.units)\n",
    "        \n",
    "        self.output_layer = L.Dense(self.vocab_size)\n",
    "        \n",
    "        self.last_attention_weights = None\n",
    "    \n",
    "    def call(self, x, context, state=None, return_state=False):\n",
    "        shape_checker = ShapeChecker()\n",
    "        shape_checker(x, 'batch t')\n",
    "        shape_checker(context, 'batch s units')\n",
    "        # 1. Lookup the embeddings\n",
    "        x = self.embedding(x)\n",
    "        shape_checker(x, 'batch t units')\n",
    "        # 2. Process the target sequence.\n",
    "        x, state = self.rnn(x, initial_state=state)\n",
    "        shape_checker(x, 'batch t units')\n",
    "        # 3. Use the RNN output as the query for the attention over the context.\n",
    "        x, weights = self.attention(x, context, context)\n",
    "        self.last_attention_weights = weights\n",
    "        shape_checker(x, 'batch t units')\n",
    "        shape_checker(self.last_attention_weights, 'batch t s')\n",
    "        # Step 4. Generate logit predictions for the next token.\n",
    "        logits = self.output_layer(x)\n",
    "        shape_checker(logits, 'batch t target_vocab_size')\n",
    "        if return_state:\n",
    "            return logits, state\n",
    "        else:\n",
    "            return logits"
   ]
  },
  {
   "cell_type": "code",
   "execution_count": 116,
   "id": "b34a8a72",
   "metadata": {},
   "outputs": [
    {
     "name": "stdout",
     "output_type": "stream",
     "text": [
      "enc_hidden.shape=TensorShape([64, 30, 128]): (batch, s, units)\n",
      "dst_in_enc_sample.shape=TensorShape([64, 30]): (batch, t) \n",
      "logits.shape=TensorShape([64, 30, 13238]): (batch, t, target_vocabulary_size) \n"
     ]
    }
   ],
   "source": [
    "decoder = Decoder(vectorizer_dst, RNN_UNITS)\n",
    "\n",
    "enc_hidden = embedding_src(src_enc_sample)\n",
    "\n",
    "\n",
    "logits = decoder(x=dst_in_enc_sample, context=enc_hidden)\n",
    "\n",
    "print(f'{enc_hidden.shape=}: (batch, s, units)')\n",
    "print(f'{dst_in_enc_sample.shape=}: (batch, t) ')\n",
    "print(f'{logits.shape=}: (batch, t, target_vocabulary_size) ')"
   ]
  },
  {
   "cell_type": "code",
   "execution_count": 117,
   "id": "d2d2da22",
   "metadata": {},
   "outputs": [],
   "source": [
    "@Decoder.add_method\n",
    "def get_initial_state(self, context):\n",
    "    batch_size = tf.shape(context)[0]\n",
    "    start_tokens = tf.fill([batch_size, 1], self.start_token)\n",
    "    done = tf.zeros([batch_size, 1], dtype=tf.bool)\n",
    "    embedded = self.embedding(start_tokens)\n",
    "    return start_tokens, done, self.rnn.get_initial_state(embedded)[0]"
   ]
  },
  {
   "cell_type": "code",
   "execution_count": 118,
   "id": "3365aa78",
   "metadata": {},
   "outputs": [],
   "source": [
    "@Decoder.add_method\n",
    "def tokens_to_text(self, tokens):\n",
    "    words = self.id_to_word(tokens)\n",
    "    result = tf.strings.reduce_join(words, axis=-1, separator=' ')\n",
    "    result = tf.strings.regex_replace(result, '^ *\\[START\\] *', '')\n",
    "    result = tf.strings.regex_replace(result, ' *\\[END\\] *$', '')\n",
    "    return result"
   ]
  },
  {
   "cell_type": "code",
   "execution_count": 119,
   "id": "f3068bfa",
   "metadata": {},
   "outputs": [],
   "source": [
    "@Decoder.add_method\n",
    "def get_next_token(self, x, context, done, state, temperature = 0.0):\n",
    "    logits, state = self(\n",
    "        x=x,\n",
    "        context=context,\n",
    "        state=state,\n",
    "        return_state=True,\n",
    "    ) \n",
    "\n",
    "    if temperature == 0.0:\n",
    "        next_token = tf.argmax(logits, axis=-1)\n",
    "    else:\n",
    "        logits = logits[:, -1, :]/temperature\n",
    "        next_token = tf.random.categorical(logits, num_samples=1)\n",
    "\n",
    "    # If a sequence produces an `end_token`, set it `done`\n",
    "    done = done | (next_token == self.end_token)\n",
    "    # Once a sequence is done it only produces 0-padding.\n",
    "    next_token = tf.where(done, tf.constant(0, dtype=tf.int64), next_token)\n",
    "\n",
    "    return next_token, done, state"
   ]
  },
  {
   "cell_type": "code",
   "execution_count": 120,
   "id": "0c386436",
   "metadata": {},
   "outputs": [
    {
     "data": {
      "text/plain": [
       "array([b'lifting twentyfive uncanny camels let filthy rattlesnake rosetta delegates lefthanded',\n",
       "       b'conquered reserve planted sprained advantage faking sitting sinister tour hall',\n",
       "       b'knowing cancer hops tuition volumes andrew earths holiday benches lends'],\n",
       "      dtype=object)"
      ]
     },
     "execution_count": 120,
     "metadata": {},
     "output_type": "execute_result"
    }
   ],
   "source": [
    "# Setup the loop variables.\n",
    "start_tokens, done, state = decoder.get_initial_state(enc_hidden)\n",
    "tokens = []\n",
    "\n",
    "for n in range(10):\n",
    "    # Run one step.\n",
    "    next_token, done, state = decoder.get_next_token(\n",
    "        x=start_tokens, \n",
    "        context=enc_hidden, \n",
    "        done=done, \n",
    "        state=state, \n",
    "        temperature=1.0\n",
    "    )\n",
    "    # Add the token to the output.\n",
    "    tokens.append(next_token)\n",
    "\n",
    "# Stack all the tokens together.\n",
    "tokens = tf.concat(tokens, axis=-1) # (batch, t)\n",
    "\n",
    "# Convert the tokens back to a a string\n",
    "result = decoder.tokens_to_text(tokens)\n",
    "result[:3].numpy()"
   ]
  },
  {
   "cell_type": "markdown",
   "id": "10b1f31e",
   "metadata": {},
   "source": [
    "### Translator"
   ]
  },
  {
   "cell_type": "code",
   "execution_count": 121,
   "id": "106f508c",
   "metadata": {},
   "outputs": [],
   "source": [
    "class Translator(tf.keras.Model):\n",
    "    @classmethod\n",
    "    def add_method(cls, fun):\n",
    "        setattr(cls, fun.__name__, fun)\n",
    "        return fun\n",
    "\n",
    "    def __init__(self, units, context_text_processor, target_text_processor):\n",
    "        super().__init__()\n",
    "        # Build the encoder and decoder\n",
    "        encoder = Encoder(context_text_processor, units)\n",
    "        decoder = Decoder(target_text_processor, units)\n",
    "\n",
    "        self.encoder = encoder\n",
    "        self.decoder = decoder\n",
    "\n",
    "    def call(self, inputs):\n",
    "        context, x = inputs\n",
    "        context = self.encoder(context)\n",
    "        logits = self.decoder(context=context, x=x)\n",
    "\n",
    "        #TODO(b/250038731): remove this\n",
    "        try:\n",
    "            # Delete the keras mask, so keras doesn't scale the loss+accuracy. \n",
    "            del logits._keras_mask\n",
    "        except AttributeError:\n",
    "            pass\n",
    "\n",
    "        return logits"
   ]
  },
  {
   "cell_type": "code",
   "execution_count": 123,
   "id": "fc01f8d5",
   "metadata": {},
   "outputs": [
    {
     "name": "stdout",
     "output_type": "stream",
     "text": [
      "Context tokens, shape: (batch, s, units) (64, 30)\n",
      "Target tokens, shape: (batch, t) (64, 30)\n",
      "logits, shape: (batch, t, target_vocabulary_size) (64, 30, 13238)\n"
     ]
    }
   ],
   "source": [
    "model = Translator(RNN_UNITS, vectorizer_src, vectorizer_dst)\n",
    "\n",
    "logits = model((src_enc_sample, dst_in_enc_sample))\n",
    "\n",
    "print(f'Context tokens, shape: (batch, s, units) {src_enc_sample.shape}')\n",
    "print(f'Target tokens, shape: (batch, t) {dst_in_enc_sample.shape}')\n",
    "print(f'logits, shape: (batch, t, target_vocabulary_size) {logits.shape}')"
   ]
  },
  {
   "cell_type": "markdown",
   "id": "a2d3b11f",
   "metadata": {},
   "source": [
    "## Train"
   ]
  },
  {
   "cell_type": "code",
   "execution_count": 124,
   "id": "9375786e",
   "metadata": {},
   "outputs": [],
   "source": [
    "def masked_loss(y_true, y_pred):\n",
    "    # Calculate the loss for each item in the batch.\n",
    "    loss_fn = tf.keras.losses.SparseCategoricalCrossentropy(\n",
    "        from_logits=True, reduction='none')\n",
    "    loss = loss_fn(y_true, y_pred)\n",
    "\n",
    "    # Mask off the losses on padding.\n",
    "    mask = tf.cast(y_true != 0, loss.dtype)\n",
    "    loss *= mask\n",
    "\n",
    "    # Return the total.\n",
    "    return tf.reduce_sum(loss)/tf.reduce_sum(mask)"
   ]
  },
  {
   "cell_type": "code",
   "execution_count": 125,
   "id": "b588fb33",
   "metadata": {},
   "outputs": [],
   "source": [
    "def masked_acc(y_true, y_pred):\n",
    "    # Calculate the loss for each item in the batch.\n",
    "    y_pred = tf.argmax(y_pred, axis=-1)\n",
    "    y_pred = tf.cast(y_pred, y_true.dtype)\n",
    "\n",
    "    match = tf.cast(y_true == y_pred, tf.float32)\n",
    "    mask = tf.cast(y_true != 0, tf.float32)\n",
    "\n",
    "    return tf.reduce_sum(match)/tf.reduce_sum(mask)"
   ]
  },
  {
   "cell_type": "code",
   "execution_count": 126,
   "id": "d75e0a5d",
   "metadata": {},
   "outputs": [],
   "source": [
    "model.compile(optimizer='adam',\n",
    "              loss=masked_loss, \n",
    "              metrics=[masked_acc, masked_loss])"
   ]
  },
  {
   "cell_type": "code",
   "execution_count": 128,
   "id": "71e063c5",
   "metadata": {},
   "outputs": [
    {
     "data": {
      "text/plain": [
       "{'expected_loss': 9.490847, 'expected_acc': 7.554011179936546e-05}"
      ]
     },
     "execution_count": 128,
     "metadata": {},
     "output_type": "execute_result"
    }
   ],
   "source": [
    "vocab_size = 1.0 * vectorizer_dst.vocabulary_size()\n",
    "\n",
    "{\"expected_loss\": tf.math.log(vocab_size).numpy(),\n",
    " \"expected_acc\": 1/vocab_size}"
   ]
  },
  {
   "cell_type": "code",
   "execution_count": 130,
   "id": "63959af0",
   "metadata": {},
   "outputs": [
    {
     "name": "stdout",
     "output_type": "stream",
     "text": [
      "20/20 [==============================] - 5s 140ms/step - loss: 9.4948 - masked_acc: 2.0223e-04 - masked_loss: 9.4948\n"
     ]
    },
    {
     "data": {
      "text/plain": [
       "{'loss': 9.49478816986084,\n",
       " 'masked_acc': 0.00020222962484695017,\n",
       " 'masked_loss': 9.49478816986084}"
      ]
     },
     "execution_count": 130,
     "metadata": {},
     "output_type": "execute_result"
    }
   ],
   "source": [
    "model.evaluate(ds_val, steps=20, return_dict=True)"
   ]
  },
  {
   "cell_type": "code",
   "execution_count": 133,
   "id": "54e1ca9c",
   "metadata": {},
   "outputs": [
    {
     "name": "stdout",
     "output_type": "stream",
     "text": [
      "Epoch 1/100\n",
      "100/100 [==============================] - 53s 442ms/step - loss: 5.7887 - masked_acc: 0.1861 - masked_loss: 5.7887 - val_loss: 4.6319 - val_masked_acc: 0.2863 - val_masked_loss: 4.6319\n",
      "Epoch 2/100\n",
      "100/100 [==============================] - 46s 457ms/step - loss: 4.2565 - masked_acc: 0.3465 - masked_loss: 4.2565 - val_loss: 3.9409 - val_masked_acc: 0.3824 - val_masked_loss: 3.9409\n",
      "Epoch 3/100\n",
      "100/100 [==============================] - 40s 403ms/step - loss: 3.6827 - masked_acc: 0.4082 - masked_loss: 3.6827 - val_loss: 3.4003 - val_masked_acc: 0.4509 - val_masked_loss: 3.4003\n",
      "Epoch 4/100\n",
      "100/100 [==============================] - 43s 427ms/step - loss: 3.2523 - masked_acc: 0.4637 - masked_loss: 3.2523 - val_loss: 3.0300 - val_masked_acc: 0.4982 - val_masked_loss: 3.0300\n",
      "Epoch 5/100\n",
      "100/100 [==============================] - 41s 409ms/step - loss: 2.9467 - masked_acc: 0.5180 - masked_loss: 2.9467 - val_loss: 2.7868 - val_masked_acc: 0.5447 - val_masked_loss: 2.7868\n",
      "Epoch 6/100\n",
      "100/100 [==============================] - 52s 519ms/step - loss: 2.6920 - masked_acc: 0.5508 - masked_loss: 2.6920 - val_loss: 2.5418 - val_masked_acc: 0.5697 - val_masked_loss: 2.5418\n",
      "Epoch 7/100\n",
      "100/100 [==============================] - 82s 818ms/step - loss: 2.4543 - masked_acc: 0.5836 - masked_loss: 2.4543 - val_loss: 2.3390 - val_masked_acc: 0.6002 - val_masked_loss: 2.3390\n",
      "Epoch 8/100\n",
      "100/100 [==============================] - 79s 793ms/step - loss: 2.2884 - masked_acc: 0.6078 - masked_loss: 2.2884 - val_loss: 2.1722 - val_masked_acc: 0.6262 - val_masked_loss: 2.1722\n",
      "Epoch 9/100\n",
      "100/100 [==============================] - 72s 716ms/step - loss: 2.1222 - masked_acc: 0.6355 - masked_loss: 2.1222 - val_loss: 2.0263 - val_masked_acc: 0.6477 - val_masked_loss: 2.0263\n",
      "Epoch 10/100\n",
      "100/100 [==============================] - 61s 613ms/step - loss: 1.9859 - masked_acc: 0.6536 - masked_loss: 1.9859 - val_loss: 1.8800 - val_masked_acc: 0.6687 - val_masked_loss: 1.8800\n",
      "Epoch 11/100\n",
      "100/100 [==============================] - 76s 763ms/step - loss: 1.8981 - masked_acc: 0.6687 - masked_loss: 1.8981 - val_loss: 1.6758 - val_masked_acc: 0.7028 - val_masked_loss: 1.6758\n",
      "Epoch 12/100\n",
      "100/100 [==============================] - 76s 758ms/step - loss: 1.7857 - masked_acc: 0.6864 - masked_loss: 1.7857 - val_loss: 1.6434 - val_masked_acc: 0.7122 - val_masked_loss: 1.6434\n",
      "Epoch 13/100\n",
      "100/100 [==============================] - 75s 746ms/step - loss: 1.6613 - masked_acc: 0.7059 - masked_loss: 1.6613 - val_loss: 1.4690 - val_masked_acc: 0.7323 - val_masked_loss: 1.4690\n",
      "Epoch 14/100\n",
      "100/100 [==============================] - 51s 503ms/step - loss: 1.5885 - masked_acc: 0.7137 - masked_loss: 1.5885 - val_loss: 1.4536 - val_masked_acc: 0.7366 - val_masked_loss: 1.4536\n",
      "Epoch 15/100\n",
      "100/100 [==============================] - 33s 333ms/step - loss: 1.5345 - masked_acc: 0.7224 - masked_loss: 1.5345 - val_loss: 1.4033 - val_masked_acc: 0.7462 - val_masked_loss: 1.4033\n",
      "Epoch 16/100\n",
      "100/100 [==============================] - 31s 310ms/step - loss: 1.4546 - masked_acc: 0.7340 - masked_loss: 1.4546 - val_loss: 1.3113 - val_masked_acc: 0.7590 - val_masked_loss: 1.3113\n",
      "Epoch 17/100\n",
      "100/100 [==============================] - 32s 317ms/step - loss: 1.4252 - masked_acc: 0.7405 - masked_loss: 1.4252 - val_loss: 1.3115 - val_masked_acc: 0.7583 - val_masked_loss: 1.3115\n",
      "Epoch 18/100\n",
      "100/100 [==============================] - 32s 321ms/step - loss: 1.3584 - masked_acc: 0.7480 - masked_loss: 1.3584 - val_loss: 1.2630 - val_masked_acc: 0.7711 - val_masked_loss: 1.2630\n",
      "Epoch 19/100\n",
      "100/100 [==============================] - 32s 320ms/step - loss: 1.3078 - masked_acc: 0.7564 - masked_loss: 1.3078 - val_loss: 1.1904 - val_masked_acc: 0.7750 - val_masked_loss: 1.1904\n",
      "Epoch 20/100\n",
      "100/100 [==============================] - 32s 317ms/step - loss: 1.3022 - masked_acc: 0.7585 - masked_loss: 1.3022 - val_loss: 1.1353 - val_masked_acc: 0.7824 - val_masked_loss: 1.1353\n",
      "Epoch 21/100\n",
      "100/100 [==============================] - 32s 317ms/step - loss: 1.2580 - masked_acc: 0.7625 - masked_loss: 1.2580 - val_loss: 1.0933 - val_masked_acc: 0.7890 - val_masked_loss: 1.0933\n",
      "Epoch 22/100\n",
      "100/100 [==============================] - 30s 303ms/step - loss: 1.2139 - masked_acc: 0.7724 - masked_loss: 1.2139 - val_loss: 1.1513 - val_masked_acc: 0.7852 - val_masked_loss: 1.1513\n",
      "Epoch 23/100\n",
      "100/100 [==============================] - 34s 340ms/step - loss: 1.1919 - masked_acc: 0.7744 - masked_loss: 1.1919 - val_loss: 1.1080 - val_masked_acc: 0.7942 - val_masked_loss: 1.1080\n",
      "Epoch 24/100\n",
      "100/100 [==============================] - 32s 322ms/step - loss: 1.1518 - masked_acc: 0.7769 - masked_loss: 1.1518 - val_loss: 1.0110 - val_masked_acc: 0.8045 - val_masked_loss: 1.0110\n",
      "Epoch 25/100\n",
      "100/100 [==============================] - 31s 313ms/step - loss: 1.1141 - masked_acc: 0.7836 - masked_loss: 1.1141 - val_loss: 1.0229 - val_masked_acc: 0.8048 - val_masked_loss: 1.0229\n",
      "Epoch 26/100\n",
      "100/100 [==============================] - 31s 309ms/step - loss: 1.0927 - masked_acc: 0.7863 - masked_loss: 1.0927 - val_loss: 1.0136 - val_masked_acc: 0.7989 - val_masked_loss: 1.0136\n",
      "Epoch 27/100\n",
      "100/100 [==============================] - 32s 326ms/step - loss: 1.0891 - masked_acc: 0.7867 - masked_loss: 1.0891 - val_loss: 0.9726 - val_masked_acc: 0.8091 - val_masked_loss: 0.9726\n",
      "Epoch 28/100\n",
      "100/100 [==============================] - 31s 313ms/step - loss: 1.0537 - masked_acc: 0.7919 - masked_loss: 1.0537 - val_loss: 0.9583 - val_masked_acc: 0.8104 - val_masked_loss: 0.9583\n",
      "Epoch 29/100\n",
      "100/100 [==============================] - 30s 299ms/step - loss: 1.0266 - masked_acc: 0.7957 - masked_loss: 1.0266 - val_loss: 0.9678 - val_masked_acc: 0.8079 - val_masked_loss: 0.9678\n",
      "Epoch 30/100\n",
      "100/100 [==============================] - 30s 304ms/step - loss: 1.0112 - masked_acc: 0.7984 - masked_loss: 1.0112 - val_loss: 0.9246 - val_masked_acc: 0.8193 - val_masked_loss: 0.9246\n",
      "Epoch 31/100\n",
      "100/100 [==============================] - 31s 307ms/step - loss: 1.0153 - masked_acc: 0.7986 - masked_loss: 1.0153 - val_loss: 0.8967 - val_masked_acc: 0.8223 - val_masked_loss: 0.8967\n",
      "Epoch 32/100\n",
      "100/100 [==============================] - 31s 306ms/step - loss: 0.9948 - masked_acc: 0.8023 - masked_loss: 0.9948 - val_loss: 0.9338 - val_masked_acc: 0.8122 - val_masked_loss: 0.9338\n",
      "Epoch 33/100\n",
      "100/100 [==============================] - 32s 318ms/step - loss: 0.9738 - masked_acc: 0.8027 - masked_loss: 0.9738 - val_loss: 0.8408 - val_masked_acc: 0.8305 - val_masked_loss: 0.8408\n",
      "Epoch 34/100\n",
      "100/100 [==============================] - 30s 297ms/step - loss: 0.9424 - masked_acc: 0.8074 - masked_loss: 0.9424 - val_loss: 0.8803 - val_masked_acc: 0.8197 - val_masked_loss: 0.8803\n",
      "Epoch 35/100\n",
      "100/100 [==============================] - 30s 299ms/step - loss: 0.9391 - masked_acc: 0.8082 - masked_loss: 0.9391 - val_loss: 0.8562 - val_masked_acc: 0.8251 - val_masked_loss: 0.8562\n",
      "Epoch 36/100\n",
      "100/100 [==============================] - 32s 323ms/step - loss: 0.9066 - masked_acc: 0.8154 - masked_loss: 0.9066 - val_loss: 0.8479 - val_masked_acc: 0.8240 - val_masked_loss: 0.8479\n"
     ]
    }
   ],
   "source": [
    "history = model.fit(\n",
    "    ds_train.repeat(), \n",
    "    epochs=100,\n",
    "    steps_per_epoch = 100,\n",
    "    validation_data=ds_val,\n",
    "    validation_steps = 20,\n",
    "    callbacks=[tf.keras.callbacks.EarlyStopping(patience=3)]\n",
    ")"
   ]
  },
  {
   "cell_type": "code",
   "execution_count": 134,
   "id": "90963496",
   "metadata": {},
   "outputs": [
    {
     "data": {
      "text/plain": [
       "<matplotlib.legend.Legend at 0x7f4e706ff610>"
      ]
     },
     "execution_count": 134,
     "metadata": {},
     "output_type": "execute_result"
    },
    {
     "data": {
      "image/png": "[encoded data removed]",
      "text/plain": [
       "<Figure size 432x288 with 1 Axes>"
      ]
     },
     "metadata": {
      "needs_background": "light"
     },
     "output_type": "display_data"
    }
   ],
   "source": [
    "plt.plot(history.history['loss'], label='loss')\n",
    "plt.plot(history.history['val_loss'], label='val_loss')\n",
    "plt.ylim([0, max(plt.ylim())])\n",
    "plt.xlabel('Epoch #')\n",
    "plt.ylabel('CE/token')\n",
    "plt.legend()"
   ]
  },
  {
   "cell_type": "code",
   "execution_count": 135,
   "id": "4e750649",
   "metadata": {},
   "outputs": [
    {
     "data": {
      "text/plain": [
       "<matplotlib.legend.Legend at 0x7f4e706db7c0>"
      ]
     },
     "execution_count": 135,
     "metadata": {},
     "output_type": "execute_result"
    },
    {
     "data": {
      "image/png": "[encoded data removed]",
      "text/plain": [
       "<Figure size 432x288 with 1 Axes>"
      ]
     },
     "metadata": {
      "needs_background": "light"
     },
     "output_type": "display_data"
    }
   ],
   "source": [
    "plt.plot(history.history['masked_acc'], label='accuracy')\n",
    "plt.plot(history.history['val_masked_acc'], label='val_accuracy')\n",
    "plt.ylim([0, max(plt.ylim())])\n",
    "plt.xlabel('Epoch #')\n",
    "plt.ylabel('CE/token')\n",
    "plt.legend()"
   ]
  },
  {
   "cell_type": "markdown",
   "id": "45f2afe9",
   "metadata": {},
   "source": [
    "## Translate"
   ]
  },
  {
   "cell_type": "code",
   "execution_count": 139,
   "id": "4152b1d0",
   "metadata": {},
   "outputs": [],
   "source": [
    "@Translator.add_method\n",
    "def translate(self,\n",
    "              texts, *,\n",
    "              max_length=50,\n",
    "              temperature=0.0):\n",
    "    # Process the input texts\n",
    "    context = self.encoder.convert_input(texts)\n",
    "    batch_size = tf.shape(texts)[0]\n",
    "\n",
    "    # Setup the loop inputs\n",
    "    tokens = []\n",
    "    attention_weights = []\n",
    "    next_token, done, state = self.decoder.get_initial_state(context)\n",
    "\n",
    "    for _ in range(max_length):\n",
    "        # Generate the next token\n",
    "        next_token, done, state = self.decoder.get_next_token(\n",
    "            next_token, context, done,  state, temperature)\n",
    "\n",
    "        # Collect the generated tokens\n",
    "        tokens.append(next_token)\n",
    "        attention_weights.append(self.decoder.last_attention_weights)\n",
    "\n",
    "        if tf.executing_eagerly() and tf.reduce_all(done):\n",
    "            break\n",
    "\n",
    "    # Stack the lists of tokens and attention weights.\n",
    "    tokens = tf.concat(tokens, axis=-1)   # t*[(batch 1)] -> (batch, t)\n",
    "    self.last_attention_weights = tf.concat(attention_weights, axis=1)  # t*[(batch 1 s)] -> (batch, t s)\n",
    "\n",
    "    result = self.decoder.tokens_to_text(tokens)\n",
    "    return result"
   ]
  },
  {
   "cell_type": "code",
   "execution_count": 156,
   "id": "a858fc31",
   "metadata": {},
   "outputs": [],
   "source": [
    "phrase_ita = \"\"\"\n",
    "subito dopo il risveglio mi faccio una doccia\n",
    "\"\"\""
   ]
  },
  {
   "cell_type": "code",
   "execution_count": 157,
   "id": "15513177",
   "metadata": {},
   "outputs": [
    {
     "data": {
      "text/plain": [
       "'have you been out by home ? '"
      ]
     },
     "execution_count": 157,
     "metadata": {},
     "output_type": "execute_result"
    }
   ],
   "source": [
    "result = model.translate([phrase_ita])\n",
    "result[0].numpy().decode()"
   ]
  },
  {
   "cell_type": "markdown",
   "id": "96fa70f9",
   "metadata": {},
   "source": [
    "## Plot attention"
   ]
  },
  {
   "cell_type": "code",
   "execution_count": 158,
   "id": "6bb97830",
   "metadata": {},
   "outputs": [],
   "source": [
    "@Translator.add_method\n",
    "def plot_attention(self, text, **kwargs):\n",
    "    assert isinstance(text, str)\n",
    "    output = self.translate([text], **kwargs)\n",
    "    output = output[0].numpy().decode()\n",
    "\n",
    "    attention = self.last_attention_weights[0]\n",
    "\n",
    "    context = clean_string(text)\n",
    "    context = context.numpy().decode().split()\n",
    "\n",
    "    output = clean_string(output)\n",
    "    output = output.numpy().decode().split()[1:]\n",
    "\n",
    "    fig = plt.figure(figsize=(10, 10))\n",
    "    ax = fig.add_subplot(1, 1, 1)\n",
    "\n",
    "    ax.matshow(attention, cmap='viridis', vmin=0.0)\n",
    "\n",
    "    fontdict = {'fontsize': 14}\n",
    "\n",
    "    ax.set_xticklabels([''] + context, fontdict=fontdict, rotation=90)\n",
    "    ax.set_yticklabels([''] + output, fontdict=fontdict)\n",
    "\n",
    "    ax.xaxis.set_major_locator(ticker.MultipleLocator(1))\n",
    "    ax.yaxis.set_major_locator(ticker.MultipleLocator(1))\n",
    "\n",
    "    ax.set_xlabel('Input text')\n",
    "    ax.set_ylabel('Output text')"
   ]
  },
  {
   "cell_type": "code",
   "execution_count": 159,
   "id": "b2179771",
   "metadata": {},
   "outputs": [
    {
     "name": "stdout",
     "output_type": "stream",
     "text": [
      "WARNING:tensorflow:5 out of the last 17 calls to <function clean_string at 0x7f4edd8470a0> triggered tf.function retracing. Tracing is expensive and the excessive number of tracings could be due to (1) creating @tf.function repeatedly in a loop, (2) passing tensors with different shapes, (3) passing Python objects instead of tensors. For (1), please define your @tf.function outside of the loop. For (2), @tf.function has reduce_retracing=True option that can avoid unnecessary retracing. For (3), please refer to https://www.tensorflow.org/guide/function#controlling_retracing and https://www.tensorflow.org/api_docs/python/tf/function for  more details.\n"
     ]
    },
    {
     "name": "stderr",
     "output_type": "stream",
     "text": [
      "/tmp/ipykernel_16982/159585980.py:22: UserWarning: FixedFormatter should only be used together with FixedLocator\n",
      "  ax.set_xticklabels([''] + context, fontdict=fontdict, rotation=90)\n",
      "/tmp/ipykernel_16982/159585980.py:23: UserWarning: FixedFormatter should only be used together with FixedLocator\n",
      "  ax.set_yticklabels([''] + output, fontdict=fontdict)\n"
     ]
    },
    {
     "data": {
      "image/png": "[encoded data removed]",
      "text/plain": [
       "<Figure size 720x720 with 1 Axes>"
      ]
     },
     "metadata": {
      "needs_background": "light"
     },
     "output_type": "display_data"
    }
   ],
   "source": [
    "model.plot_attention(phrase_ita) # Are you still home"
   ]
  }
 ],
 "metadata": {
  "kernelspec": {
   "display_name": "ai",
   "language": "python",
   "name": "ai"
  },
  "language_info": {
   "codemirror_mode": {
    "name": "ipython",
    "version": 3
   },
   "file_extension": ".py",
   "mimetype": "text/x-python",
   "name": "python",
   "nbconvert_exporter": "python",
   "pygments_lexer": "ipython3",
   "version": "3.10.3"
  }
 },
 "nbformat": 4,
 "nbformat_minor": 5
}
